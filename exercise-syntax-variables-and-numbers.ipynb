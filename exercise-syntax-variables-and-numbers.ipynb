{
 "cells": [
  {
   "cell_type": "markdown",
   "id": "95af5ab6",
   "metadata": {
    "papermill": {
     "duration": 0.009343,
     "end_time": "2024-09-30T08:20:04.096836",
     "exception": false,
     "start_time": "2024-09-30T08:20:04.087493",
     "status": "completed"
    },
    "tags": []
   },
   "source": [
    "**This notebook is an exercise in the [Python](https://www.kaggle.com/learn/python) course.  You can reference the tutorial at [this link](https://www.kaggle.com/colinmorris/hello-python).**\n",
    "\n",
    "---\n"
   ]
  },
  {
   "cell_type": "markdown",
   "id": "c1ee2f64",
   "metadata": {
    "papermill": {
     "duration": 0.008097,
     "end_time": "2024-09-30T08:20:04.113748",
     "exception": false,
     "start_time": "2024-09-30T08:20:04.105651",
     "status": "completed"
    },
    "tags": []
   },
   "source": [
    "Welcome to your first set of Python coding problems.  If this is your first time using Kaggle Notebooks, welcome! \n",
    "\n",
    "Notebooks are composed of blocks (called \"cells\") of text and code. Each of these is editable, though you'll mainly be editing the code cells to answer some questions.\n",
    "\n",
    "To get started, try running the code cell below (by pressing the ► button, or clicking on the cell and pressing ctrl+enter on your keyboard)."
   ]
  },
  {
   "cell_type": "code",
   "execution_count": 1,
   "id": "29470070",
   "metadata": {
    "execution": {
     "iopub.execute_input": "2024-09-30T08:20:04.132701Z",
     "iopub.status.busy": "2024-09-30T08:20:04.132265Z",
     "iopub.status.idle": "2024-09-30T08:20:04.145017Z",
     "shell.execute_reply": "2024-09-30T08:20:04.143937Z"
    },
    "papermill": {
     "duration": 0.025058,
     "end_time": "2024-09-30T08:20:04.147459",
     "exception": false,
     "start_time": "2024-09-30T08:20:04.122401",
     "status": "completed"
    },
    "tags": []
   },
   "outputs": [
    {
     "name": "stdout",
     "output_type": "stream",
     "text": [
      "You've successfully run some Python code\n",
      "Congratulations!\n"
     ]
    }
   ],
   "source": [
    "print(\"You've successfully run some Python code\")\n",
    "print(\"Congratulations!\")"
   ]
  },
  {
   "cell_type": "markdown",
   "id": "13e0c325",
   "metadata": {
    "papermill": {
     "duration": 0.008963,
     "end_time": "2024-09-30T08:20:04.165161",
     "exception": false,
     "start_time": "2024-09-30T08:20:04.156198",
     "status": "completed"
    },
    "tags": []
   },
   "source": [
    "Try adding another line of code in the cell above and re-running it. \n",
    "\n",
    "Now let's get a little fancier:  Add a new code cell by clicking on an existing code cell, hitting the escape key, and then hitting the `a` or `b` key.  The `a` key will add a cell above the current cell, and `b` adds a cell below.\n",
    "\n",
    "Great! Now you know how to use Notebooks.\n",
    "\n",
    "Each hands-on exercise starts by setting up our feedback and code checking mechanism. Run the code cell below to do that. Then you'll be ready to move on to question 0."
   ]
  },
  {
   "cell_type": "code",
   "execution_count": 2,
   "id": "c340ed96",
   "metadata": {
    "_kg_hide-input": true,
    "_kg_hide-output": true,
    "execution": {
     "iopub.execute_input": "2024-09-30T08:20:04.184114Z",
     "iopub.status.busy": "2024-09-30T08:20:04.183690Z",
     "iopub.status.idle": "2024-09-30T08:20:05.043662Z",
     "shell.execute_reply": "2024-09-30T08:20:05.042415Z"
    },
    "papermill": {
     "duration": 0.872188,
     "end_time": "2024-09-30T08:20:05.046181",
     "exception": false,
     "start_time": "2024-09-30T08:20:04.173993",
     "status": "completed"
    },
    "tags": []
   },
   "outputs": [
    {
     "name": "stdout",
     "output_type": "stream",
     "text": [
      "Setup complete! You're ready to start question 0.\n"
     ]
    }
   ],
   "source": [
    "from learntools.core import binder; binder.bind(globals())\n",
    "from learntools.python.ex1 import *\n",
    "print(\"Setup complete! You're ready to start question 0.\")"
   ]
  },
  {
   "cell_type": "markdown",
   "id": "e23d05f6",
   "metadata": {
    "papermill": {
     "duration": 0.008207,
     "end_time": "2024-09-30T08:20:05.063858",
     "exception": false,
     "start_time": "2024-09-30T08:20:05.055651",
     "status": "completed"
    },
    "tags": []
   },
   "source": [
    "# 0.\n",
    "\n",
    "*This is a silly question intended as an introduction to the format we use for hands-on exercises throughout all Kaggle courses.*\n",
    "\n",
    "**What is your favorite color? **\n",
    "\n",
    "To complete this question, create a variable called `color` in the cell below with an appropriate value. The function call `q0.check()` (which we've already provided in the cell below) will check your answer."
   ]
  },
  {
   "cell_type": "code",
   "execution_count": 3,
   "id": "52baa19d",
   "metadata": {
    "execution": {
     "iopub.execute_input": "2024-09-30T08:20:05.083257Z",
     "iopub.status.busy": "2024-09-30T08:20:05.082221Z",
     "iopub.status.idle": "2024-09-30T08:20:05.092800Z",
     "shell.execute_reply": "2024-09-30T08:20:05.091891Z"
    },
    "papermill": {
     "duration": 0.022521,
     "end_time": "2024-09-30T08:20:05.095004",
     "exception": false,
     "start_time": "2024-09-30T08:20:05.072483",
     "status": "completed"
    },
    "tags": []
   },
   "outputs": [
    {
     "data": {
      "application/javascript": [
       "parent.postMessage({\"jupyterEvent\": \"custom.exercise_interaction\", \"data\": {\"outcomeType\": 1, \"valueTowardsCompletion\": 0.25, \"interactionType\": 1, \"questionType\": 2, \"questionId\": \"0_ExerciseFormatTutorial\", \"learnToolsVersion\": \"0.3.4\", \"failureMessage\": \"\", \"exceptionClass\": \"\", \"trace\": \"\"}}, \"*\")"
      ],
      "text/plain": [
       "<IPython.core.display.Javascript object>"
      ]
     },
     "metadata": {},
     "output_type": "display_data"
    },
    {
     "data": {
      "text/markdown": [
       "<span style=\"color:#33cc33\">Correct:</span> What?! You got it right without needing a hint or anything? Drats. Well hey, you should still continue to the next step to get some practice asking for a hint and checking solutions. (Even though you obviously don't need any help here.)"
      ],
      "text/plain": [
       "Correct: What?! You got it right without needing a hint or anything? Drats. Well hey, you should still continue to the next step to get some practice asking for a hint and checking solutions. (Even though you obviously don't need any help here.)"
      ]
     },
     "metadata": {},
     "output_type": "display_data"
    }
   ],
   "source": [
    "# create a variable called color with an appropriate value on the line below\n",
    "# (Remember, strings in Python must be enclosed in 'single' or \"double\" quotes)\n",
    "color = \"blue\"\n",
    "\n",
    "# Check your answer\n",
    "q0.check()"
   ]
  },
  {
   "cell_type": "markdown",
   "id": "9043b7fe",
   "metadata": {
    "papermill": {
     "duration": 0.008666,
     "end_time": "2024-09-30T08:20:05.112591",
     "exception": false,
     "start_time": "2024-09-30T08:20:05.103925",
     "status": "completed"
    },
    "tags": []
   },
   "source": [
    "Didn't get the right answer? How do you not even know your own favorite color?!\n",
    "\n",
    "Delete the `#` in the line below to make one of the lines run. You can choose between getting a hint or the full answer by choosing which line to remove the `#` from. \n",
    "\n",
    "Removing the `#` is called uncommenting, because it changes that line from a \"comment\" which Python doesn't run to code, which Python does run."
   ]
  },
  {
   "cell_type": "code",
   "execution_count": 4,
   "id": "7c908f80",
   "metadata": {
    "execution": {
     "iopub.execute_input": "2024-09-30T08:20:05.131813Z",
     "iopub.status.busy": "2024-09-30T08:20:05.131438Z",
     "iopub.status.idle": "2024-09-30T08:20:05.144074Z",
     "shell.execute_reply": "2024-09-30T08:20:05.143059Z"
    },
    "papermill": {
     "duration": 0.024968,
     "end_time": "2024-09-30T08:20:05.146346",
     "exception": false,
     "start_time": "2024-09-30T08:20:05.121378",
     "status": "completed"
    },
    "tags": []
   },
   "outputs": [
    {
     "data": {
      "application/javascript": [
       "parent.postMessage({\"jupyterEvent\": \"custom.exercise_interaction\", \"data\": {\"interactionType\": 2, \"questionType\": 2, \"questionId\": \"0_ExerciseFormatTutorial\", \"learnToolsVersion\": \"0.3.4\", \"valueTowardsCompletion\": 0.0, \"failureMessage\": \"\", \"exceptionClass\": \"\", \"trace\": \"\", \"outcomeType\": 4}}, \"*\")"
      ],
      "text/plain": [
       "<IPython.core.display.Javascript object>"
      ]
     },
     "metadata": {},
     "output_type": "display_data"
    },
    {
     "data": {
      "text/markdown": [
       "<span style=\"color:#3366cc\">Hint:</span> Your favorite color rhymes with *glue*."
      ],
      "text/plain": [
       "Hint: Your favorite color rhymes with *glue*."
      ]
     },
     "metadata": {},
     "output_type": "display_data"
    },
    {
     "data": {
      "application/javascript": [
       "parent.postMessage({\"jupyterEvent\": \"custom.exercise_interaction\", \"data\": {\"interactionType\": 3, \"questionType\": 2, \"questionId\": \"0_ExerciseFormatTutorial\", \"learnToolsVersion\": \"0.3.4\", \"valueTowardsCompletion\": 0.0, \"failureMessage\": \"\", \"exceptionClass\": \"\", \"trace\": \"\", \"outcomeType\": 4}}, \"*\")"
      ],
      "text/plain": [
       "<IPython.core.display.Javascript object>"
      ]
     },
     "metadata": {},
     "output_type": "display_data"
    },
    {
     "data": {
      "text/markdown": [
       "<span style=\"color:#33cc99\">Solution:</span> \n",
       "```python\n",
       "color = \"blue\"\n",
       "```"
      ],
      "text/plain": [
       "Solution: \n",
       "```python\n",
       "color = \"blue\"\n",
       "```"
      ]
     },
     "metadata": {},
     "output_type": "display_data"
    }
   ],
   "source": [
    "q0.hint()\n",
    "q0.solution()"
   ]
  },
  {
   "cell_type": "markdown",
   "id": "735b26d5",
   "metadata": {
    "papermill": {
     "duration": 0.009537,
     "end_time": "2024-09-30T08:20:05.165556",
     "exception": false,
     "start_time": "2024-09-30T08:20:05.156019",
     "status": "completed"
    },
    "tags": []
   },
   "source": [
    "The upcoming questions work the same way. The only thing that will change are the question numbers. For the next question, you'll call `q1.check()`, `q1.hint()`, `q1.solution()`, for question 2, you'll call `q2.check()`, and so on."
   ]
  },
  {
   "cell_type": "markdown",
   "id": "f0b88f87",
   "metadata": {
    "papermill": {
     "duration": 0.009038,
     "end_time": "2024-09-30T08:20:05.184306",
     "exception": false,
     "start_time": "2024-09-30T08:20:05.175268",
     "status": "completed"
    },
    "tags": []
   },
   "source": [
    "<hr/>\n",
    "\n",
    "# 1.\n",
    "\n",
    "Complete the code below. In case it's helpful, here is the table of available arithmetic operations:\n",
    "\n",
    "\n",
    "\n",
    "| Operator     | Name           | Description                                            |\n",
    "|--------------|----------------|--------------------------------------------------------|\n",
    "| ``a + b``    | Addition       | Sum of ``a`` and ``b``                                 |\n",
    "| ``a - b``    | Subtraction    | Difference of ``a`` and ``b``                          |\n",
    "| ``a * b``    | Multiplication | Product of ``a`` and ``b``                             |\n",
    "| ``a / b``    | True division  | Quotient of ``a`` and ``b``                            |\n",
    "| ``a // b``   | Floor division | Quotient of ``a`` and ``b``, removing fractional parts |\n",
    "| ``a % b``    | Modulus        | Integer remainder after division of ``a`` by ``b``     |\n",
    "| ``a ** b``   | Exponentiation | ``a`` raised to the power of ``b``                     |\n",
    "| ``-a``       | Negation       | The negative of ``a``                                  |\n",
    "\n",
    "<span style=\"display:none\"></span>\n"
   ]
  },
  {
   "cell_type": "code",
   "execution_count": 5,
   "id": "1f7350bc",
   "metadata": {
    "execution": {
     "iopub.execute_input": "2024-09-30T08:20:05.205820Z",
     "iopub.status.busy": "2024-09-30T08:20:05.205141Z",
     "iopub.status.idle": "2024-09-30T08:20:05.214581Z",
     "shell.execute_reply": "2024-09-30T08:20:05.213616Z"
    },
    "papermill": {
     "duration": 0.022607,
     "end_time": "2024-09-30T08:20:05.216765",
     "exception": false,
     "start_time": "2024-09-30T08:20:05.194158",
     "status": "completed"
    },
    "tags": []
   },
   "outputs": [
    {
     "data": {
      "application/javascript": [
       "parent.postMessage({\"jupyterEvent\": \"custom.exercise_interaction\", \"data\": {\"outcomeType\": 1, \"valueTowardsCompletion\": 0.25, \"interactionType\": 1, \"questionType\": 1, \"questionId\": \"1_CircleArea\", \"learnToolsVersion\": \"0.3.4\", \"failureMessage\": \"\", \"exceptionClass\": \"\", \"trace\": \"\"}}, \"*\")"
      ],
      "text/plain": [
       "<IPython.core.display.Javascript object>"
      ]
     },
     "metadata": {},
     "output_type": "display_data"
    },
    {
     "data": {
      "text/markdown": [
       "<span style=\"color:#33cc33\">Correct</span>"
      ],
      "text/plain": [
       "Correct"
      ]
     },
     "metadata": {},
     "output_type": "display_data"
    }
   ],
   "source": [
    "pi = 3.14159 # approximate\n",
    "diameter = 3\n",
    "\n",
    "# Create a variable called 'radius' equal to half the diameter\n",
    "radius = diameter/2\n",
    "\n",
    "# Create a variable called 'area', using the formula for the area of a circle: pi times the radius squared\n",
    "area = pi*radius**2\n",
    "\n",
    "# Check your answer\n",
    "q1.check()"
   ]
  },
  {
   "cell_type": "code",
   "execution_count": 6,
   "id": "f239cbcb",
   "metadata": {
    "execution": {
     "iopub.execute_input": "2024-09-30T08:20:05.238074Z",
     "iopub.status.busy": "2024-09-30T08:20:05.237704Z",
     "iopub.status.idle": "2024-09-30T08:20:05.242197Z",
     "shell.execute_reply": "2024-09-30T08:20:05.241238Z"
    },
    "papermill": {
     "duration": 0.017873,
     "end_time": "2024-09-30T08:20:05.244541",
     "exception": false,
     "start_time": "2024-09-30T08:20:05.226668",
     "status": "completed"
    },
    "tags": []
   },
   "outputs": [],
   "source": [
    "# Uncomment and run the lines below if you need help.\n",
    "#q1.hint()\n",
    "#q1.solution()"
   ]
  },
  {
   "cell_type": "markdown",
   "id": "93a1302a",
   "metadata": {
    "papermill": {
     "duration": 0.009661,
     "end_time": "2024-09-30T08:20:05.264448",
     "exception": false,
     "start_time": "2024-09-30T08:20:05.254787",
     "status": "completed"
    },
    "tags": []
   },
   "source": [
    "<hr/>\n",
    "\n",
    "# 2.\n",
    "\n",
    "Add code to the following cell to swap variables `a` and `b` (so that `a` refers to the object previously referred to by `b` and vice versa)."
   ]
  },
  {
   "cell_type": "code",
   "execution_count": 7,
   "id": "3c736594",
   "metadata": {
    "execution": {
     "iopub.execute_input": "2024-09-30T08:20:05.286060Z",
     "iopub.status.busy": "2024-09-30T08:20:05.285657Z",
     "iopub.status.idle": "2024-09-30T08:20:05.296206Z",
     "shell.execute_reply": "2024-09-30T08:20:05.295147Z"
    },
    "papermill": {
     "duration": 0.024227,
     "end_time": "2024-09-30T08:20:05.298489",
     "exception": false,
     "start_time": "2024-09-30T08:20:05.274262",
     "status": "completed"
    },
    "tags": []
   },
   "outputs": [
    {
     "data": {
      "application/javascript": [
       "parent.postMessage({\"jupyterEvent\": \"custom.exercise_interaction\", \"data\": {\"outcomeType\": 1, \"valueTowardsCompletion\": 0.25, \"interactionType\": 1, \"questionType\": 2, \"questionId\": \"2_VariableSwap\", \"learnToolsVersion\": \"0.3.4\", \"failureMessage\": \"\", \"exceptionClass\": \"\", \"trace\": \"\"}}, \"*\")"
      ],
      "text/plain": [
       "<IPython.core.display.Javascript object>"
      ]
     },
     "metadata": {},
     "output_type": "display_data"
    },
    {
     "data": {
      "text/markdown": [
       "<span style=\"color:#33cc33\">Correct:</span> \n",
       "\n",
       "The most straightforward solution is to use a third variable to temporarily store one of the old values. e.g.:\n",
       "\n",
       "    tmp = a\n",
       "    a = b\n",
       "    b = tmp\n",
       "\n",
       "If you've read lots of Python code, you might have seen the following trick to swap two variables in one line:\n",
       "\n",
       "    a, b = b, a\n",
       "\n",
       "We'll demystify this bit of Python magic later when we talk about *tuples*."
      ],
      "text/plain": [
       "Correct: \n",
       "\n",
       "The most straightforward solution is to use a third variable to temporarily store one of the old values. e.g.:\n",
       "\n",
       "    tmp = a\n",
       "    a = b\n",
       "    b = tmp\n",
       "\n",
       "If you've read lots of Python code, you might have seen the following trick to swap two variables in one line:\n",
       "\n",
       "    a, b = b, a\n",
       "\n",
       "We'll demystify this bit of Python magic later when we talk about *tuples*."
      ]
     },
     "metadata": {},
     "output_type": "display_data"
    }
   ],
   "source": [
    "########### Setup code - don't touch this part ######################\n",
    "# If you're curious, these are examples of lists. We'll talk about \n",
    "# them in depth a few lessons from now. For now, just know that they're\n",
    "# yet another type of Python object, like int or float.\n",
    "a = [1, 2, 3]\n",
    "b = [3, 2, 1]\n",
    "q2.store_original_ids()\n",
    "######################################################################\n",
    "\n",
    "# Your code goes here. Swap the values to which a and b refer.\n",
    "# If you get stuck, you can always uncomment one or both of the lines in\n",
    "# the next cell for a hint, or to peek at the solution.\n",
    "\n",
    "a,b=b,a\n",
    "\n",
    "######################################################################\n",
    "\n",
    "# Check your answer\n",
    "q2.check()"
   ]
  },
  {
   "cell_type": "code",
   "execution_count": 8,
   "id": "ccebc20d",
   "metadata": {
    "execution": {
     "iopub.execute_input": "2024-09-30T08:20:05.320909Z",
     "iopub.status.busy": "2024-09-30T08:20:05.320270Z",
     "iopub.status.idle": "2024-09-30T08:20:05.324754Z",
     "shell.execute_reply": "2024-09-30T08:20:05.323762Z"
    },
    "papermill": {
     "duration": 0.018117,
     "end_time": "2024-09-30T08:20:05.326999",
     "exception": false,
     "start_time": "2024-09-30T08:20:05.308882",
     "status": "completed"
    },
    "tags": []
   },
   "outputs": [],
   "source": [
    "#q2.hint()"
   ]
  },
  {
   "cell_type": "code",
   "execution_count": 9,
   "id": "503ec6c7",
   "metadata": {
    "execution": {
     "iopub.execute_input": "2024-09-30T08:20:05.349723Z",
     "iopub.status.busy": "2024-09-30T08:20:05.349304Z",
     "iopub.status.idle": "2024-09-30T08:20:05.353990Z",
     "shell.execute_reply": "2024-09-30T08:20:05.352949Z"
    },
    "papermill": {
     "duration": 0.018815,
     "end_time": "2024-09-30T08:20:05.356293",
     "exception": false,
     "start_time": "2024-09-30T08:20:05.337478",
     "status": "completed"
    },
    "tags": []
   },
   "outputs": [],
   "source": [
    "#q2.solution()"
   ]
  },
  {
   "cell_type": "markdown",
   "id": "5f822f98",
   "metadata": {
    "papermill": {
     "duration": 0.010206,
     "end_time": "2024-09-30T08:20:05.377032",
     "exception": false,
     "start_time": "2024-09-30T08:20:05.366826",
     "status": "completed"
    },
    "tags": []
   },
   "source": [
    "<hr/>\n",
    "\n",
    "# 3a.\n",
    "\n",
    "Add parentheses to the following expression so that it evaluates to 1."
   ]
  },
  {
   "cell_type": "code",
   "execution_count": 10,
   "id": "768d6fce",
   "metadata": {
    "execution": {
     "iopub.execute_input": "2024-09-30T08:20:05.399371Z",
     "iopub.status.busy": "2024-09-30T08:20:05.398951Z",
     "iopub.status.idle": "2024-09-30T08:20:05.405555Z",
     "shell.execute_reply": "2024-09-30T08:20:05.404636Z"
    },
    "papermill": {
     "duration": 0.020538,
     "end_time": "2024-09-30T08:20:05.407884",
     "exception": false,
     "start_time": "2024-09-30T08:20:05.387346",
     "status": "completed"
    },
    "tags": []
   },
   "outputs": [
    {
     "data": {
      "text/plain": [
       "1"
      ]
     },
     "execution_count": 10,
     "metadata": {},
     "output_type": "execute_result"
    }
   ],
   "source": [
    "(5 - 3) // 2"
   ]
  },
  {
   "cell_type": "code",
   "execution_count": 11,
   "id": "5794bb46",
   "metadata": {
    "execution": {
     "iopub.execute_input": "2024-09-30T08:20:05.431342Z",
     "iopub.status.busy": "2024-09-30T08:20:05.430588Z",
     "iopub.status.idle": "2024-09-30T08:20:05.435252Z",
     "shell.execute_reply": "2024-09-30T08:20:05.434210Z"
    },
    "papermill": {
     "duration": 0.018699,
     "end_time": "2024-09-30T08:20:05.437502",
     "exception": false,
     "start_time": "2024-09-30T08:20:05.418803",
     "status": "completed"
    },
    "tags": []
   },
   "outputs": [],
   "source": [
    "#q3.a.hint()"
   ]
  },
  {
   "cell_type": "code",
   "execution_count": 12,
   "id": "b6b02fae",
   "metadata": {
    "execution": {
     "iopub.execute_input": "2024-09-30T08:20:05.460141Z",
     "iopub.status.busy": "2024-09-30T08:20:05.459798Z",
     "iopub.status.idle": "2024-09-30T08:20:05.468544Z",
     "shell.execute_reply": "2024-09-30T08:20:05.467565Z"
    },
    "papermill": {
     "duration": 0.022817,
     "end_time": "2024-09-30T08:20:05.470969",
     "exception": false,
     "start_time": "2024-09-30T08:20:05.448152",
     "status": "completed"
    },
    "tags": []
   },
   "outputs": [
    {
     "data": {
      "application/javascript": [
       "parent.postMessage({\"jupyterEvent\": \"custom.exercise_interaction\", \"data\": {\"interactionType\": 3, \"questionType\": 4, \"questionId\": \"3.1_ArithmeticParensEasy\", \"learnToolsVersion\": \"0.3.4\", \"valueTowardsCompletion\": 0.0, \"failureMessage\": \"\", \"exceptionClass\": \"\", \"trace\": \"\", \"outcomeType\": 4}}, \"*\")"
      ],
      "text/plain": [
       "<IPython.core.display.Javascript object>"
      ]
     },
     "metadata": {},
     "output_type": "display_data"
    },
    {
     "data": {
      "text/markdown": [
       "<span style=\"color:#33cc99\">Solution:</span> \n",
       "```python\n",
       "(5 - 3) // 2\n",
       "```"
      ],
      "text/plain": [
       "Solution: \n",
       "```python\n",
       "(5 - 3) // 2\n",
       "```"
      ]
     },
     "metadata": {},
     "output_type": "display_data"
    }
   ],
   "source": [
    "# Check your answer (Run this code cell to receive credit!)\n",
    "q3.a.solution()"
   ]
  },
  {
   "cell_type": "markdown",
   "id": "46cf205a",
   "metadata": {
    "papermill": {
     "duration": 0.010465,
     "end_time": "2024-09-30T08:20:05.492137",
     "exception": false,
     "start_time": "2024-09-30T08:20:05.481672",
     "status": "completed"
    },
    "tags": []
   },
   "source": [
    "# 3b.  <span title=\"A bit spicy\" style=\"color: darkgreen \">🌶️</span>\n",
    "\n",
    "<small>Questions, like this one, marked a spicy pepper are a bit harder.</small>\n",
    "\n",
    "Add parentheses to the following expression so that it evaluates to 0."
   ]
  },
  {
   "cell_type": "code",
   "execution_count": 13,
   "id": "44a777b0",
   "metadata": {
    "execution": {
     "iopub.execute_input": "2024-09-30T08:20:05.515292Z",
     "iopub.status.busy": "2024-09-30T08:20:05.514920Z",
     "iopub.status.idle": "2024-09-30T08:20:05.521745Z",
     "shell.execute_reply": "2024-09-30T08:20:05.520736Z"
    },
    "papermill": {
     "duration": 0.021118,
     "end_time": "2024-09-30T08:20:05.524055",
     "exception": false,
     "start_time": "2024-09-30T08:20:05.502937",
     "status": "completed"
    },
    "tags": []
   },
   "outputs": [
    {
     "data": {
      "text/plain": [
       "0"
      ]
     },
     "execution_count": 13,
     "metadata": {},
     "output_type": "execute_result"
    }
   ],
   "source": [
    "(8 - 3) * (2 - (1 + 1))"
   ]
  },
  {
   "cell_type": "code",
   "execution_count": 14,
   "id": "a6a7a2fe",
   "metadata": {
    "execution": {
     "iopub.execute_input": "2024-09-30T08:20:05.547282Z",
     "iopub.status.busy": "2024-09-30T08:20:05.546915Z",
     "iopub.status.idle": "2024-09-30T08:20:05.551691Z",
     "shell.execute_reply": "2024-09-30T08:20:05.550598Z"
    },
    "papermill": {
     "duration": 0.019166,
     "end_time": "2024-09-30T08:20:05.553911",
     "exception": false,
     "start_time": "2024-09-30T08:20:05.534745",
     "status": "completed"
    },
    "tags": []
   },
   "outputs": [],
   "source": [
    "#q3.b.hint()"
   ]
  },
  {
   "cell_type": "code",
   "execution_count": 15,
   "id": "c1d70635",
   "metadata": {
    "execution": {
     "iopub.execute_input": "2024-09-30T08:20:05.578076Z",
     "iopub.status.busy": "2024-09-30T08:20:05.577696Z",
     "iopub.status.idle": "2024-09-30T08:20:05.586281Z",
     "shell.execute_reply": "2024-09-30T08:20:05.585363Z"
    },
    "papermill": {
     "duration": 0.023326,
     "end_time": "2024-09-30T08:20:05.588431",
     "exception": false,
     "start_time": "2024-09-30T08:20:05.565105",
     "status": "completed"
    },
    "tags": []
   },
   "outputs": [
    {
     "data": {
      "application/javascript": [
       "parent.postMessage({\"jupyterEvent\": \"custom.exercise_interaction\", \"data\": {\"interactionType\": 3, \"questionType\": 4, \"questionId\": \"3.2_ArithmeticParensHard\", \"learnToolsVersion\": \"0.3.4\", \"valueTowardsCompletion\": 0.0, \"failureMessage\": \"\", \"exceptionClass\": \"\", \"trace\": \"\", \"outcomeType\": 4}}, \"*\")"
      ],
      "text/plain": [
       "<IPython.core.display.Javascript object>"
      ]
     },
     "metadata": {},
     "output_type": "display_data"
    },
    {
     "data": {
      "text/markdown": [
       "<span style=\"color:#33cc99\">Solution:</span> `(8 - 3) * (2 - (1 + 1))` is one solution. There may be others."
      ],
      "text/plain": [
       "Solution: `(8 - 3) * (2 - (1 + 1))` is one solution. There may be others."
      ]
     },
     "metadata": {},
     "output_type": "display_data"
    }
   ],
   "source": [
    "# Check your answer (Run this code cell to receive credit!)\n",
    "q3.b.solution()"
   ]
  },
  {
   "cell_type": "markdown",
   "id": "da2453b7",
   "metadata": {
    "papermill": {
     "duration": 0.011196,
     "end_time": "2024-09-30T08:20:05.611063",
     "exception": false,
     "start_time": "2024-09-30T08:20:05.599867",
     "status": "completed"
    },
    "tags": []
   },
   "source": [
    "<hr/>\n",
    "\n",
    "# 4. \n",
    "Alice, Bob and Carol have agreed to pool their Halloween candy and split it evenly among themselves.\n",
    "For the sake of their friendship, any candies left over will be smashed. For example, if they collectively\n",
    "bring home 91 candies, they'll take 30 each and smash 1.\n",
    "\n",
    "Write an arithmetic expression below to calculate how many candies they must smash for a given haul."
   ]
  },
  {
   "cell_type": "code",
   "execution_count": 16,
   "id": "2e4fe0c2",
   "metadata": {
    "execution": {
     "iopub.execute_input": "2024-09-30T08:20:05.636199Z",
     "iopub.status.busy": "2024-09-30T08:20:05.635268Z",
     "iopub.status.idle": "2024-09-30T08:20:05.645131Z",
     "shell.execute_reply": "2024-09-30T08:20:05.644069Z"
    },
    "papermill": {
     "duration": 0.024913,
     "end_time": "2024-09-30T08:20:05.647457",
     "exception": false,
     "start_time": "2024-09-30T08:20:05.622544",
     "status": "completed"
    },
    "tags": []
   },
   "outputs": [
    {
     "data": {
      "application/javascript": [
       "parent.postMessage({\"jupyterEvent\": \"custom.exercise_interaction\", \"data\": {\"outcomeType\": 1, \"valueTowardsCompletion\": 0.25, \"interactionType\": 1, \"questionType\": 1, \"questionId\": \"4_CandySplitting\", \"learnToolsVersion\": \"0.3.4\", \"failureMessage\": \"\", \"exceptionClass\": \"\", \"trace\": \"\"}}, \"*\")"
      ],
      "text/plain": [
       "<IPython.core.display.Javascript object>"
      ]
     },
     "metadata": {},
     "output_type": "display_data"
    },
    {
     "data": {
      "text/markdown": [
       "<span style=\"color:#33cc33\">Correct</span>"
      ],
      "text/plain": [
       "Correct"
      ]
     },
     "metadata": {},
     "output_type": "display_data"
    }
   ],
   "source": [
    "# Variables representing the number of candies collected by alice, bob, and carol\n",
    "alice_candies = 121\n",
    "bob_candies = 77\n",
    "carol_candies = 109\n",
    "\n",
    "# Your code goes here! Replace the right-hand side of this assignment with an expression\n",
    "# involving alice_candies, bob_candies, and carol_candies\n",
    "to_smash = (alice_candies+bob_candies+carol_candies)%3\n",
    "\n",
    "# Check your answer\n",
    "q4.check()"
   ]
  },
  {
   "cell_type": "code",
   "execution_count": 17,
   "id": "cf681dad",
   "metadata": {
    "execution": {
     "iopub.execute_input": "2024-09-30T08:20:05.672597Z",
     "iopub.status.busy": "2024-09-30T08:20:05.672155Z",
     "iopub.status.idle": "2024-09-30T08:20:05.676696Z",
     "shell.execute_reply": "2024-09-30T08:20:05.675617Z"
    },
    "papermill": {
     "duration": 0.019957,
     "end_time": "2024-09-30T08:20:05.679020",
     "exception": false,
     "start_time": "2024-09-30T08:20:05.659063",
     "status": "completed"
    },
    "tags": []
   },
   "outputs": [],
   "source": [
    "#q4.hint()\n",
    "#q4.solution()"
   ]
  },
  {
   "cell_type": "markdown",
   "id": "cab7693b",
   "metadata": {
    "papermill": {
     "duration": 0.011786,
     "end_time": "2024-09-30T08:20:05.702865",
     "exception": false,
     "start_time": "2024-09-30T08:20:05.691079",
     "status": "completed"
    },
    "tags": []
   },
   "source": [
    "# Keep Going\n",
    "\n",
    "Next up, you'll **[learn to write new functions and understand functions others write](https://www.kaggle.com/colinmorris/functions-and-getting-help)**. This will make you at least 10 times more productive as a Python programmer. "
   ]
  },
  {
   "cell_type": "markdown",
   "id": "a0d14c27",
   "metadata": {
    "papermill": {
     "duration": 0.011594,
     "end_time": "2024-09-30T08:20:05.726318",
     "exception": false,
     "start_time": "2024-09-30T08:20:05.714724",
     "status": "completed"
    },
    "tags": []
   },
   "source": [
    "---\n",
    "\n",
    "\n",
    "\n",
    "\n",
    "*Have questions or comments? Visit the [course discussion forum](https://www.kaggle.com/learn/python/discussion) to chat with other learners.*"
   ]
  }
 ],
 "metadata": {
  "kaggle": {
   "accelerator": "none",
   "dataSources": [],
   "isGpuEnabled": false,
   "isInternetEnabled": false,
   "language": "python",
   "sourceType": "notebook"
  },
  "kernelspec": {
   "display_name": "Python 3",
   "language": "python",
   "name": "python3"
  },
  "language_info": {
   "codemirror_mode": {
    "name": "ipython",
    "version": 3
   },
   "file_extension": ".py",
   "mimetype": "text/x-python",
   "name": "python",
   "nbconvert_exporter": "python",
   "pygments_lexer": "ipython3",
   "version": "3.10.14"
  },
  "learntools_metadata": {
   "lesson_index": 0,
   "type": "exercise"
  },
  "papermill": {
   "default_parameters": {},
   "duration": 4.789595,
   "end_time": "2024-09-30T08:20:06.158722",
   "environment_variables": {},
   "exception": null,
   "input_path": "__notebook__.ipynb",
   "output_path": "__notebook__.ipynb",
   "parameters": {},
   "start_time": "2024-09-30T08:20:01.369127",
   "version": "2.6.0"
  }
 },
 "nbformat": 4,
 "nbformat_minor": 5
}
