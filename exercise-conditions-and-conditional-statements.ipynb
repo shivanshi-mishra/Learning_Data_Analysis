{
 "cells": [
  {
   "cell_type": "markdown",
   "id": "89da56c9",
   "metadata": {
    "papermill": {
     "duration": 0.007879,
     "end_time": "2024-09-29T08:10:00.317202",
     "exception": false,
     "start_time": "2024-09-29T08:10:00.309323",
     "status": "completed"
    },
    "tags": []
   },
   "source": [
    "**This notebook is an exercise in the [Intro to Programming](https://www.kaggle.com/learn/intro-to-programming) course.  You can reference the tutorial at [this link](https://www.kaggle.com/alexisbcook/conditions-and-conditional-statements).**\n",
    "\n",
    "---\n"
   ]
  },
  {
   "cell_type": "markdown",
   "id": "9b511760",
   "metadata": {
    "papermill": {
     "duration": 0.00721,
     "end_time": "2024-09-29T08:10:00.332290",
     "exception": false,
     "start_time": "2024-09-29T08:10:00.325080",
     "status": "completed"
    },
    "tags": []
   },
   "source": [
    "In the tutorial, you learned about conditions and conditional statements. In this exercise, you will use what you learned to answer several questions.\n",
    "\n",
    "# Set up the notebook\n",
    "\n",
    "Run the next code cell without changes to set up the notebook."
   ]
  },
  {
   "cell_type": "code",
   "execution_count": 1,
   "id": "7913e08d",
   "metadata": {
    "execution": {
     "iopub.execute_input": "2024-09-29T08:10:00.353642Z",
     "iopub.status.busy": "2024-09-29T08:10:00.353067Z",
     "iopub.status.idle": "2024-09-29T08:10:01.566851Z",
     "shell.execute_reply": "2024-09-29T08:10:01.565640Z"
    },
    "papermill": {
     "duration": 1.229792,
     "end_time": "2024-09-29T08:10:01.570340",
     "exception": false,
     "start_time": "2024-09-29T08:10:00.340548",
     "status": "completed"
    },
    "tags": []
   },
   "outputs": [
    {
     "name": "stdout",
     "output_type": "stream",
     "text": [
      "Setup complete.\n"
     ]
    }
   ],
   "source": [
    "from learntools.core import binder\n",
    "binder.bind(globals())\n",
    "from learntools.intro_to_programming.ex4 import *\n",
    "print('Setup complete.')"
   ]
  },
  {
   "cell_type": "markdown",
   "id": "25a627b0",
   "metadata": {
    "papermill": {
     "duration": 0.006487,
     "end_time": "2024-09-29T08:10:01.583937",
     "exception": false,
     "start_time": "2024-09-29T08:10:01.577450",
     "status": "completed"
    },
    "tags": []
   },
   "source": [
    "# Question 1\n",
    "\n",
    "You work at a college admissions office.  When inspecting a dataset of college applicants, you notice that some students have represented their grades with letters (`\"A\"`, `\"B\"`, `\"C\"`, `\"D\"`, `\"F\"`), whereas others have represented their grades with a number between 0 and 100.\n",
    "\n",
    "You realize that for consistency, all of the grades should be formatted in the same way, and you decide to format them all as letters.  For the conversion, you decide to assign:\n",
    "- `\"A\"` - any grade 90-100, inclusive\n",
    "- `\"B\"` - any grade 80-89, inclusive\n",
    "- `\"C\"` - any grade 70-79, inclusive\n",
    "- `\"D\"` - any grade 60-69, inclusive\n",
    "- `\"F\"` - any grade <60\n",
    "\n",
    "Write a function `get_grade()` that takes as input:\n",
    "- `score` - an integer 0-100 corresponding to a numerical grade\n",
    "\n",
    "It should return a Python string with the letter grade that it corresponds to.  For instance,\n",
    "- A score of 85 corresponds to a B grade.  In other words, `get_grade(85)` should return `\"B\"`.\n",
    "- A score of 49 corresponds to an F grade.  In other words, `get_grade(49)` should return `\"F\"`.\n",
    "\n",
    "Make sure that when supplying the grade that is returned by the function, it is enclosed in quotes.  (For instance, if you want to return `\"A\"`, you should write `return \"A\"` and not `return A`.)"
   ]
  },
  {
   "cell_type": "code",
   "execution_count": 2,
   "id": "6755907a",
   "metadata": {
    "execution": {
     "iopub.execute_input": "2024-09-29T08:10:01.599692Z",
     "iopub.status.busy": "2024-09-29T08:10:01.599126Z",
     "iopub.status.idle": "2024-09-29T08:10:01.610597Z",
     "shell.execute_reply": "2024-09-29T08:10:01.609605Z"
    },
    "papermill": {
     "duration": 0.021983,
     "end_time": "2024-09-29T08:10:01.612847",
     "exception": false,
     "start_time": "2024-09-29T08:10:01.590864",
     "status": "completed"
    },
    "tags": []
   },
   "outputs": [
    {
     "data": {
      "application/javascript": [
       "parent.postMessage({\"jupyterEvent\": \"custom.exercise_interaction\", \"data\": {\"outcomeType\": 1, \"valueTowardsCompletion\": 0.2, \"interactionType\": 1, \"questionType\": 2, \"questionId\": \"1_GetGrade\", \"learnToolsVersion\": \"0.3.4\", \"failureMessage\": \"\", \"exceptionClass\": \"\", \"trace\": \"\"}}, \"*\")"
      ],
      "text/plain": [
       "<IPython.core.display.Javascript object>"
      ]
     },
     "metadata": {},
     "output_type": "display_data"
    },
    {
     "data": {
      "text/markdown": [
       "<span style=\"color:#33cc33\">Correct</span>"
      ],
      "text/plain": [
       "Correct"
      ]
     },
     "metadata": {},
     "output_type": "display_data"
    }
   ],
   "source": [
    "# TODO: Edit the function to return the correct grade for different scores\n",
    "def get_grade(score):\n",
    "    if(score>=90):\n",
    "        grade = \"A\"\n",
    "    elif(score>=80):\n",
    "        grade = \"B\"\n",
    "    elif(score>=70):\n",
    "        grade = \"C\"\n",
    "    elif(score>=60):\n",
    "        grade = \"D\"\n",
    "    else:\n",
    "        grade = \"F\"\n",
    "\n",
    "    return grade\n",
    "    \n",
    "# Check your answer\n",
    "q1.check()"
   ]
  },
  {
   "cell_type": "code",
   "execution_count": 3,
   "id": "14bf3697",
   "metadata": {
    "execution": {
     "iopub.execute_input": "2024-09-29T08:10:01.629952Z",
     "iopub.status.busy": "2024-09-29T08:10:01.629533Z",
     "iopub.status.idle": "2024-09-29T08:10:01.634378Z",
     "shell.execute_reply": "2024-09-29T08:10:01.633240Z"
    },
    "papermill": {
     "duration": 0.016124,
     "end_time": "2024-09-29T08:10:01.636870",
     "exception": false,
     "start_time": "2024-09-29T08:10:01.620746",
     "status": "completed"
    },
    "tags": []
   },
   "outputs": [],
   "source": [
    "# Uncomment to see a hint\n",
    "#q1.hint()\n",
    "\n",
    "# Uncomment to see the solution\n",
    "#q1.solution()"
   ]
  },
  {
   "cell_type": "markdown",
   "id": "80f0cf94",
   "metadata": {
    "papermill": {
     "duration": 0.006674,
     "end_time": "2024-09-29T08:10:01.650677",
     "exception": false,
     "start_time": "2024-09-29T08:10:01.644003",
     "status": "completed"
    },
    "tags": []
   },
   "source": [
    "# Question 2\n",
    "\n",
    "In the exercise for the previous lesson, you wrote a function `cost_of_project()` that estimated the price of rings for an online shop that sells rings with custom engravings.  This function did not use conditional statements.  In this exercise, you will rewrite the function to use conditional statements.  Recall that the online shop has the following price structure:\n",
    "- Gold plated rings have a base cost of \\\\$50, and you charge \\\\$7 per engraved unit.  \n",
    "- Solid gold rings have a base cost of \\\\$100, and you charge \\\\$10 per engraved unit.\n",
    "- Spaces and punctuation are counted as engraved units.\n",
    "\n",
    "Your function `cost_of_project()` takes two arguments:\n",
    "- `engraving` - a Python string with the text of the engraving\n",
    "- `solid_gold` - a Boolean that indicates whether the ring is solid gold\n",
    "\n",
    "It should return the cost of the project.  \n",
    "\n",
    "The function has been partially completed for you, and you need to fill in the blanks to complete the function."
   ]
  },
  {
   "cell_type": "code",
   "execution_count": 4,
   "id": "4a7fd3e2",
   "metadata": {
    "execution": {
     "iopub.execute_input": "2024-09-29T08:10:01.667787Z",
     "iopub.status.busy": "2024-09-29T08:10:01.667218Z",
     "iopub.status.idle": "2024-09-29T08:10:01.678495Z",
     "shell.execute_reply": "2024-09-29T08:10:01.677385Z"
    },
    "papermill": {
     "duration": 0.022878,
     "end_time": "2024-09-29T08:10:01.681284",
     "exception": false,
     "start_time": "2024-09-29T08:10:01.658406",
     "status": "completed"
    },
    "tags": []
   },
   "outputs": [
    {
     "data": {
      "application/javascript": [
       "parent.postMessage({\"jupyterEvent\": \"custom.exercise_interaction\", \"data\": {\"outcomeType\": 1, \"valueTowardsCompletion\": 0.2, \"interactionType\": 1, \"questionType\": 2, \"questionId\": \"2_CostProjectPartDeux\", \"learnToolsVersion\": \"0.3.4\", \"failureMessage\": \"\", \"exceptionClass\": \"\", \"trace\": \"\"}}, \"*\")"
      ],
      "text/plain": [
       "<IPython.core.display.Javascript object>"
      ]
     },
     "metadata": {},
     "output_type": "display_data"
    },
    {
     "data": {
      "text/markdown": [
       "<span style=\"color:#33cc33\">Correct</span>"
      ],
      "text/plain": [
       "Correct"
      ]
     },
     "metadata": {},
     "output_type": "display_data"
    }
   ],
   "source": [
    "def cost_of_project(engraving, solid_gold):\n",
    "    if solid_gold == True:\n",
    "        cost = 100+len(engraving)*10\n",
    "    else:\n",
    "        cost = 50+len(engraving)*7\n",
    "    return cost\n",
    "\n",
    "# Check your answer\n",
    "q2.check()"
   ]
  },
  {
   "cell_type": "code",
   "execution_count": 5,
   "id": "3fd0925f",
   "metadata": {
    "execution": {
     "iopub.execute_input": "2024-09-29T08:10:01.698113Z",
     "iopub.status.busy": "2024-09-29T08:10:01.697719Z",
     "iopub.status.idle": "2024-09-29T08:10:01.702473Z",
     "shell.execute_reply": "2024-09-29T08:10:01.701300Z"
    },
    "papermill": {
     "duration": 0.015759,
     "end_time": "2024-09-29T08:10:01.704816",
     "exception": false,
     "start_time": "2024-09-29T08:10:01.689057",
     "status": "completed"
    },
    "tags": []
   },
   "outputs": [],
   "source": [
    "# Uncomment to see a hint\n",
    "#q2.hint()\n",
    "\n",
    "# Uncomment to see the solution\n",
    "#q2.solution()"
   ]
  },
  {
   "cell_type": "markdown",
   "id": "ba95c917",
   "metadata": {
    "papermill": {
     "duration": 0.007569,
     "end_time": "2024-09-29T08:10:01.719688",
     "exception": false,
     "start_time": "2024-09-29T08:10:01.712119",
     "status": "completed"
    },
    "tags": []
   },
   "source": [
    "# Question 3\n",
    "\n",
    "You are a programmer at a water agency.  Recently, you have been tasked to write a function `get_water_bill()` that takes as input:\n",
    "- `num_gallons` = the number of gallons of water that a customer used that month.  (This will always be an integer with no decimal part.)\n",
    "\n",
    "It should output the water bill.  \n",
    "\n",
    "The water agency uses this pricing structure:\n",
    "<table style=\"width: 100%;\">\n",
    "<tbody>\n",
    "<tr><th><b>Tier</b></th><th><b>Amount in gallons</b></th><th><b>Price per 1000 gallons</b></th></tr>\n",
    "<tr>\n",
    "<td>Tier 1</td>\n",
    "<td>0 - 8,000</td>\n",
    "<td>\\$5</td>\n",
    "</tr>\n",
    "<tr>\n",
    "<td>Tier 2</td>\n",
    "<td>8,001 - 22,000</td>\n",
    "<td>\\$6</td>\n",
    "</tr>\n",
    "<tr>\n",
    "<td>Tier 3</td>\n",
    "<td>22,001 - 30,000</td>\n",
    "<td>\\$7</td>\n",
    "</tr>\n",
    "<tr>\n",
    "<td>Tier 4</td>\n",
    "<td>30,001+</td>\n",
    "<td>\\$10</td>\n",
    "</tr>\n",
    "</tbody>\n",
    "</table>\n",
    "\n",
    "For example: \n",
    "- Someone who uses 10,000 gallons of water in a month is placed in Tier 2, and needs to pay a water bill of \\\\$6 * 10 = \\\\$60.  In other words, `get_water_bill(10000)` should return `60.0`.\n",
    "- Someone who uses 25,000 gallons of water in a month is placed in Tier 3, and needs to pay a water bill of \\\\$7 * 25 = \\\\$175.  In other words, `get_water_bill(25000)` should return `175.0`.\n",
    "\n",
    "**Do not round your answer.**  So, your answer might return fractions of a penny."
   ]
  },
  {
   "cell_type": "code",
   "execution_count": 6,
   "id": "3750d218",
   "metadata": {
    "execution": {
     "iopub.execute_input": "2024-09-29T08:10:01.736352Z",
     "iopub.status.busy": "2024-09-29T08:10:01.735924Z",
     "iopub.status.idle": "2024-09-29T08:10:01.746402Z",
     "shell.execute_reply": "2024-09-29T08:10:01.745292Z"
    },
    "papermill": {
     "duration": 0.021448,
     "end_time": "2024-09-29T08:10:01.748730",
     "exception": false,
     "start_time": "2024-09-29T08:10:01.727282",
     "status": "completed"
    },
    "tags": []
   },
   "outputs": [
    {
     "data": {
      "application/javascript": [
       "parent.postMessage({\"jupyterEvent\": \"custom.exercise_interaction\", \"data\": {\"outcomeType\": 1, \"valueTowardsCompletion\": 0.2, \"interactionType\": 1, \"questionType\": 2, \"questionId\": \"3_GetWaterBill\", \"learnToolsVersion\": \"0.3.4\", \"failureMessage\": \"\", \"exceptionClass\": \"\", \"trace\": \"\"}}, \"*\")"
      ],
      "text/plain": [
       "<IPython.core.display.Javascript object>"
      ]
     },
     "metadata": {},
     "output_type": "display_data"
    },
    {
     "data": {
      "text/markdown": [
       "<span style=\"color:#33cc33\">Correct</span>"
      ],
      "text/plain": [
       "Correct"
      ]
     },
     "metadata": {},
     "output_type": "display_data"
    }
   ],
   "source": [
    "# TODO: Edit the function to return the correct bill for different\n",
    "# values of num_gallons\n",
    "def get_water_bill(num_gallons):\n",
    "    bill = 1000\n",
    "    gallons_in_k= num_gallons/1000\n",
    "    if(gallons_in_k>30):\n",
    "        bill = 10*gallons_in_k\n",
    "    elif(gallons_in_k>22):\n",
    "        bill = 7*gallons_in_k\n",
    "    elif(gallons_in_k>8):\n",
    "        bill = 6*gallons_in_k\n",
    "    else:\n",
    "        bill = 5*gallons_in_k\n",
    "    return bill\n",
    "\n",
    "# Check your answer\n",
    "q3.check()"
   ]
  },
  {
   "cell_type": "code",
   "execution_count": 7,
   "id": "ed665497",
   "metadata": {
    "execution": {
     "iopub.execute_input": "2024-09-29T08:10:01.765459Z",
     "iopub.status.busy": "2024-09-29T08:10:01.765048Z",
     "iopub.status.idle": "2024-09-29T08:10:01.769615Z",
     "shell.execute_reply": "2024-09-29T08:10:01.768585Z"
    },
    "papermill": {
     "duration": 0.015514,
     "end_time": "2024-09-29T08:10:01.771821",
     "exception": false,
     "start_time": "2024-09-29T08:10:01.756307",
     "status": "completed"
    },
    "tags": []
   },
   "outputs": [],
   "source": [
    "# Uncomment to see a hint\n",
    "#q3.hint()\n",
    "\n",
    "# Uncomment to see the solution\n",
    "#q3.solution()"
   ]
  },
  {
   "cell_type": "markdown",
   "id": "899fe682",
   "metadata": {
    "papermill": {
     "duration": 0.007224,
     "end_time": "2024-09-29T08:10:01.786643",
     "exception": false,
     "start_time": "2024-09-29T08:10:01.779419",
     "status": "completed"
    },
    "tags": []
   },
   "source": [
    "# Question 4\n",
    "\n",
    "You work for a company that provides data services.  For \\\\$100/month, your company provides 15 gigabytes (GB) of data.  Then, any additional data is billed at \\\\$0.10/MB (or \\\\$100/GB, since 1,000 MB are in 1 GB).\n",
    "\n",
    "Use the next code cell to write a function `get_phone_bill()` that takes as input:\n",
    "- `gb` = number of GB that the customer used in a month\n",
    "\n",
    "It should return the customer's total phone bill.\n",
    "\n",
    "For instance:\n",
    "- A customer who uses 10 GB of data in one month is billed only \\\\$100, since the usage stayed under 15 GB.  In other words, `get_phone_bill(10)` should return `100`.\n",
    "- A customer who uses 15.1 GB (or 15 GB + 100 MB) of data in one month has gone over by .1 GB, so they must pay \\\\$100 (cost of plan), plus \\\\$0.10 * 100 = \\\\$10, for a total bill of \\\\$110.  In other words, `get_phone_bill(15.1)` should return `110`.\n",
    "\n",
    "Do not round your answer."
   ]
  },
  {
   "cell_type": "code",
   "execution_count": 8,
   "id": "cd2caa7e",
   "metadata": {
    "execution": {
     "iopub.execute_input": "2024-09-29T08:10:01.803306Z",
     "iopub.status.busy": "2024-09-29T08:10:01.802909Z",
     "iopub.status.idle": "2024-09-29T08:10:01.813407Z",
     "shell.execute_reply": "2024-09-29T08:10:01.812190Z"
    },
    "papermill": {
     "duration": 0.021628,
     "end_time": "2024-09-29T08:10:01.815853",
     "exception": false,
     "start_time": "2024-09-29T08:10:01.794225",
     "status": "completed"
    },
    "tags": []
   },
   "outputs": [
    {
     "data": {
      "application/javascript": [
       "parent.postMessage({\"jupyterEvent\": \"custom.exercise_interaction\", \"data\": {\"outcomeType\": 1, \"valueTowardsCompletion\": 0.2, \"interactionType\": 1, \"questionType\": 2, \"questionId\": \"4_GetPhoneBill\", \"learnToolsVersion\": \"0.3.4\", \"failureMessage\": \"\", \"exceptionClass\": \"\", \"trace\": \"\"}}, \"*\")"
      ],
      "text/plain": [
       "<IPython.core.display.Javascript object>"
      ]
     },
     "metadata": {},
     "output_type": "display_data"
    },
    {
     "data": {
      "text/markdown": [
       "<span style=\"color:#33cc33\">Correct</span>"
      ],
      "text/plain": [
       "Correct"
      ]
     },
     "metadata": {},
     "output_type": "display_data"
    }
   ],
   "source": [
    "# TODO: Edit the function to return the correct bill for different\n",
    "# values of GB\n",
    "def get_phone_bill(gb):\n",
    "    if(gb<=15):\n",
    "        bill = 100\n",
    "    else:\n",
    "        extra =gb-15\n",
    "        bill = 100+ extra*100\n",
    "    return bill\n",
    "\n",
    "# Check your answer\n",
    "q4.check()"
   ]
  },
  {
   "cell_type": "code",
   "execution_count": 9,
   "id": "ba32d694",
   "metadata": {
    "execution": {
     "iopub.execute_input": "2024-09-29T08:10:01.834134Z",
     "iopub.status.busy": "2024-09-29T08:10:01.833195Z",
     "iopub.status.idle": "2024-09-29T08:10:01.838035Z",
     "shell.execute_reply": "2024-09-29T08:10:01.836938Z"
    },
    "papermill": {
     "duration": 0.016146,
     "end_time": "2024-09-29T08:10:01.840290",
     "exception": false,
     "start_time": "2024-09-29T08:10:01.824144",
     "status": "completed"
    },
    "tags": []
   },
   "outputs": [],
   "source": [
    "# Uncomment to see a hint\n",
    "#q4.hint()\n",
    "\n",
    "# Uncomment to see the solution\n",
    "#q4.solution()"
   ]
  },
  {
   "cell_type": "markdown",
   "id": "bfc6796b",
   "metadata": {
    "papermill": {
     "duration": 0.007382,
     "end_time": "2024-09-29T08:10:01.855294",
     "exception": false,
     "start_time": "2024-09-29T08:10:01.847912",
     "status": "completed"
    },
    "tags": []
   },
   "source": [
    "# 🌶️ Question 5\n",
    "\n",
    "In Mexico, foods and beverages that are high in saturated fat, trans fat, sugar, sodium, and/or calories appear with warning labels that are designed to help consumers make healthy food choices.\n",
    "\n",
    "For instance, the [box of cookies](https://world.openfoodfacts.org/product/7501000673209/florentinas-gamesa) in the image below appears with two labels (in the upper right corner):\n",
    "- EXCESO CALORÍAS (in English, EXCESS CALORIES)\n",
    "- EXCESO AZÚCARES (in English, EXCESS SUGAR)\n",
    "\n",
    "<center><img src=\"https://storage.googleapis.com/kaggle-media/learn/images/VXYKHnM.png\" alt=\"drawing\" width=\"500\"/></center>\n",
    "\n",
    "In this question, you'll work with a function `get_labels()` that takes the nutritional details about a food item and prints the needed warning labels.  This function takes several inputs:\n",
    "- `food_type` = one of `\"solid\"` or `\"liquid\"`\n",
    "- `serving_size` = size of one serving (if solid, in grams; if liquid, in milliliters)\n",
    "- `calories_per_serving` = calories in one serving\n",
    "- `saturated_fat_g` = grams of saturated fat in one serving\n",
    "- `trans_fat_g` = grams of trans fat in one serving\n",
    "- `sodium_mg` = mg of sodium in one serving\n",
    "- `sugars_g` = grams of sugar in one serving\n",
    "\n",
    "Note that some of the code here should feel unfamiliar to you, since we have not shared the details of how some of the functions like `excess_sugar()` or `excess_saturated_fat()` work.  But at a high level, these are functions that return a value of `True` if the food is deemed to have an excess of sugar or saturated fat, respectively.  These functions are used within the `get_labels()` function, and whenever there is an excess (of sugar or saturated fat, but also of trans fat, sodium, or calories), it prints the corresponding label."
   ]
  },
  {
   "cell_type": "code",
   "execution_count": 10,
   "id": "821fbb9a",
   "metadata": {
    "execution": {
     "iopub.execute_input": "2024-09-29T08:10:01.872986Z",
     "iopub.status.busy": "2024-09-29T08:10:01.872567Z",
     "iopub.status.idle": "2024-09-29T08:10:01.883881Z",
     "shell.execute_reply": "2024-09-29T08:10:01.881974Z"
    },
    "papermill": {
     "duration": 0.024161,
     "end_time": "2024-09-29T08:10:01.887431",
     "exception": false,
     "start_time": "2024-09-29T08:10:01.863270",
     "status": "completed"
    },
    "tags": []
   },
   "outputs": [],
   "source": [
    "# import functions needed to make get_labels work\n",
    "from learntools.intro_to_programming.ex4q5 import excess_sugar, excess_saturated_fat, excess_trans_fat, excess_sodium, excess_calories\n",
    "\n",
    "def get_labels(food_type, serving_size, calories_per_serving, saturated_fat_g, trans_fat_g, sodium_mg, sugars_g):\n",
    "    # Print messages based on findings\n",
    "    if excess_sugar(sugars_g, calories_per_serving) == True:\n",
    "        print(\"EXCESO AZÚCARES / EXCESS SUGAR\")\n",
    "    if excess_saturated_fat(saturated_fat_g, calories_per_serving) == True:\n",
    "        print(\"EXCESO GRASAS SATURADAS / EXCESS SATURATED FAT\")\n",
    "    if excess_trans_fat(trans_fat_g, calories_per_serving) == True:\n",
    "        print(\"EXCESO GRASAS TRANS / EXCESS TRANS FAT\")\n",
    "    if excess_sodium(calories_per_serving, sodium_mg) == True:\n",
    "        print(\"EXCESO SODIO / EXCESS SODIUM\")\n",
    "    if excess_calories(food_type, calories_per_serving, serving_size) == True:\n",
    "        print(\"EXCESO CALORÍAS / EXCESS CALORIES\")"
   ]
  },
  {
   "cell_type": "markdown",
   "id": "740926a2",
   "metadata": {
    "papermill": {
     "duration": 0.00788,
     "end_time": "2024-09-29T08:10:01.903270",
     "exception": false,
     "start_time": "2024-09-29T08:10:01.895390",
     "status": "completed"
    },
    "tags": []
   },
   "source": [
    "The next code cell demonstrates how to use `get_labels()` to get the warning labels that the food item should contain.  We begin with [bologna](https://world.openfoodfacts.org/product/4099100179378/bologna).  Here is [an image](https://storage.googleapis.com/kaggle-media/learn/images/Cfcx72e.png) with all of the nutritional information.  Note that for this food,\n",
    "- `food_type = \"solid\"` (because bologna is a solid and not a liquid)\n",
    "- `serving_size = 32` (the serving size is 32 grams)\n",
    "- `calories_per_serving = 110` (there are 110 calories per serving)\n",
    "- `saturated_fat_g = 2.5` (there are 2.5 grams of saturated fat per serving)\n",
    "- `trans_fat_g = 0` (there are 0 grams of trans fat per serving)\n",
    "- `sodium_mg = 400` (there are 400 mg of sodium per serving)\n",
    "- `sugars_g = 1` (the nutrition facts say <1g, but we will round it up to 1 gram per serving to be safe)\n",
    "\n",
    "By supplying all of these values to the function, we can print the warning labels."
   ]
  },
  {
   "cell_type": "code",
   "execution_count": 11,
   "id": "61d45dad",
   "metadata": {
    "execution": {
     "iopub.execute_input": "2024-09-29T08:10:01.921217Z",
     "iopub.status.busy": "2024-09-29T08:10:01.920776Z",
     "iopub.status.idle": "2024-09-29T08:10:01.926809Z",
     "shell.execute_reply": "2024-09-29T08:10:01.925511Z"
    },
    "papermill": {
     "duration": 0.018424,
     "end_time": "2024-09-29T08:10:01.929882",
     "exception": false,
     "start_time": "2024-09-29T08:10:01.911458",
     "status": "completed"
    },
    "tags": []
   },
   "outputs": [
    {
     "name": "stdout",
     "output_type": "stream",
     "text": [
      "EXCESO GRASAS SATURADAS / EXCESS SATURATED FAT\n",
      "EXCESO SODIO / EXCESS SODIUM\n",
      "EXCESO CALORÍAS / EXCESS CALORIES\n"
     ]
    }
   ],
   "source": [
    "# bologna https://world.openfoodfacts.org/product/4099100179378/bologna\n",
    "get_labels(\"solid\", 32, 110, 2.5, 0, 400, 1)"
   ]
  },
  {
   "cell_type": "markdown",
   "id": "66e6e764",
   "metadata": {
    "papermill": {
     "duration": 0.007551,
     "end_time": "2024-09-29T08:10:01.945496",
     "exception": false,
     "start_time": "2024-09-29T08:10:01.937945",
     "status": "completed"
    },
    "tags": []
   },
   "source": [
    "This bologna has three labels, printed in the output above.\n",
    "\n",
    "For the rest of this question, you will use the same `get_labels()` function to determine the labels for more foods.  This question is designed to help you get practice with feeling comfortable with code that other people have written, and where you don't have time to review every single line of code before interacting with it.  For instance, when you take the [Intro to Machine Learning course](http://www.kaggle.com/learn/intro-to-machine-learning), you'll work with a Python package called \"scikit-learn\", which is a large collection of code that you'll learn how to run without reviewing all of the code in detail (as it would take too long, and you can trust that it was implemented correctly).\n",
    "\n",
    "In general, as you continue coding in Python, you will often be running code that other people have written.  This is common practice for advanced programmers.\n",
    "\n",
    "In the next code cell, fill in the values for [this cereal](https://world.openfoodfacts.org/product/7501008023624/zucaritas-kellogg-s).  Here is [an image](https://storage.googleapis.com/kaggle-media/learn/images/MUxzHVU.png) with all of the nutritional information.\n",
    "\n",
    "**Note**: running the line of code below as-is will return an error.  You have to fill in the nutritional values first."
   ]
  },
  {
   "cell_type": "code",
   "execution_count": 12,
   "id": "2eb0742f",
   "metadata": {
    "execution": {
     "iopub.execute_input": "2024-09-29T08:10:01.963082Z",
     "iopub.status.busy": "2024-09-29T08:10:01.962715Z",
     "iopub.status.idle": "2024-09-29T08:10:01.968655Z",
     "shell.execute_reply": "2024-09-29T08:10:01.967301Z"
    },
    "papermill": {
     "duration": 0.017842,
     "end_time": "2024-09-29T08:10:01.971130",
     "exception": false,
     "start_time": "2024-09-29T08:10:01.953288",
     "status": "completed"
    },
    "tags": []
   },
   "outputs": [
    {
     "name": "stdout",
     "output_type": "stream",
     "text": [
      "EXCESO AZÚCARES / EXCESS SUGAR\n",
      "EXCESO SODIO / EXCESS SODIUM\n",
      "EXCESO CALORÍAS / EXCESS CALORIES\n"
     ]
    }
   ],
   "source": [
    "# zucaritas cereal https://world.openfoodfacts.org/product/7501008023624/zucaritas-kellogg-s\n",
    "# TODO: Uncomment the line below, fill in the values, and run the function\n",
    "get_labels(\"solid\", 40, 150, 0,0, 150, 16)"
   ]
  },
  {
   "cell_type": "markdown",
   "id": "6efc2ddb",
   "metadata": {
    "papermill": {
     "duration": 0.007406,
     "end_time": "2024-09-29T08:10:01.986351",
     "exception": false,
     "start_time": "2024-09-29T08:10:01.978945",
     "status": "completed"
    },
    "tags": []
   },
   "source": [
    "Next, try [these mozzarella sticks](https://world-es.openfoodfacts.org/producto/0062325540104/mozzarella-cheese-sticks).  Here is [an image](https://storage.googleapis.com/kaggle-media/learn/images/rcdB7VH.png) with all of the nutritional information."
   ]
  },
  {
   "cell_type": "code",
   "execution_count": 13,
   "id": "721c1cae",
   "metadata": {
    "execution": {
     "iopub.execute_input": "2024-09-29T08:10:02.003851Z",
     "iopub.status.busy": "2024-09-29T08:10:02.003437Z",
     "iopub.status.idle": "2024-09-29T08:10:02.009979Z",
     "shell.execute_reply": "2024-09-29T08:10:02.008537Z"
    },
    "papermill": {
     "duration": 0.018144,
     "end_time": "2024-09-29T08:10:02.012439",
     "exception": false,
     "start_time": "2024-09-29T08:10:01.994295",
     "status": "completed"
    },
    "tags": []
   },
   "outputs": [
    {
     "name": "stdout",
     "output_type": "stream",
     "text": [
      "EXCESO GRASAS SATURADAS / EXCESS SATURATED FAT\n",
      "EXCESO GRASAS TRANS / EXCESS TRANS FAT\n",
      "EXCESO SODIO / EXCESS SODIUM\n",
      "EXCESO CALORÍAS / EXCESS CALORIES\n"
     ]
    }
   ],
   "source": [
    "# mozzarella sticks https://world-es.openfoodfacts.org/producto/0062325540104/mozzarella-cheese-sticks\n",
    "# TODO: Uncomment the line below, fill in the values, and run the function\n",
    "get_labels(\"solid\", 21, 68, 3, 0.2, 208,0)"
   ]
  },
  {
   "cell_type": "markdown",
   "id": "3302c459",
   "metadata": {
    "papermill": {
     "duration": 0.008304,
     "end_time": "2024-09-29T08:10:02.028708",
     "exception": false,
     "start_time": "2024-09-29T08:10:02.020404",
     "status": "completed"
    },
    "tags": []
   },
   "source": [
    "Feel free to skip to the end of the notebook now and run `q5.check()` to complete the exercise.  If you want to try more foods, \n",
    "- try [these cookies](https://world.openfoodfacts.org/product/0069700118545/biscuits-au-sucre-pretraches).  Here is [an image](https://storage.googleapis.com/kaggle-media/learn/images/2Bc271o.png) with all of the nutritional information.\n",
    "- try [this soda](https://world-es.openfoodfacts.org/producto/0078000113464/orange-soda-sunkist).  Here is [an image](https://storage.googleapis.com/kaggle-media/learn/images/RsBYa8E.png) with all of the nutritional information.\n",
    "\n",
    "Use the two code cells below for this."
   ]
  },
  {
   "cell_type": "code",
   "execution_count": 14,
   "id": "69e37764",
   "metadata": {
    "execution": {
     "iopub.execute_input": "2024-09-29T08:10:02.046116Z",
     "iopub.status.busy": "2024-09-29T08:10:02.045689Z",
     "iopub.status.idle": "2024-09-29T08:10:02.050628Z",
     "shell.execute_reply": "2024-09-29T08:10:02.049348Z"
    },
    "papermill": {
     "duration": 0.016411,
     "end_time": "2024-09-29T08:10:02.053104",
     "exception": false,
     "start_time": "2024-09-29T08:10:02.036693",
     "status": "completed"
    },
    "tags": []
   },
   "outputs": [],
   "source": [
    "# pillsbury cookies https://world.openfoodfacts.org/product/0069700118545/biscuits-au-sucre-pretraches\n",
    "# TODO: Uncomment the line below, fill in the values, and run the function\n",
    "#get_labels()"
   ]
  },
  {
   "cell_type": "code",
   "execution_count": 15,
   "id": "91bb07dc",
   "metadata": {
    "execution": {
     "iopub.execute_input": "2024-09-29T08:10:02.071643Z",
     "iopub.status.busy": "2024-09-29T08:10:02.071239Z",
     "iopub.status.idle": "2024-09-29T08:10:02.076140Z",
     "shell.execute_reply": "2024-09-29T08:10:02.074928Z"
    },
    "papermill": {
     "duration": 0.016584,
     "end_time": "2024-09-29T08:10:02.078660",
     "exception": false,
     "start_time": "2024-09-29T08:10:02.062076",
     "status": "completed"
    },
    "tags": []
   },
   "outputs": [],
   "source": [
    "# sunkist orange soda https://world-es.openfoodfacts.org/producto/0078000113464/orange-soda-sunkist\n",
    "# TODO: Uncomment the line below, fill in the values, and run the function\n",
    "#get_labels()"
   ]
  },
  {
   "cell_type": "markdown",
   "id": "729264c9",
   "metadata": {
    "papermill": {
     "duration": 0.008151,
     "end_time": "2024-09-29T08:10:02.094708",
     "exception": false,
     "start_time": "2024-09-29T08:10:02.086557",
     "status": "completed"
    },
    "tags": []
   },
   "source": [
    "Once you have finished investigating the food items in this question, run the final code cell to get credit for completing this problem."
   ]
  },
  {
   "cell_type": "code",
   "execution_count": 16,
   "id": "9fb1d117",
   "metadata": {
    "execution": {
     "iopub.execute_input": "2024-09-29T08:10:02.112366Z",
     "iopub.status.busy": "2024-09-29T08:10:02.111940Z",
     "iopub.status.idle": "2024-09-29T08:10:02.120597Z",
     "shell.execute_reply": "2024-09-29T08:10:02.119584Z"
    },
    "papermill": {
     "duration": 0.020087,
     "end_time": "2024-09-29T08:10:02.122938",
     "exception": false,
     "start_time": "2024-09-29T08:10:02.102851",
     "status": "completed"
    },
    "tags": []
   },
   "outputs": [
    {
     "data": {
      "application/javascript": [
       "parent.postMessage({\"jupyterEvent\": \"custom.exercise_interaction\", \"data\": {\"outcomeType\": 1, \"valueTowardsCompletion\": 0.2, \"interactionType\": 1, \"questionType\": 2, \"questionId\": \"5_GetLabels\", \"learnToolsVersion\": \"0.3.4\", \"failureMessage\": \"\", \"exceptionClass\": \"\", \"trace\": \"\"}}, \"*\")"
      ],
      "text/plain": [
       "<IPython.core.display.Javascript object>"
      ]
     },
     "metadata": {},
     "output_type": "display_data"
    },
    {
     "data": {
      "text/markdown": [
       "<span style=\"color:#33cc33\">Once you have determined the labels for all of the food items, you're ready to move on to the next lesson!</span>"
      ],
      "text/plain": [
       "Once you have determined the labels for all of the food items, you're ready to move on to the next lesson!"
      ]
     },
     "metadata": {},
     "output_type": "display_data"
    }
   ],
   "source": [
    "# Get credit for completing the problem\n",
    "q5.check()"
   ]
  },
  {
   "cell_type": "markdown",
   "id": "29c08e7d",
   "metadata": {
    "papermill": {
     "duration": 0.007835,
     "end_time": "2024-09-29T08:10:02.140242",
     "exception": false,
     "start_time": "2024-09-29T08:10:02.132407",
     "status": "completed"
    },
    "tags": []
   },
   "source": [
    "# Keep going\n",
    "\n",
    "Continue to the next lesson to **[learn about Python lists](https://www.kaggle.com/alexisbcook/intro-to-lists)**."
   ]
  },
  {
   "cell_type": "markdown",
   "id": "7bbbdf84",
   "metadata": {
    "papermill": {
     "duration": 0.007902,
     "end_time": "2024-09-29T08:10:02.156641",
     "exception": false,
     "start_time": "2024-09-29T08:10:02.148739",
     "status": "completed"
    },
    "tags": []
   },
   "source": [
    "---\n",
    "\n",
    "\n",
    "\n",
    "\n",
    "*Have questions or comments? Visit the [course discussion forum](https://www.kaggle.com/learn/intro-to-programming/discussion) to chat with other learners.*"
   ]
  }
 ],
 "metadata": {
  "kaggle": {
   "accelerator": "none",
   "dataSources": [],
   "isGpuEnabled": false,
   "isInternetEnabled": false,
   "language": "python",
   "sourceType": "notebook"
  },
  "kernelspec": {
   "display_name": "Python 3",
   "language": "python",
   "name": "python3"
  },
  "language_info": {
   "codemirror_mode": {
    "name": "ipython",
    "version": 3
   },
   "file_extension": ".py",
   "mimetype": "text/x-python",
   "name": "python",
   "nbconvert_exporter": "python",
   "pygments_lexer": "ipython3",
   "version": "3.10.14"
  },
  "papermill": {
   "default_parameters": {},
   "duration": 5.252818,
   "end_time": "2024-09-29T08:10:02.687471",
   "environment_variables": {},
   "exception": null,
   "input_path": "__notebook__.ipynb",
   "output_path": "__notebook__.ipynb",
   "parameters": {},
   "start_time": "2024-09-29T08:09:57.434653",
   "version": "2.6.0"
  }
 },
 "nbformat": 4,
 "nbformat_minor": 5
}
