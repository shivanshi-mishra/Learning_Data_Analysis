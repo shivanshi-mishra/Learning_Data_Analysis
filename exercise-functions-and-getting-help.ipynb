{
 "cells": [
  {
   "cell_type": "markdown",
   "id": "450afe84",
   "metadata": {
    "papermill": {
     "duration": 0.007021,
     "end_time": "2024-10-02T10:32:10.503080",
     "exception": false,
     "start_time": "2024-10-02T10:32:10.496059",
     "status": "completed"
    },
    "tags": []
   },
   "source": [
    "**This notebook is an exercise in the [Python](https://www.kaggle.com/learn/python) course.  You can reference the tutorial at [this link](https://www.kaggle.com/colinmorris/functions-and-getting-help).**\n",
    "\n",
    "---\n"
   ]
  },
  {
   "cell_type": "markdown",
   "id": "19c07a1d",
   "metadata": {
    "papermill": {
     "duration": 0.006081,
     "end_time": "2024-10-02T10:32:10.515606",
     "exception": false,
     "start_time": "2024-10-02T10:32:10.509525",
     "status": "completed"
    },
    "tags": []
   },
   "source": [
    "Functions are powerful. Try writing some yourself.\n",
    "\n",
    "As before, don't forget to run the setup code below before jumping into question 1."
   ]
  },
  {
   "cell_type": "code",
   "execution_count": 1,
   "id": "bf623075",
   "metadata": {
    "_kg_hide-input": true,
    "_kg_hide-output": true,
    "execution": {
     "iopub.execute_input": "2024-10-02T10:32:10.529945Z",
     "iopub.status.busy": "2024-10-02T10:32:10.529421Z",
     "iopub.status.idle": "2024-10-02T10:32:11.390314Z",
     "shell.execute_reply": "2024-10-02T10:32:11.389084Z"
    },
    "papermill": {
     "duration": 0.871227,
     "end_time": "2024-10-02T10:32:11.392917",
     "exception": false,
     "start_time": "2024-10-02T10:32:10.521690",
     "status": "completed"
    },
    "tags": []
   },
   "outputs": [
    {
     "name": "stdout",
     "output_type": "stream",
     "text": [
      "Setup complete.\n"
     ]
    }
   ],
   "source": [
    "# SETUP. You don't need to worry for now about what this code does or how it works.\n",
    "from learntools.core import binder; binder.bind(globals())\n",
    "from learntools.python.ex2 import *\n",
    "print('Setup complete.')"
   ]
  },
  {
   "cell_type": "markdown",
   "id": "9c61c161",
   "metadata": {
    "papermill": {
     "duration": 0.00599,
     "end_time": "2024-10-02T10:32:11.405404",
     "exception": false,
     "start_time": "2024-10-02T10:32:11.399414",
     "status": "completed"
    },
    "tags": []
   },
   "source": [
    "# 1.\n",
    "\n",
    "Complete the body of the following function according to its docstring.\n",
    "\n",
    "HINT: Python has a built-in function `round`."
   ]
  },
  {
   "cell_type": "code",
   "execution_count": 2,
   "id": "eb93d609",
   "metadata": {
    "execution": {
     "iopub.execute_input": "2024-10-02T10:32:11.419662Z",
     "iopub.status.busy": "2024-10-02T10:32:11.419145Z",
     "iopub.status.idle": "2024-10-02T10:32:11.430175Z",
     "shell.execute_reply": "2024-10-02T10:32:11.429159Z"
    },
    "papermill": {
     "duration": 0.020941,
     "end_time": "2024-10-02T10:32:11.432513",
     "exception": false,
     "start_time": "2024-10-02T10:32:11.411572",
     "status": "completed"
    },
    "tags": []
   },
   "outputs": [
    {
     "data": {
      "application/javascript": [
       "parent.postMessage({\"jupyterEvent\": \"custom.exercise_interaction\", \"data\": {\"outcomeType\": 1, \"valueTowardsCompletion\": 0.16666666666666666, \"interactionType\": 1, \"questionType\": 2, \"questionId\": \"1_RoundFunctionProblem\", \"learnToolsVersion\": \"0.3.4\", \"failureMessage\": \"\", \"exceptionClass\": \"\", \"trace\": \"\"}}, \"*\")"
      ],
      "text/plain": [
       "<IPython.core.display.Javascript object>"
      ]
     },
     "metadata": {},
     "output_type": "display_data"
    },
    {
     "data": {
      "text/markdown": [
       "<span style=\"color:#33cc33\">Correct</span>"
      ],
      "text/plain": [
       "Correct"
      ]
     },
     "metadata": {},
     "output_type": "display_data"
    }
   ],
   "source": [
    "def round_to_two_places(num):\n",
    "    \"\"\"Return the given number rounded to two decimal places. \n",
    "    \n",
    "    >>> round_to_two_places(3.14159)\n",
    "    3.14\n",
    "    \"\"\"\n",
    "    return round(num, 2)\n",
    "\n",
    "# Check your answer\n",
    "q1.check()"
   ]
  },
  {
   "cell_type": "code",
   "execution_count": 3,
   "id": "a7bdbf01",
   "metadata": {
    "execution": {
     "iopub.execute_input": "2024-10-02T10:32:11.447687Z",
     "iopub.status.busy": "2024-10-02T10:32:11.446951Z",
     "iopub.status.idle": "2024-10-02T10:32:11.451375Z",
     "shell.execute_reply": "2024-10-02T10:32:11.450351Z"
    },
    "papermill": {
     "duration": 0.014578,
     "end_time": "2024-10-02T10:32:11.453771",
     "exception": false,
     "start_time": "2024-10-02T10:32:11.439193",
     "status": "completed"
    },
    "tags": []
   },
   "outputs": [],
   "source": [
    "# Uncomment the following for a hint\n",
    "#q1.hint()\n",
    "# Or uncomment the following to peek at the solution\n",
    "#q1.solution()"
   ]
  },
  {
   "cell_type": "markdown",
   "id": "8605514e",
   "metadata": {
    "papermill": {
     "duration": 0.006319,
     "end_time": "2024-10-02T10:32:11.466811",
     "exception": false,
     "start_time": "2024-10-02T10:32:11.460492",
     "status": "completed"
    },
    "tags": []
   },
   "source": [
    "# 2.\n",
    "The help for `round` says that `ndigits` (the second argument) may be negative.\n",
    "What do you think will happen when it is? Try some examples in the following cell."
   ]
  },
  {
   "cell_type": "code",
   "execution_count": 4,
   "id": "aa84c28c",
   "metadata": {
    "execution": {
     "iopub.execute_input": "2024-10-02T10:32:11.481771Z",
     "iopub.status.busy": "2024-10-02T10:32:11.481351Z",
     "iopub.status.idle": "2024-10-02T10:32:11.488179Z",
     "shell.execute_reply": "2024-10-02T10:32:11.487185Z"
    },
    "papermill": {
     "duration": 0.017268,
     "end_time": "2024-10-02T10:32:11.490828",
     "exception": false,
     "start_time": "2024-10-02T10:32:11.473560",
     "status": "completed"
    },
    "tags": []
   },
   "outputs": [
    {
     "data": {
      "text/plain": [
       "3100.0"
      ]
     },
     "execution_count": 4,
     "metadata": {},
     "output_type": "execute_result"
    }
   ],
   "source": [
    "round(3103.453,-2)# Put your test code here"
   ]
  },
  {
   "cell_type": "markdown",
   "id": "697415c1",
   "metadata": {
    "papermill": {
     "duration": 0.007146,
     "end_time": "2024-10-02T10:32:11.505072",
     "exception": false,
     "start_time": "2024-10-02T10:32:11.497926",
     "status": "completed"
    },
    "tags": []
   },
   "source": [
    "Can you think of a case where this would be useful?  Once you're ready, run the code cell below to see the answer and to receive credit for completing the problem."
   ]
  },
  {
   "cell_type": "code",
   "execution_count": 5,
   "id": "a67a42a7",
   "metadata": {
    "execution": {
     "iopub.execute_input": "2024-10-02T10:32:11.520234Z",
     "iopub.status.busy": "2024-10-02T10:32:11.519431Z",
     "iopub.status.idle": "2024-10-02T10:32:11.528316Z",
     "shell.execute_reply": "2024-10-02T10:32:11.527234Z"
    },
    "papermill": {
     "duration": 0.018975,
     "end_time": "2024-10-02T10:32:11.530615",
     "exception": false,
     "start_time": "2024-10-02T10:32:11.511640",
     "status": "completed"
    },
    "tags": []
   },
   "outputs": [
    {
     "data": {
      "application/javascript": [
       "parent.postMessage({\"jupyterEvent\": \"custom.exercise_interaction\", \"data\": {\"interactionType\": 3, \"questionType\": 4, \"questionId\": \"2_RoundNdigitsProblem\", \"learnToolsVersion\": \"0.3.4\", \"valueTowardsCompletion\": 0.0, \"failureMessage\": \"\", \"exceptionClass\": \"\", \"trace\": \"\", \"outcomeType\": 4}}, \"*\")"
      ],
      "text/plain": [
       "<IPython.core.display.Javascript object>"
      ]
     },
     "metadata": {},
     "output_type": "display_data"
    },
    {
     "data": {
      "text/markdown": [
       "<span style=\"color:#33cc99\">Solution:</span> As you've seen, `ndigits=-1` rounds to the nearest 10, `ndigits=-2` rounds to the nearest 100 and so on. Where might this be useful? Suppose we're dealing with large numbers:\n",
       "\n",
       "> The area of Finland is 338,424 km²  \n",
       "> The area of Greenland is 2,166,086 km²\n",
       "\n",
       "We probably don't care whether it's really 338,424, or 338,425, or 338,177. All those digits of accuracy are just distracting. We can chop them off by calling `round()` with `ndigits=-3`:\n",
       "\n",
       "> The area of Finland is 338,000 km²  \n",
       "> The area of Greenland is 2,166,000 km²\n",
       "\n",
       "(We'll talk about how we would get the commas later when we talk about string formatting :))\n"
      ],
      "text/plain": [
       "Solution: As you've seen, `ndigits=-1` rounds to the nearest 10, `ndigits=-2` rounds to the nearest 100 and so on. Where might this be useful? Suppose we're dealing with large numbers:\n",
       "\n",
       "> The area of Finland is 338,424 km²  \n",
       "> The area of Greenland is 2,166,086 km²\n",
       "\n",
       "We probably don't care whether it's really 338,424, or 338,425, or 338,177. All those digits of accuracy are just distracting. We can chop them off by calling `round()` with `ndigits=-3`:\n",
       "\n",
       "> The area of Finland is 338,000 km²  \n",
       "> The area of Greenland is 2,166,000 km²\n",
       "\n",
       "(We'll talk about how we would get the commas later when we talk about string formatting :))"
      ]
     },
     "metadata": {},
     "output_type": "display_data"
    }
   ],
   "source": [
    "# Check your answer (Run this code cell to receive credit!)\n",
    "q2.solution()"
   ]
  },
  {
   "cell_type": "markdown",
   "id": "6245e9f7",
   "metadata": {
    "papermill": {
     "duration": 0.00687,
     "end_time": "2024-10-02T10:32:11.544956",
     "exception": false,
     "start_time": "2024-10-02T10:32:11.538086",
     "status": "completed"
    },
    "tags": []
   },
   "source": [
    "# 3.\n",
    "\n",
    "In the previous exercise, the candy-sharing friends Alice, Bob and Carol tried to split candies evenly. For the sake of their friendship, any candies left over would be smashed. For example, if they collectively bring home 91 candies, they'll take 30 each and smash 1.\n",
    "\n",
    "Below is a simple function that will calculate the number of candies to smash for *any* number of total candies.\n",
    "\n",
    "Modify it so that it optionally takes a second argument representing the number of friends the candies are being split between. If no second argument is provided, it should assume 3 friends, as before.\n",
    "\n",
    "Update the docstring to reflect this new behaviour."
   ]
  },
  {
   "cell_type": "code",
   "execution_count": 6,
   "id": "bfdc2c57",
   "metadata": {
    "execution": {
     "iopub.execute_input": "2024-10-02T10:32:11.561161Z",
     "iopub.status.busy": "2024-10-02T10:32:11.560739Z",
     "iopub.status.idle": "2024-10-02T10:32:11.570672Z",
     "shell.execute_reply": "2024-10-02T10:32:11.569507Z"
    },
    "papermill": {
     "duration": 0.02139,
     "end_time": "2024-10-02T10:32:11.573416",
     "exception": false,
     "start_time": "2024-10-02T10:32:11.552026",
     "status": "completed"
    },
    "tags": []
   },
   "outputs": [
    {
     "data": {
      "application/javascript": [
       "parent.postMessage({\"jupyterEvent\": \"custom.exercise_interaction\", \"data\": {\"outcomeType\": 1, \"valueTowardsCompletion\": 0.16666666666666666, \"interactionType\": 1, \"questionType\": 2, \"questionId\": \"3_CandySmashingFunctionProblem\", \"learnToolsVersion\": \"0.3.4\", \"failureMessage\": \"\", \"exceptionClass\": \"\", \"trace\": \"\"}}, \"*\")"
      ],
      "text/plain": [
       "<IPython.core.display.Javascript object>"
      ]
     },
     "metadata": {},
     "output_type": "display_data"
    },
    {
     "data": {
      "text/markdown": [
       "<span style=\"color:#33cc33\">Correct</span>"
      ],
      "text/plain": [
       "Correct"
      ]
     },
     "metadata": {},
     "output_type": "display_data"
    }
   ],
   "source": [
    "def to_smash(total_candies, num_of_friends = 3):\n",
    "    \"\"\"Return the number of leftover candies that must be smashed after distributing\n",
    "    the given number of candies evenly between some friends. The default value for friends is 3.\n",
    "    \n",
    "    >>> to_smash(91)\n",
    "    1\n",
    "    >>> to_smash(91,4)\n",
    "    3\n",
    "    \"\"\"\n",
    "    return total_candies % num_of_friends\n",
    "\n",
    "# Check your answer\n",
    "q3.check()"
   ]
  },
  {
   "cell_type": "code",
   "execution_count": 7,
   "id": "95653c1b",
   "metadata": {
    "execution": {
     "iopub.execute_input": "2024-10-02T10:32:11.589984Z",
     "iopub.status.busy": "2024-10-02T10:32:11.589608Z",
     "iopub.status.idle": "2024-10-02T10:32:11.594607Z",
     "shell.execute_reply": "2024-10-02T10:32:11.593414Z"
    },
    "papermill": {
     "duration": 0.016269,
     "end_time": "2024-10-02T10:32:11.597045",
     "exception": false,
     "start_time": "2024-10-02T10:32:11.580776",
     "status": "completed"
    },
    "tags": []
   },
   "outputs": [],
   "source": [
    "#q3.hint()"
   ]
  },
  {
   "cell_type": "code",
   "execution_count": 8,
   "id": "c6779df6",
   "metadata": {
    "execution": {
     "iopub.execute_input": "2024-10-02T10:32:11.614042Z",
     "iopub.status.busy": "2024-10-02T10:32:11.613314Z",
     "iopub.status.idle": "2024-10-02T10:32:11.618331Z",
     "shell.execute_reply": "2024-10-02T10:32:11.617250Z"
    },
    "papermill": {
     "duration": 0.01603,
     "end_time": "2024-10-02T10:32:11.620580",
     "exception": false,
     "start_time": "2024-10-02T10:32:11.604550",
     "status": "completed"
    },
    "tags": []
   },
   "outputs": [],
   "source": [
    "#q3.solution()"
   ]
  },
  {
   "cell_type": "markdown",
   "id": "9658a652",
   "metadata": {
    "papermill": {
     "duration": 0.007416,
     "end_time": "2024-10-02T10:32:11.635716",
     "exception": false,
     "start_time": "2024-10-02T10:32:11.628300",
     "status": "completed"
    },
    "tags": []
   },
   "source": [
    "# 4. (Optional)\n",
    "\n",
    "It may not be fun, but reading and understanding error messages will be an important part of your Python career.\n",
    "\n",
    "Each code cell below contains some commented buggy code. For each cell...\n",
    "\n",
    "1. Read the code and predict what you think will happen when it's run.\n",
    "2. Then uncomment the code and run it to see what happens. (**Tip**: In the kernel editor, you can highlight several lines and press `ctrl`+`/` to toggle commenting.)\n",
    "3. Fix the code (so that it accomplishes its intended purpose without throwing an exception)\n",
    "\n",
    "<!-- TODO: should this be autochecked? Delta is probably pretty small. -->"
   ]
  },
  {
   "cell_type": "code",
   "execution_count": 9,
   "id": "e9ee396a",
   "metadata": {
    "execution": {
     "iopub.execute_input": "2024-10-02T10:32:11.652916Z",
     "iopub.status.busy": "2024-10-02T10:32:11.652110Z",
     "iopub.status.idle": "2024-10-02T10:32:11.659264Z",
     "shell.execute_reply": "2024-10-02T10:32:11.658222Z"
    },
    "papermill": {
     "duration": 0.01824,
     "end_time": "2024-10-02T10:32:11.661551",
     "exception": false,
     "start_time": "2024-10-02T10:32:11.643311",
     "status": "completed"
    },
    "tags": []
   },
   "outputs": [
    {
     "data": {
      "text/plain": [
       "10.0"
      ]
     },
     "execution_count": 9,
     "metadata": {},
     "output_type": "execute_result"
    }
   ],
   "source": [
    "round_to_two_places(9.9999)"
   ]
  },
  {
   "cell_type": "code",
   "execution_count": 10,
   "id": "4ee9a21c",
   "metadata": {
    "execution": {
     "iopub.execute_input": "2024-10-02T10:32:11.678808Z",
     "iopub.status.busy": "2024-10-02T10:32:11.678405Z",
     "iopub.status.idle": "2024-10-02T10:32:11.684477Z",
     "shell.execute_reply": "2024-10-02T10:32:11.683362Z"
    },
    "papermill": {
     "duration": 0.018011,
     "end_time": "2024-10-02T10:32:11.687045",
     "exception": false,
     "start_time": "2024-10-02T10:32:11.669034",
     "status": "completed"
    },
    "tags": []
   },
   "outputs": [
    {
     "name": "stdout",
     "output_type": "stream",
     "text": [
      "5\n"
     ]
    }
   ],
   "source": [
    "x = -10\n",
    "y = 5\n",
    "# Which of the two variables above has the smallest absolute value?\n",
    "smallest_abs = min(abs(x), abs(y))\n",
    "print(smallest_abs)"
   ]
  },
  {
   "cell_type": "code",
   "execution_count": 11,
   "id": "88766ea4",
   "metadata": {
    "execution": {
     "iopub.execute_input": "2024-10-02T10:32:11.705074Z",
     "iopub.status.busy": "2024-10-02T10:32:11.704120Z",
     "iopub.status.idle": "2024-10-02T10:32:11.710724Z",
     "shell.execute_reply": "2024-10-02T10:32:11.709669Z"
    },
    "papermill": {
     "duration": 0.018338,
     "end_time": "2024-10-02T10:32:11.713149",
     "exception": false,
     "start_time": "2024-10-02T10:32:11.694811",
     "status": "completed"
    },
    "tags": []
   },
   "outputs": [
    {
     "name": "stdout",
     "output_type": "stream",
     "text": [
      "5\n"
     ]
    }
   ],
   "source": [
    "def f(x):\n",
    "    y = abs(x)\n",
    "    return y\n",
    "\n",
    "print(f(5))"
   ]
  },
  {
   "cell_type": "markdown",
   "id": "7918dab8",
   "metadata": {
    "papermill": {
     "duration": 0.007553,
     "end_time": "2024-10-02T10:32:11.728500",
     "exception": false,
     "start_time": "2024-10-02T10:32:11.720947",
     "status": "completed"
    },
    "tags": []
   },
   "source": [
    "# Keep Going\n",
    "\n",
    "Nice job with the code. Next up, you'll learn about *conditionals*, which you'll need to **[write interesting programs](https://www.kaggle.com/colinmorris/booleans-and-conditionals)**. "
   ]
  },
  {
   "cell_type": "markdown",
   "id": "5769be82",
   "metadata": {
    "papermill": {
     "duration": 0.007682,
     "end_time": "2024-10-02T10:32:11.744394",
     "exception": false,
     "start_time": "2024-10-02T10:32:11.736712",
     "status": "completed"
    },
    "tags": []
   },
   "source": [
    "---\n",
    "\n",
    "\n",
    "\n",
    "\n",
    "*Have questions or comments? Visit the [course discussion forum](https://www.kaggle.com/learn/python/discussion) to chat with other learners.*"
   ]
  }
 ],
 "metadata": {
  "kaggle": {
   "accelerator": "none",
   "dataSources": [],
   "isGpuEnabled": false,
   "isInternetEnabled": false,
   "language": "python",
   "sourceType": "notebook"
  },
  "kernelspec": {
   "display_name": "Python 3",
   "language": "python",
   "name": "python3"
  },
  "language_info": {
   "codemirror_mode": {
    "name": "ipython",
    "version": 3
   },
   "file_extension": ".py",
   "mimetype": "text/x-python",
   "name": "python",
   "nbconvert_exporter": "python",
   "pygments_lexer": "ipython3",
   "version": "3.10.14"
  },
  "learntools_metadata": {
   "lesson_index": 1,
   "type": "exercise"
  },
  "papermill": {
   "default_parameters": {},
   "duration": 4.590834,
   "end_time": "2024-10-02T10:32:12.173319",
   "environment_variables": {},
   "exception": null,
   "input_path": "__notebook__.ipynb",
   "output_path": "__notebook__.ipynb",
   "parameters": {},
   "start_time": "2024-10-02T10:32:07.582485",
   "version": "2.6.0"
  }
 },
 "nbformat": 4,
 "nbformat_minor": 5
}
