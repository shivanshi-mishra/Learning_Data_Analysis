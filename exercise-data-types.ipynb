{
 "cells": [
  {
   "cell_type": "markdown",
   "id": "245fa188",
   "metadata": {
    "papermill": {
     "duration": 0.008873,
     "end_time": "2024-09-28T18:48:00.061676",
     "exception": false,
     "start_time": "2024-09-28T18:48:00.052803",
     "status": "completed"
    },
    "tags": []
   },
   "source": [
    "**This notebook is an exercise in the [Intro to Programming](https://www.kaggle.com/learn/intro-to-programming) course.  You can reference the tutorial at [this link](https://www.kaggle.com/alexisbcook/data-types).**\n",
    "\n",
    "---\n"
   ]
  },
  {
   "cell_type": "markdown",
   "id": "ee931f72",
   "metadata": {
    "papermill": {
     "duration": 0.008109,
     "end_time": "2024-09-28T18:48:00.078263",
     "exception": false,
     "start_time": "2024-09-28T18:48:00.070154",
     "status": "completed"
    },
    "tags": []
   },
   "source": [
    "In the tutorial, you learned about four different data types: floats, integers, strings, and booleans.  In this exercise, you'll experiment with them.\n",
    "\n",
    "# Set up the notebook\n",
    "\n",
    "Run the next code cell without changes to set up the notebook."
   ]
  },
  {
   "cell_type": "code",
   "execution_count": 1,
   "id": "0378803c",
   "metadata": {
    "execution": {
     "iopub.execute_input": "2024-09-28T18:48:00.096555Z",
     "iopub.status.busy": "2024-09-28T18:48:00.096135Z",
     "iopub.status.idle": "2024-09-28T18:48:00.897970Z",
     "shell.execute_reply": "2024-09-28T18:48:00.896849Z"
    },
    "papermill": {
     "duration": 0.814154,
     "end_time": "2024-09-28T18:48:00.900706",
     "exception": false,
     "start_time": "2024-09-28T18:48:00.086552",
     "status": "completed"
    },
    "tags": []
   },
   "outputs": [
    {
     "name": "stdout",
     "output_type": "stream",
     "text": [
      "Setup complete.\n"
     ]
    }
   ],
   "source": [
    "# Set up the exercise\n",
    "from learntools.core import binder\n",
    "binder.bind(globals())\n",
    "from learntools.intro_to_programming.ex3 import *\n",
    "print('Setup complete.')"
   ]
  },
  {
   "cell_type": "markdown",
   "id": "ba1d8185",
   "metadata": {
    "papermill": {
     "duration": 0.008033,
     "end_time": "2024-09-28T18:48:00.917306",
     "exception": false,
     "start_time": "2024-09-28T18:48:00.909273",
     "status": "completed"
    },
    "tags": []
   },
   "source": [
    "# Question 1\n",
    "\n",
    "You have seen how to convert a float to an integer with the `int` function.  Try this out yourself by running the code cell below."
   ]
  },
  {
   "cell_type": "code",
   "execution_count": 2,
   "id": "d809d867",
   "metadata": {
    "execution": {
     "iopub.execute_input": "2024-09-28T18:48:00.936149Z",
     "iopub.status.busy": "2024-09-28T18:48:00.935229Z",
     "iopub.status.idle": "2024-09-28T18:48:00.941856Z",
     "shell.execute_reply": "2024-09-28T18:48:00.940785Z"
    },
    "papermill": {
     "duration": 0.018732,
     "end_time": "2024-09-28T18:48:00.944296",
     "exception": false,
     "start_time": "2024-09-28T18:48:00.925564",
     "status": "completed"
    },
    "tags": []
   },
   "outputs": [
    {
     "name": "stdout",
     "output_type": "stream",
     "text": [
      "1.0\n",
      "<class 'float'>\n",
      "1\n",
      "<class 'int'>\n"
     ]
    }
   ],
   "source": [
    "# Define a float\n",
    "y = 1.\n",
    "print(y)\n",
    "print(type(y))\n",
    "\n",
    "# Convert float to integer with the int function\n",
    "z = int(y)\n",
    "print(z)\n",
    "print(type(z))"
   ]
  },
  {
   "cell_type": "markdown",
   "id": "b5cba0dc",
   "metadata": {
    "papermill": {
     "duration": 0.008107,
     "end_time": "2024-09-28T18:48:00.960781",
     "exception": false,
     "start_time": "2024-09-28T18:48:00.952674",
     "status": "completed"
    },
    "tags": []
   },
   "source": [
    "In this case, the float you are using has no numbers after the decimal.  \n",
    "- But what happens when you try to convert a float with a fractional part to an integer?  \n",
    "- How does the outcome of the `int` function change for positive and negative numbers?\n",
    "\n",
    "Use the next code cell to investigate and answer these questions.  Feel free to add or remove any lines of code -- it is your workspace!"
   ]
  },
  {
   "cell_type": "code",
   "execution_count": 3,
   "id": "fca29ead",
   "metadata": {
    "execution": {
     "iopub.execute_input": "2024-09-28T18:48:00.980019Z",
     "iopub.status.busy": "2024-09-28T18:48:00.979301Z",
     "iopub.status.idle": "2024-09-28T18:48:00.985540Z",
     "shell.execute_reply": "2024-09-28T18:48:00.984595Z"
    },
    "papermill": {
     "duration": 0.018369,
     "end_time": "2024-09-28T18:48:00.988230",
     "exception": false,
     "start_time": "2024-09-28T18:48:00.969861",
     "status": "completed"
    },
    "tags": []
   },
   "outputs": [
    {
     "name": "stdout",
     "output_type": "stream",
     "text": [
      "1\n",
      "1\n",
      "-3\n",
      "-2\n"
     ]
    }
   ],
   "source": [
    "# Uncomment and run this code to get started!\n",
    "print(int(1.2321))\n",
    "print(int(1.747))\n",
    "print(int(-3.94535))\n",
    "print(int(-2.19774))"
   ]
  },
  {
   "cell_type": "markdown",
   "id": "64e3f771",
   "metadata": {
    "papermill": {
     "duration": 0.008076,
     "end_time": "2024-09-28T18:48:01.004699",
     "exception": false,
     "start_time": "2024-09-28T18:48:00.996623",
     "status": "completed"
    },
    "tags": []
   },
   "source": [
    "Once you have an answer, run the code cell below to see the solution.  Viewing the solution will give you credit for answering the problem."
   ]
  },
  {
   "cell_type": "code",
   "execution_count": 4,
   "id": "1ff4d661",
   "metadata": {
    "execution": {
     "iopub.execute_input": "2024-09-28T18:48:01.023167Z",
     "iopub.status.busy": "2024-09-28T18:48:01.022755Z",
     "iopub.status.idle": "2024-09-28T18:48:01.032806Z",
     "shell.execute_reply": "2024-09-28T18:48:01.031809Z"
    },
    "papermill": {
     "duration": 0.022091,
     "end_time": "2024-09-28T18:48:01.035088",
     "exception": false,
     "start_time": "2024-09-28T18:48:01.012997",
     "status": "completed"
    },
    "tags": []
   },
   "outputs": [
    {
     "data": {
      "application/javascript": [
       "parent.postMessage({\"jupyterEvent\": \"custom.exercise_interaction\", \"data\": {\"outcomeType\": 1, \"valueTowardsCompletion\": 0.2, \"interactionType\": 1, \"questionType\": 4, \"questionId\": \"1_FloatToInt\", \"learnToolsVersion\": \"0.3.4\", \"failureMessage\": \"\", \"exceptionClass\": \"\", \"trace\": \"\"}}, \"*\")"
      ],
      "text/plain": [
       "<IPython.core.display.Javascript object>"
      ]
     },
     "metadata": {},
     "output_type": "display_data"
    },
    {
     "data": {
      "text/markdown": [
       "<span style=\"color:#33cc33\">Correct:</span> \n",
       "\n",
       "Negative floats are always rounded UP to the closest integer (for instance, both -1.1 and -1.9 are rounded up to -1). Positive floats are always rounded DOWN to the closest integer (for instance, 2.1 and 2.9 are rounded down to 2)."
      ],
      "text/plain": [
       "Correct: \n",
       "\n",
       "Negative floats are always rounded UP to the closest integer (for instance, both -1.1 and -1.9 are rounded up to -1). Positive floats are always rounded DOWN to the closest integer (for instance, 2.1 and 2.9 are rounded down to 2)."
      ]
     },
     "metadata": {},
     "output_type": "display_data"
    }
   ],
   "source": [
    "# Check your answer (Run this code cell to receive credit!)\n",
    "q1.check()"
   ]
  },
  {
   "cell_type": "markdown",
   "id": "818d5c34",
   "metadata": {
    "papermill": {
     "duration": 0.008423,
     "end_time": "2024-09-28T18:48:01.052179",
     "exception": false,
     "start_time": "2024-09-28T18:48:01.043756",
     "status": "completed"
    },
    "tags": []
   },
   "source": [
    "# Question 2\n",
    "\n",
    "In the tutorial, you learned about booleans (which can take a value of `True` or `False`), in addition to integers, floats, and strings.  For this question, your goal is to determine what happens when you multiply a boolean by any of these data types.  Specifically, \n",
    "- What happens when you multiply an integer or float by `True`?  What happens when you multiply them by `False`?  How does the answer change if the numbers are positive or negative?\n",
    "- What happens when you multiply a string by `True`?  By `False`?\n",
    "\n",
    "Use the next code cell for your investigation. "
   ]
  },
  {
   "cell_type": "code",
   "execution_count": 5,
   "id": "706019cc",
   "metadata": {
    "execution": {
     "iopub.execute_input": "2024-09-28T18:48:01.072021Z",
     "iopub.status.busy": "2024-09-28T18:48:01.070910Z",
     "iopub.status.idle": "2024-09-28T18:48:01.077440Z",
     "shell.execute_reply": "2024-09-28T18:48:01.076434Z"
    },
    "papermill": {
     "duration": 0.01882,
     "end_time": "2024-09-28T18:48:01.079623",
     "exception": false,
     "start_time": "2024-09-28T18:48:01.060803",
     "status": "completed"
    },
    "tags": []
   },
   "outputs": [
    {
     "name": "stdout",
     "output_type": "stream",
     "text": [
      "3\n",
      "-3.1\n",
      "<class 'str'>\n",
      "0\n"
     ]
    }
   ],
   "source": [
    "# Uncomment and run this code to get started!\n",
    "print(3 * True)\n",
    "print(-3.1 * True)\n",
    "print(type(\"abc\" * False))\n",
    "print(len(\"abc\" * False))"
   ]
  },
  {
   "cell_type": "markdown",
   "id": "c5c3f1bb",
   "metadata": {
    "papermill": {
     "duration": 0.00855,
     "end_time": "2024-09-28T18:48:01.097265",
     "exception": false,
     "start_time": "2024-09-28T18:48:01.088715",
     "status": "completed"
    },
    "tags": []
   },
   "source": [
    "Once you have an answer, run the code cell below to see the solution.  Viewing the solution will give you credit for answering the problem."
   ]
  },
  {
   "cell_type": "code",
   "execution_count": 6,
   "id": "c8798f6f",
   "metadata": {
    "execution": {
     "iopub.execute_input": "2024-09-28T18:48:01.116821Z",
     "iopub.status.busy": "2024-09-28T18:48:01.116003Z",
     "iopub.status.idle": "2024-09-28T18:48:01.124591Z",
     "shell.execute_reply": "2024-09-28T18:48:01.123677Z"
    },
    "papermill": {
     "duration": 0.020749,
     "end_time": "2024-09-28T18:48:01.126703",
     "exception": false,
     "start_time": "2024-09-28T18:48:01.105954",
     "status": "completed"
    },
    "tags": []
   },
   "outputs": [
    {
     "data": {
      "application/javascript": [
       "parent.postMessage({\"jupyterEvent\": \"custom.exercise_interaction\", \"data\": {\"outcomeType\": 1, \"valueTowardsCompletion\": 0.2, \"interactionType\": 1, \"questionType\": 4, \"questionId\": \"2_MultiplyBooleans\", \"learnToolsVersion\": \"0.3.4\", \"failureMessage\": \"\", \"exceptionClass\": \"\", \"trace\": \"\"}}, \"*\")"
      ],
      "text/plain": [
       "<IPython.core.display.Javascript object>"
      ]
     },
     "metadata": {},
     "output_type": "display_data"
    },
    {
     "data": {
      "text/markdown": [
       "<span style=\"color:#33cc33\">Correct:</span> \n",
       "\n",
       "When you multiple an integer or float by a boolean with value `True`, it just returns that same integer or float (and is equivalent to multiplying by 1).  If you multiply an integer or float by a boolean with value `False`, it always returns 0.  This is true for both positive and negative numbers.  If you multiply a string by a boolean with value `True`, it just returns that same string.  And if you multiply a string by a boolean with value `False`, it returns an empty string (or a string with length zero)."
      ],
      "text/plain": [
       "Correct: \n",
       "\n",
       "When you multiple an integer or float by a boolean with value `True`, it just returns that same integer or float (and is equivalent to multiplying by 1).  If you multiply an integer or float by a boolean with value `False`, it always returns 0.  This is true for both positive and negative numbers.  If you multiply a string by a boolean with value `True`, it just returns that same string.  And if you multiply a string by a boolean with value `False`, it returns an empty string (or a string with length zero)."
      ]
     },
     "metadata": {},
     "output_type": "display_data"
    }
   ],
   "source": [
    "# Check your answer (Run this code cell to receive credit!)\n",
    "q2.check()"
   ]
  },
  {
   "cell_type": "markdown",
   "id": "b15d15fb",
   "metadata": {
    "papermill": {
     "duration": 0.008874,
     "end_time": "2024-09-28T18:48:01.144669",
     "exception": false,
     "start_time": "2024-09-28T18:48:01.135795",
     "status": "completed"
    },
    "tags": []
   },
   "source": [
    "# Question 3\n",
    "\n",
    "In this question, you will build off your work from the previous exercise to write a function that estimates the value of a house.\n",
    "\n",
    "Use the next code cell to create a function `get_expected_cost` that takes as input three variables:\n",
    "- `beds` - number of bedrooms (data type float)\n",
    "- `baths` - number of bathrooms (data type float)\n",
    "- `has_basement` - whether or not the house has a basement (data type boolean)\n",
    "\n",
    "It should return the expected cost of a house with those characteristics. Assume that:\n",
    "- the expected cost for a house with 0 bedrooms and 0 bathrooms, and no basement is 80000, \n",
    "- each bedroom adds 30000 to the expected cost,\n",
    "- each bathroom adds 10000 to the expected cost, and\n",
    "- a basement adds 40000 to the expected cost.\n",
    "\n",
    "For instance,\n",
    "- a house with 1 bedroom, 1 bathroom, and no basement has an expected cost of 80000 + 30000 + 10000 = 120000.  This value will be calculated with `get_expected_cost(1, 1, False)`.\n",
    "- a house with 2 bedrooms, 1 bathroom, and a basement has an expected cost of 80000 + 2*30000 + 10000 + 40000 = 190000.  This value will be calculated with `get_expected_cost(2, 1, True)`.\n",
    "\n",
    "Remember you can always get a hint by uncommenting `q3.hint()` in the code cell following the next!"
   ]
  },
  {
   "cell_type": "code",
   "execution_count": 7,
   "id": "80334ef9",
   "metadata": {
    "execution": {
     "iopub.execute_input": "2024-09-28T18:48:01.165271Z",
     "iopub.status.busy": "2024-09-28T18:48:01.164469Z",
     "iopub.status.idle": "2024-09-28T18:48:01.173761Z",
     "shell.execute_reply": "2024-09-28T18:48:01.172808Z"
    },
    "papermill": {
     "duration": 0.022522,
     "end_time": "2024-09-28T18:48:01.176115",
     "exception": false,
     "start_time": "2024-09-28T18:48:01.153593",
     "status": "completed"
    },
    "tags": []
   },
   "outputs": [
    {
     "data": {
      "application/javascript": [
       "parent.postMessage({\"jupyterEvent\": \"custom.exercise_interaction\", \"data\": {\"outcomeType\": 1, \"valueTowardsCompletion\": 0.2, \"interactionType\": 1, \"questionType\": 2, \"questionId\": \"3_EstimateHouseValueBool\", \"learnToolsVersion\": \"0.3.4\", \"failureMessage\": \"\", \"exceptionClass\": \"\", \"trace\": \"\"}}, \"*\")"
      ],
      "text/plain": [
       "<IPython.core.display.Javascript object>"
      ]
     },
     "metadata": {},
     "output_type": "display_data"
    },
    {
     "data": {
      "text/markdown": [
       "<span style=\"color:#33cc33\">Correct</span>"
      ],
      "text/plain": [
       "Correct"
      ]
     },
     "metadata": {},
     "output_type": "display_data"
    }
   ],
   "source": [
    "# TODO: Complete the function\n",
    "def get_expected_cost(beds, baths, has_basement):\n",
    "    value = 80000+(beds*30000+baths*10000+has_basement*40000)\n",
    "    return value\n",
    "\n",
    "# Check your answer \n",
    "q3.check()"
   ]
  },
  {
   "cell_type": "code",
   "execution_count": 8,
   "id": "f38509d2",
   "metadata": {
    "execution": {
     "iopub.execute_input": "2024-09-28T18:48:01.197656Z",
     "iopub.status.busy": "2024-09-28T18:48:01.196391Z",
     "iopub.status.idle": "2024-09-28T18:48:01.201299Z",
     "shell.execute_reply": "2024-09-28T18:48:01.200278Z"
    },
    "papermill": {
     "duration": 0.018243,
     "end_time": "2024-09-28T18:48:01.203995",
     "exception": false,
     "start_time": "2024-09-28T18:48:01.185752",
     "status": "completed"
    },
    "tags": []
   },
   "outputs": [],
   "source": [
    "# Uncomment to see a hint\n",
    "#q3.hint()\n",
    "\n",
    "# Uncomment to view the solution\n",
    "#q3.solution()"
   ]
  },
  {
   "cell_type": "markdown",
   "id": "5e0dff19",
   "metadata": {
    "papermill": {
     "duration": 0.009143,
     "end_time": "2024-09-28T18:48:01.222672",
     "exception": false,
     "start_time": "2024-09-28T18:48:01.213529",
     "status": "completed"
    },
    "tags": []
   },
   "source": [
    "# Question 4\n",
    "\n",
    "We'll continue our study of boolean arithmetic.  For this question, your task is to provide a description of what happpens when you add booleans. \n",
    "\n",
    "Use the next code cell for your investigation.  Feel free to add or remove any lines of code - use it as your workspace!"
   ]
  },
  {
   "cell_type": "code",
   "execution_count": 9,
   "id": "d960b28c",
   "metadata": {
    "execution": {
     "iopub.execute_input": "2024-09-28T18:48:01.244123Z",
     "iopub.status.busy": "2024-09-28T18:48:01.243407Z",
     "iopub.status.idle": "2024-09-28T18:48:01.249753Z",
     "shell.execute_reply": "2024-09-28T18:48:01.248679Z"
    },
    "papermill": {
     "duration": 0.019771,
     "end_time": "2024-09-28T18:48:01.252279",
     "exception": false,
     "start_time": "2024-09-28T18:48:01.232508",
     "status": "completed"
    },
    "tags": []
   },
   "outputs": [
    {
     "name": "stdout",
     "output_type": "stream",
     "text": [
      "0\n",
      "1\n",
      "1\n",
      "2\n",
      "3\n"
     ]
    }
   ],
   "source": [
    "print(False + False)\n",
    "print(True + False)\n",
    "print(False + True)\n",
    "print(True + True)\n",
    "print(False + True + True + True)"
   ]
  },
  {
   "cell_type": "markdown",
   "id": "b6e4345e",
   "metadata": {
    "papermill": {
     "duration": 0.009028,
     "end_time": "2024-09-28T18:48:01.270924",
     "exception": false,
     "start_time": "2024-09-28T18:48:01.261896",
     "status": "completed"
    },
    "tags": []
   },
   "source": [
    "Once you have an answer, run the code cell below to see the solution.  Viewing the solution will give you credit for answering the problem."
   ]
  },
  {
   "cell_type": "code",
   "execution_count": 10,
   "id": "292214c9",
   "metadata": {
    "execution": {
     "iopub.execute_input": "2024-09-28T18:48:01.292097Z",
     "iopub.status.busy": "2024-09-28T18:48:01.291370Z",
     "iopub.status.idle": "2024-09-28T18:48:01.299858Z",
     "shell.execute_reply": "2024-09-28T18:48:01.298879Z"
    },
    "papermill": {
     "duration": 0.021712,
     "end_time": "2024-09-28T18:48:01.302240",
     "exception": false,
     "start_time": "2024-09-28T18:48:01.280528",
     "status": "completed"
    },
    "tags": []
   },
   "outputs": [
    {
     "data": {
      "application/javascript": [
       "parent.postMessage({\"jupyterEvent\": \"custom.exercise_interaction\", \"data\": {\"outcomeType\": 1, \"valueTowardsCompletion\": 0.2, \"interactionType\": 1, \"questionType\": 4, \"questionId\": \"4_AddingBooleans\", \"learnToolsVersion\": \"0.3.4\", \"failureMessage\": \"\", \"exceptionClass\": \"\", \"trace\": \"\"}}, \"*\")"
      ],
      "text/plain": [
       "<IPython.core.display.Javascript object>"
      ]
     },
     "metadata": {},
     "output_type": "display_data"
    },
    {
     "data": {
      "text/markdown": [
       "<span style=\"color:#33cc33\">Correct:</span> \n",
       "\n",
       "When you add booleans, adding `False` is equivalent to adding 0, and adding `True` is equivalent to adding 1."
      ],
      "text/plain": [
       "Correct: \n",
       "\n",
       "When you add booleans, adding `False` is equivalent to adding 0, and adding `True` is equivalent to adding 1."
      ]
     },
     "metadata": {},
     "output_type": "display_data"
    }
   ],
   "source": [
    "# Check your answer (Run this code cell to receive credit!)\n",
    "q4.check()"
   ]
  },
  {
   "cell_type": "markdown",
   "id": "924d1fe5",
   "metadata": {
    "papermill": {
     "duration": 0.009755,
     "end_time": "2024-09-28T18:48:01.321737",
     "exception": false,
     "start_time": "2024-09-28T18:48:01.311982",
     "status": "completed"
    },
    "tags": []
   },
   "source": [
    "# 🌶️ Question 5\n",
    "\n",
    "You own an online shop where you sell rings with custom engravings.  You offer both gold plated and solid gold rings.\n",
    "- Gold plated rings have a base cost of \\\\$50, and you charge \\\\$7 per engraved unit.  \n",
    "- Solid gold rings have a base cost of \\\\$100, and you charge \\\\$10 per engraved unit.\n",
    "- Spaces and punctuation are counted as engraved units.\n",
    "\n",
    "Write a function `cost_of_project()` that takes two arguments:\n",
    "- `engraving` - a Python string with the text of the engraving\n",
    "- `solid_gold` - a Boolean that indicates whether the ring is solid gold\n",
    "\n",
    "It should return the cost of the project.  This question should be fairly challenging, and you may need a hint."
   ]
  },
  {
   "cell_type": "code",
   "execution_count": 11,
   "id": "86405316",
   "metadata": {
    "execution": {
     "iopub.execute_input": "2024-09-28T18:48:01.343400Z",
     "iopub.status.busy": "2024-09-28T18:48:01.342560Z",
     "iopub.status.idle": "2024-09-28T18:48:01.352679Z",
     "shell.execute_reply": "2024-09-28T18:48:01.351681Z"
    },
    "papermill": {
     "duration": 0.023604,
     "end_time": "2024-09-28T18:48:01.355133",
     "exception": false,
     "start_time": "2024-09-28T18:48:01.331529",
     "status": "completed"
    },
    "tags": []
   },
   "outputs": [
    {
     "data": {
      "application/javascript": [
       "parent.postMessage({\"jupyterEvent\": \"custom.exercise_interaction\", \"data\": {\"outcomeType\": 1, \"valueTowardsCompletion\": 0.2, \"interactionType\": 1, \"questionType\": 2, \"questionId\": \"5_CustomEngravings\", \"learnToolsVersion\": \"0.3.4\", \"failureMessage\": \"\", \"exceptionClass\": \"\", \"trace\": \"\"}}, \"*\")"
      ],
      "text/plain": [
       "<IPython.core.display.Javascript object>"
      ]
     },
     "metadata": {},
     "output_type": "display_data"
    },
    {
     "data": {
      "text/markdown": [
       "<span style=\"color:#33cc33\">Correct</span>"
      ],
      "text/plain": [
       "Correct"
      ]
     },
     "metadata": {},
     "output_type": "display_data"
    }
   ],
   "source": [
    "def cost_of_project(engraving, solid_gold):\n",
    "    gold_plated = not solid_gold\n",
    "    cost = solid_gold*(100+(10*len(engraving)))+ gold_plated*(50+(7*len(engraving)))\n",
    "    return cost\n",
    "\n",
    "# Check your answer\n",
    "q5.check()"
   ]
  },
  {
   "cell_type": "code",
   "execution_count": 12,
   "id": "e447b77d",
   "metadata": {
    "execution": {
     "iopub.execute_input": "2024-09-28T18:48:01.378434Z",
     "iopub.status.busy": "2024-09-28T18:48:01.377237Z",
     "iopub.status.idle": "2024-09-28T18:48:01.382162Z",
     "shell.execute_reply": "2024-09-28T18:48:01.381135Z"
    },
    "papermill": {
     "duration": 0.018862,
     "end_time": "2024-09-28T18:48:01.384372",
     "exception": false,
     "start_time": "2024-09-28T18:48:01.365510",
     "status": "completed"
    },
    "tags": []
   },
   "outputs": [],
   "source": [
    "# Uncomment to see a hint\n",
    "#q5.hint()\n",
    "\n",
    "# Uncomment to view the solution\n",
    "#q5.solution()"
   ]
  },
  {
   "cell_type": "markdown",
   "id": "859bc5c7",
   "metadata": {
    "papermill": {
     "duration": 0.009876,
     "end_time": "2024-09-28T18:48:01.404442",
     "exception": false,
     "start_time": "2024-09-28T18:48:01.394566",
     "status": "completed"
    },
    "tags": []
   },
   "source": [
    "Run the next code cell to calculate the cost of engraving `Charlie+Denver` on a solid gold ring."
   ]
  },
  {
   "cell_type": "code",
   "execution_count": 13,
   "id": "ef5f483f",
   "metadata": {
    "execution": {
     "iopub.execute_input": "2024-09-28T18:48:01.426760Z",
     "iopub.status.busy": "2024-09-28T18:48:01.425742Z",
     "iopub.status.idle": "2024-09-28T18:48:01.432780Z",
     "shell.execute_reply": "2024-09-28T18:48:01.430400Z"
    },
    "papermill": {
     "duration": 0.020805,
     "end_time": "2024-09-28T18:48:01.435284",
     "exception": false,
     "start_time": "2024-09-28T18:48:01.414479",
     "status": "completed"
    },
    "tags": []
   },
   "outputs": [
    {
     "name": "stdout",
     "output_type": "stream",
     "text": [
      "240\n"
     ]
    }
   ],
   "source": [
    "project_one = cost_of_project(\"Charlie+Denver\", True)\n",
    "print(project_one)"
   ]
  },
  {
   "cell_type": "markdown",
   "id": "798c193c",
   "metadata": {
    "papermill": {
     "duration": 0.009776,
     "end_time": "2024-09-28T18:48:01.455435",
     "exception": false,
     "start_time": "2024-09-28T18:48:01.445659",
     "status": "completed"
    },
    "tags": []
   },
   "source": [
    "Use the next code cell to calculate the cost of engraving `08/10/2000` on a gold plated ring."
   ]
  },
  {
   "cell_type": "code",
   "execution_count": 14,
   "id": "51a3b932",
   "metadata": {
    "execution": {
     "iopub.execute_input": "2024-09-28T18:48:01.477881Z",
     "iopub.status.busy": "2024-09-28T18:48:01.477184Z",
     "iopub.status.idle": "2024-09-28T18:48:01.482988Z",
     "shell.execute_reply": "2024-09-28T18:48:01.481802Z"
    },
    "papermill": {
     "duration": 0.019736,
     "end_time": "2024-09-28T18:48:01.485206",
     "exception": false,
     "start_time": "2024-09-28T18:48:01.465470",
     "status": "completed"
    },
    "tags": []
   },
   "outputs": [
    {
     "name": "stdout",
     "output_type": "stream",
     "text": [
      "120\n"
     ]
    }
   ],
   "source": [
    "project_two = cost_of_project(\"08/10/2000\", False)\n",
    "print(project_two)"
   ]
  },
  {
   "cell_type": "markdown",
   "id": "af67b38b",
   "metadata": {
    "papermill": {
     "duration": 0.009975,
     "end_time": "2024-09-28T18:48:01.505625",
     "exception": false,
     "start_time": "2024-09-28T18:48:01.495650",
     "status": "completed"
    },
    "tags": []
   },
   "source": [
    "# Keep going\n",
    "\n",
    "Continue to the next lesson to **[learn about conditions and conditional statements](https://www.kaggle.com/alexisbcook/conditions-and-conditional-statements)**."
   ]
  },
  {
   "cell_type": "markdown",
   "id": "a7da78a9",
   "metadata": {
    "papermill": {
     "duration": 0.010116,
     "end_time": "2024-09-28T18:48:01.526038",
     "exception": false,
     "start_time": "2024-09-28T18:48:01.515922",
     "status": "completed"
    },
    "tags": []
   },
   "source": [
    "---\n",
    "\n",
    "\n",
    "\n",
    "\n",
    "*Have questions or comments? Visit the [course discussion forum](https://www.kaggle.com/learn/intro-to-programming/discussion) to chat with other learners.*"
   ]
  }
 ],
 "metadata": {
  "kaggle": {
   "accelerator": "none",
   "dataSources": [],
   "isGpuEnabled": false,
   "isInternetEnabled": false,
   "language": "python",
   "sourceType": "notebook"
  },
  "kernelspec": {
   "display_name": "Python 3",
   "language": "python",
   "name": "python3"
  },
  "language_info": {
   "codemirror_mode": {
    "name": "ipython",
    "version": 3
   },
   "file_extension": ".py",
   "mimetype": "text/x-python",
   "name": "python",
   "nbconvert_exporter": "python",
   "pygments_lexer": "ipython3",
   "version": "3.10.14"
  },
  "papermill": {
   "default_parameters": {},
   "duration": 4.758296,
   "end_time": "2024-09-28T18:48:01.957303",
   "environment_variables": {},
   "exception": null,
   "input_path": "__notebook__.ipynb",
   "output_path": "__notebook__.ipynb",
   "parameters": {},
   "start_time": "2024-09-28T18:47:57.199007",
   "version": "2.3.3"
  }
 },
 "nbformat": 4,
 "nbformat_minor": 5
}
