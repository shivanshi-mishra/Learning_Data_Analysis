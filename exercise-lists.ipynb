{
 "cells": [
  {
   "cell_type": "markdown",
   "id": "babd74b2",
   "metadata": {
    "papermill": {
     "duration": 0.006979,
     "end_time": "2024-10-04T09:44:48.193769",
     "exception": false,
     "start_time": "2024-10-04T09:44:48.186790",
     "status": "completed"
    },
    "tags": []
   },
   "source": [
    "**This notebook is an exercise in the [Python](https://www.kaggle.com/learn/python) course.  You can reference the tutorial at [this link](https://www.kaggle.com/colinmorris/lists).**\n",
    "\n",
    "---\n"
   ]
  },
  {
   "cell_type": "markdown",
   "id": "5c029c29",
   "metadata": {
    "papermill": {
     "duration": 0.006278,
     "end_time": "2024-10-04T09:44:48.206878",
     "exception": false,
     "start_time": "2024-10-04T09:44:48.200600",
     "status": "completed"
    },
    "tags": []
   },
   "source": [
    "Things get more interesting with lists. You'll apply your new knowledge to solve the questions below. Remember to run the following cell first."
   ]
  },
  {
   "cell_type": "code",
   "execution_count": 1,
   "id": "a83fa8c1",
   "metadata": {
    "execution": {
     "iopub.execute_input": "2024-10-04T09:44:48.221587Z",
     "iopub.status.busy": "2024-10-04T09:44:48.221123Z",
     "iopub.status.idle": "2024-10-04T09:44:49.148824Z",
     "shell.execute_reply": "2024-10-04T09:44:49.147504Z"
    },
    "papermill": {
     "duration": 0.937994,
     "end_time": "2024-10-04T09:44:49.151566",
     "exception": false,
     "start_time": "2024-10-04T09:44:48.213572",
     "status": "completed"
    },
    "tags": []
   },
   "outputs": [
    {
     "name": "stdout",
     "output_type": "stream",
     "text": [
      "Setup complete.\n"
     ]
    }
   ],
   "source": [
    "from learntools.core import binder; binder.bind(globals())\n",
    "from learntools.python.ex4 import *\n",
    "print('Setup complete.')"
   ]
  },
  {
   "cell_type": "markdown",
   "id": "ee94e3cd",
   "metadata": {
    "papermill": {
     "duration": 0.006089,
     "end_time": "2024-10-04T09:44:49.164249",
     "exception": false,
     "start_time": "2024-10-04T09:44:49.158160",
     "status": "completed"
    },
    "tags": []
   },
   "source": [
    "# 1.\n",
    "\n",
    "Complete the function below according to its docstring."
   ]
  },
  {
   "cell_type": "code",
   "execution_count": 2,
   "id": "8fd95f9f",
   "metadata": {
    "execution": {
     "iopub.execute_input": "2024-10-04T09:44:49.179274Z",
     "iopub.status.busy": "2024-10-04T09:44:49.178126Z",
     "iopub.status.idle": "2024-10-04T09:44:49.189927Z",
     "shell.execute_reply": "2024-10-04T09:44:49.188918Z"
    },
    "papermill": {
     "duration": 0.021952,
     "end_time": "2024-10-04T09:44:49.192469",
     "exception": false,
     "start_time": "2024-10-04T09:44:49.170517",
     "status": "completed"
    },
    "tags": []
   },
   "outputs": [
    {
     "data": {
      "application/javascript": [
       "parent.postMessage({\"jupyterEvent\": \"custom.exercise_interaction\", \"data\": {\"outcomeType\": 1, \"valueTowardsCompletion\": 0.2, \"interactionType\": 1, \"questionType\": 2, \"questionId\": \"1_SelectSecondItem\", \"learnToolsVersion\": \"0.3.4\", \"failureMessage\": \"\", \"exceptionClass\": \"\", \"trace\": \"\"}}, \"*\")"
      ],
      "text/plain": [
       "<IPython.core.display.Javascript object>"
      ]
     },
     "metadata": {},
     "output_type": "display_data"
    },
    {
     "data": {
      "text/markdown": [
       "<span style=\"color:#33cc33\">Correct</span>"
      ],
      "text/plain": [
       "Correct"
      ]
     },
     "metadata": {},
     "output_type": "display_data"
    }
   ],
   "source": [
    "def select_second(L):\n",
    "    \"\"\"Return the second element of the given list. If the list has no second\n",
    "    element, return None.\n",
    "    \"\"\"\n",
    "    if len(L) < 2:\n",
    "        return None\n",
    "    return L[1]\n",
    "\n",
    "# Check your answer\n",
    "q1.check()"
   ]
  },
  {
   "cell_type": "code",
   "execution_count": 3,
   "id": "4b98f498",
   "metadata": {
    "execution": {
     "iopub.execute_input": "2024-10-04T09:44:49.208418Z",
     "iopub.status.busy": "2024-10-04T09:44:49.207599Z",
     "iopub.status.idle": "2024-10-04T09:44:49.212343Z",
     "shell.execute_reply": "2024-10-04T09:44:49.211277Z"
    },
    "papermill": {
     "duration": 0.015161,
     "end_time": "2024-10-04T09:44:49.214743",
     "exception": false,
     "start_time": "2024-10-04T09:44:49.199582",
     "status": "completed"
    },
    "tags": []
   },
   "outputs": [],
   "source": [
    "#q1.hint()\n",
    "#q1.solution()"
   ]
  },
  {
   "cell_type": "markdown",
   "id": "a9ccb181",
   "metadata": {
    "papermill": {
     "duration": 0.006483,
     "end_time": "2024-10-04T09:44:49.228084",
     "exception": false,
     "start_time": "2024-10-04T09:44:49.221601",
     "status": "completed"
    },
    "tags": []
   },
   "source": [
    "# 2.\n",
    "\n",
    "You are analyzing sports teams.  Members of each team are stored in a list. The Coach is the first name in the list, the captain is the second name in the list, and other players are listed after that. \n",
    "These lists are stored in another list, which starts with the best team and proceeds through the list to the worst team last.  Complete the function below to select the **captain** of the worst team."
   ]
  },
  {
   "cell_type": "code",
   "execution_count": 4,
   "id": "74c31700",
   "metadata": {
    "execution": {
     "iopub.execute_input": "2024-10-04T09:44:49.244406Z",
     "iopub.status.busy": "2024-10-04T09:44:49.243956Z",
     "iopub.status.idle": "2024-10-04T09:44:49.254187Z",
     "shell.execute_reply": "2024-10-04T09:44:49.252959Z"
    },
    "papermill": {
     "duration": 0.021225,
     "end_time": "2024-10-04T09:44:49.256995",
     "exception": false,
     "start_time": "2024-10-04T09:44:49.235770",
     "status": "completed"
    },
    "tags": []
   },
   "outputs": [
    {
     "data": {
      "application/javascript": [
       "parent.postMessage({\"jupyterEvent\": \"custom.exercise_interaction\", \"data\": {\"outcomeType\": 1, \"valueTowardsCompletion\": 0.2, \"interactionType\": 1, \"questionType\": 2, \"questionId\": \"2_LosingTeamCaptain\", \"learnToolsVersion\": \"0.3.4\", \"failureMessage\": \"\", \"exceptionClass\": \"\", \"trace\": \"\"}}, \"*\")"
      ],
      "text/plain": [
       "<IPython.core.display.Javascript object>"
      ]
     },
     "metadata": {},
     "output_type": "display_data"
    },
    {
     "data": {
      "text/markdown": [
       "<span style=\"color:#33cc33\">Correct</span>"
      ],
      "text/plain": [
       "Correct"
      ]
     },
     "metadata": {},
     "output_type": "display_data"
    }
   ],
   "source": [
    "def losing_team_captain(teams):\n",
    "    \"\"\"Given a list of teams, where each team is a list of names, return the 2nd player (captain)\n",
    "    from the last listed team\n",
    "    \"\"\"\n",
    "    return teams[-1][1]\n",
    "\n",
    "# Check your answer\n",
    "q2.check()"
   ]
  },
  {
   "cell_type": "code",
   "execution_count": 5,
   "id": "9fc1f00a",
   "metadata": {
    "execution": {
     "iopub.execute_input": "2024-10-04T09:44:49.273785Z",
     "iopub.status.busy": "2024-10-04T09:44:49.273055Z",
     "iopub.status.idle": "2024-10-04T09:44:49.277748Z",
     "shell.execute_reply": "2024-10-04T09:44:49.276672Z"
    },
    "papermill": {
     "duration": 0.015971,
     "end_time": "2024-10-04T09:44:49.280178",
     "exception": false,
     "start_time": "2024-10-04T09:44:49.264207",
     "status": "completed"
    },
    "tags": []
   },
   "outputs": [],
   "source": [
    "#q2.hint()\n",
    "#q2.solution()"
   ]
  },
  {
   "cell_type": "markdown",
   "id": "f9e035b3",
   "metadata": {
    "papermill": {
     "duration": 0.006882,
     "end_time": "2024-10-04T09:44:49.294264",
     "exception": false,
     "start_time": "2024-10-04T09:44:49.287382",
     "status": "completed"
    },
    "tags": []
   },
   "source": [
    "# 3.\n",
    "\n",
    "The next iteration of Mario Kart will feature an extra-infuriating new item, the *Purple Shell*. When used, it warps the last place racer into first place and the first place racer into last place. Complete the function below to implement the Purple Shell's effect."
   ]
  },
  {
   "cell_type": "code",
   "execution_count": 6,
   "id": "87096e5e",
   "metadata": {
    "execution": {
     "iopub.execute_input": "2024-10-04T09:44:49.310549Z",
     "iopub.status.busy": "2024-10-04T09:44:49.309843Z",
     "iopub.status.idle": "2024-10-04T09:44:49.319767Z",
     "shell.execute_reply": "2024-10-04T09:44:49.318705Z"
    },
    "papermill": {
     "duration": 0.02058,
     "end_time": "2024-10-04T09:44:49.321997",
     "exception": false,
     "start_time": "2024-10-04T09:44:49.301417",
     "status": "completed"
    },
    "tags": []
   },
   "outputs": [
    {
     "data": {
      "application/javascript": [
       "parent.postMessage({\"jupyterEvent\": \"custom.exercise_interaction\", \"data\": {\"outcomeType\": 1, \"valueTowardsCompletion\": 0.2, \"interactionType\": 1, \"questionType\": 2, \"questionId\": \"3_PurpleShell\", \"learnToolsVersion\": \"0.3.4\", \"failureMessage\": \"\", \"exceptionClass\": \"\", \"trace\": \"\"}}, \"*\")"
      ],
      "text/plain": [
       "<IPython.core.display.Javascript object>"
      ]
     },
     "metadata": {},
     "output_type": "display_data"
    },
    {
     "data": {
      "text/markdown": [
       "<span style=\"color:#33cc33\">Correct</span>"
      ],
      "text/plain": [
       "Correct"
      ]
     },
     "metadata": {},
     "output_type": "display_data"
    }
   ],
   "source": [
    "def purple_shell(racers):\n",
    "    \"\"\"Given a list of racers, set the first place racer (at the front of the list) to last\n",
    "    place and vice versa.\n",
    "    \n",
    "    >>> r = [\"Mario\", \"Bowser\", \"Luigi\"]\n",
    "    >>> purple_shell(r)\n",
    "    >>> r\n",
    "    [\"Luigi\", \"Bowser\", \"Mario\"]\n",
    "    \"\"\"\n",
    "    racers[0], racers[-1] = racers[-1], racers[0]\n",
    "\n",
    "# Check your answer\n",
    "q3.check()"
   ]
  },
  {
   "cell_type": "code",
   "execution_count": 7,
   "id": "2da2369f",
   "metadata": {
    "execution": {
     "iopub.execute_input": "2024-10-04T09:44:49.339098Z",
     "iopub.status.busy": "2024-10-04T09:44:49.338135Z",
     "iopub.status.idle": "2024-10-04T09:44:49.342806Z",
     "shell.execute_reply": "2024-10-04T09:44:49.341658Z"
    },
    "papermill": {
     "duration": 0.015753,
     "end_time": "2024-10-04T09:44:49.345194",
     "exception": false,
     "start_time": "2024-10-04T09:44:49.329441",
     "status": "completed"
    },
    "tags": []
   },
   "outputs": [],
   "source": [
    "#q3.hint()\n",
    "#q3.solution()"
   ]
  },
  {
   "cell_type": "markdown",
   "id": "a245e1b8",
   "metadata": {
    "papermill": {
     "duration": 0.007262,
     "end_time": "2024-10-04T09:44:49.360093",
     "exception": false,
     "start_time": "2024-10-04T09:44:49.352831",
     "status": "completed"
    },
    "tags": []
   },
   "source": [
    "# 4.\n",
    "\n",
    "What are the lengths of the following lists? Fill in the variable `lengths` with your predictions. (Try to make a prediction for each list *without* just calling `len()` on it.)"
   ]
  },
  {
   "cell_type": "code",
   "execution_count": 8,
   "id": "40cf2667",
   "metadata": {
    "execution": {
     "iopub.execute_input": "2024-10-04T09:44:49.376777Z",
     "iopub.status.busy": "2024-10-04T09:44:49.376354Z",
     "iopub.status.idle": "2024-10-04T09:44:49.386990Z",
     "shell.execute_reply": "2024-10-04T09:44:49.386013Z"
    },
    "papermill": {
     "duration": 0.021811,
     "end_time": "2024-10-04T09:44:49.389450",
     "exception": false,
     "start_time": "2024-10-04T09:44:49.367639",
     "status": "completed"
    },
    "tags": []
   },
   "outputs": [
    {
     "data": {
      "application/javascript": [
       "parent.postMessage({\"jupyterEvent\": \"custom.exercise_interaction\", \"data\": {\"outcomeType\": 1, \"valueTowardsCompletion\": 0.2, \"interactionType\": 1, \"questionType\": 1, \"questionId\": \"4_UnderstandLen\", \"learnToolsVersion\": \"0.3.4\", \"failureMessage\": \"\", \"exceptionClass\": \"\", \"trace\": \"\"}}, \"*\")"
      ],
      "text/plain": [
       "<IPython.core.display.Javascript object>"
      ]
     },
     "metadata": {},
     "output_type": "display_data"
    },
    {
     "data": {
      "text/markdown": [
       "<span style=\"color:#33cc33\">Correct:</span> \n",
       "\n",
       "\n",
       "- a: There are three items in this list. Nothing tricky yet.\n",
       "- b: The list `[2, 3]` counts as a single item. It has one item before it. So we have 2 items in the list\n",
       "- c: The empty list has 0 items\n",
       "- d: The expression is the same as the list `[2, 3]`, which has length 2."
      ],
      "text/plain": [
       "Correct: \n",
       "\n",
       "\n",
       "- a: There are three items in this list. Nothing tricky yet.\n",
       "- b: The list `[2, 3]` counts as a single item. It has one item before it. So we have 2 items in the list\n",
       "- c: The empty list has 0 items\n",
       "- d: The expression is the same as the list `[2, 3]`, which has length 2."
      ]
     },
     "metadata": {},
     "output_type": "display_data"
    }
   ],
   "source": [
    "a = [1, 2, 3]\n",
    "b = [1, [2, 3]]\n",
    "c = []\n",
    "d = [1, 2, 3][1:]\n",
    "\n",
    "# Put your predictions in the list below. Lengths should contain 4 numbers, the\n",
    "# first being the length of a, the second being the length of b and so on.\n",
    "lengths = [3, 2, 0, 2]\n",
    "\n",
    "# Check your answer\n",
    "q4.check()"
   ]
  },
  {
   "cell_type": "code",
   "execution_count": 9,
   "id": "6ec8a2aa",
   "metadata": {
    "execution": {
     "iopub.execute_input": "2024-10-04T09:44:49.407524Z",
     "iopub.status.busy": "2024-10-04T09:44:49.406571Z",
     "iopub.status.idle": "2024-10-04T09:44:49.411282Z",
     "shell.execute_reply": "2024-10-04T09:44:49.410256Z"
    },
    "papermill": {
     "duration": 0.016111,
     "end_time": "2024-10-04T09:44:49.413499",
     "exception": false,
     "start_time": "2024-10-04T09:44:49.397388",
     "status": "completed"
    },
    "tags": []
   },
   "outputs": [],
   "source": [
    "# line below provides some explanation\n",
    "#q4.solution()"
   ]
  },
  {
   "cell_type": "markdown",
   "id": "dfcbe8a6",
   "metadata": {
    "papermill": {
     "duration": 0.007436,
     "end_time": "2024-10-04T09:44:49.428746",
     "exception": false,
     "start_time": "2024-10-04T09:44:49.421310",
     "status": "completed"
    },
    "tags": []
   },
   "source": [
    "# 5. <span title=\"A bit spicy\" style=\"color: darkgreen \">🌶️</span>\n",
    "\n",
    "We're using lists to record people who attended our party and what order they arrived in. For example, the following list represents a party with 7 guests, in which Adela showed up first and Ford was the last to arrive:\n",
    "\n",
    "    party_attendees = ['Adela', 'Fleda', 'Owen', 'May', 'Mona', 'Gilbert', 'Ford']\n",
    "\n",
    "A guest is considered 'fashionably late' if they arrived after at least half of the party's guests. However, they must not be the very last guest (that's taking it too far). In the above example, Mona and Gilbert are the only guests who were fashionably late.\n",
    "\n",
    "Complete the function below which takes a list of party attendees as well as a person, and tells us whether that person is fashionably late."
   ]
  },
  {
   "cell_type": "code",
   "execution_count": 10,
   "id": "f751fa04",
   "metadata": {
    "execution": {
     "iopub.execute_input": "2024-10-04T09:44:49.446552Z",
     "iopub.status.busy": "2024-10-04T09:44:49.445685Z",
     "iopub.status.idle": "2024-10-04T09:44:49.457329Z",
     "shell.execute_reply": "2024-10-04T09:44:49.455251Z"
    },
    "papermill": {
     "duration": 0.024015,
     "end_time": "2024-10-04T09:44:49.460395",
     "exception": false,
     "start_time": "2024-10-04T09:44:49.436380",
     "status": "completed"
    },
    "tags": []
   },
   "outputs": [
    {
     "data": {
      "application/javascript": [
       "parent.postMessage({\"jupyterEvent\": \"custom.exercise_interaction\", \"data\": {\"outcomeType\": 1, \"valueTowardsCompletion\": 0.2, \"interactionType\": 1, \"questionType\": 2, \"questionId\": \"5_FashionablyLate\", \"learnToolsVersion\": \"0.3.4\", \"failureMessage\": \"\", \"exceptionClass\": \"\", \"trace\": \"\"}}, \"*\")"
      ],
      "text/plain": [
       "<IPython.core.display.Javascript object>"
      ]
     },
     "metadata": {},
     "output_type": "display_data"
    },
    {
     "data": {
      "text/markdown": [
       "<span style=\"color:#33cc33\">Correct</span>"
      ],
      "text/plain": [
       "Correct"
      ]
     },
     "metadata": {},
     "output_type": "display_data"
    }
   ],
   "source": [
    "def fashionably_late(arrivals, name):\n",
    "    \"\"\"Given an ordered list of arrivals to the party and a name, return whether the guest with that\n",
    "    name was fashionably late.\n",
    "    \"\"\"\n",
    "    order = arrivals.index(name)\n",
    "    return order >= len(arrivals) / 2 and order != len(arrivals) - 1\n",
    "\n",
    "# Check your answer\n",
    "q5.check()"
   ]
  },
  {
   "cell_type": "code",
   "execution_count": 11,
   "id": "6d65e206",
   "metadata": {
    "execution": {
     "iopub.execute_input": "2024-10-04T09:44:49.478961Z",
     "iopub.status.busy": "2024-10-04T09:44:49.478563Z",
     "iopub.status.idle": "2024-10-04T09:44:49.483310Z",
     "shell.execute_reply": "2024-10-04T09:44:49.482122Z"
    },
    "papermill": {
     "duration": 0.017017,
     "end_time": "2024-10-04T09:44:49.485795",
     "exception": false,
     "start_time": "2024-10-04T09:44:49.468778",
     "status": "completed"
    },
    "tags": []
   },
   "outputs": [],
   "source": [
    "#q5.hint()\n",
    "#q5.solution()"
   ]
  },
  {
   "cell_type": "markdown",
   "id": "78a0bd71",
   "metadata": {
    "papermill": {
     "duration": 0.00816,
     "end_time": "2024-10-04T09:44:49.502099",
     "exception": false,
     "start_time": "2024-10-04T09:44:49.493939",
     "status": "completed"
    },
    "tags": []
   },
   "source": [
    "# Keep Going\n",
    "\n",
    "That's it for lists and tuples! Now you have the baseline knowledge to **[learn about loops](https://www.kaggle.com/colinmorris/loops-and-list-comprehensions)**, which is where lists and tuples get really interesting. "
   ]
  },
  {
   "cell_type": "markdown",
   "id": "44955d33",
   "metadata": {
    "papermill": {
     "duration": 0.007727,
     "end_time": "2024-10-04T09:44:49.518101",
     "exception": false,
     "start_time": "2024-10-04T09:44:49.510374",
     "status": "completed"
    },
    "tags": []
   },
   "source": [
    "---\n",
    "\n",
    "\n",
    "\n",
    "\n",
    "*Have questions or comments? Visit the [course discussion forum](https://www.kaggle.com/learn/python/discussion) to chat with other learners.*"
   ]
  }
 ],
 "metadata": {
  "kaggle": {
   "accelerator": "none",
   "dataSources": [],
   "isGpuEnabled": false,
   "isInternetEnabled": false,
   "language": "python",
   "sourceType": "notebook"
  },
  "kernelspec": {
   "display_name": "Python 3",
   "language": "python",
   "name": "python3"
  },
  "language_info": {
   "codemirror_mode": {
    "name": "ipython",
    "version": 3
   },
   "file_extension": ".py",
   "mimetype": "text/x-python",
   "name": "python",
   "nbconvert_exporter": "python",
   "pygments_lexer": "ipython3",
   "version": "3.10.14"
  },
  "learntools_metadata": {
   "lesson_index": 3,
   "type": "exercise"
  },
  "papermill": {
   "default_parameters": {},
   "duration": 4.692933,
   "end_time": "2024-10-04T09:44:49.949623",
   "environment_variables": {},
   "exception": null,
   "input_path": "__notebook__.ipynb",
   "output_path": "__notebook__.ipynb",
   "parameters": {},
   "start_time": "2024-10-04T09:44:45.256690",
   "version": "2.6.0"
  }
 },
 "nbformat": 4,
 "nbformat_minor": 5
}
