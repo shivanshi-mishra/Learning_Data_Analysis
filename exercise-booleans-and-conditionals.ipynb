{
 "cells": [
  {
   "cell_type": "markdown",
   "id": "b23fd079",
   "metadata": {
    "papermill": {
     "duration": 0.012139,
     "end_time": "2024-10-03T17:15:44.627866",
     "exception": false,
     "start_time": "2024-10-03T17:15:44.615727",
     "status": "completed"
    },
    "tags": []
   },
   "source": [
    "**This notebook is an exercise in the [Python](https://www.kaggle.com/learn/python) course.  You can reference the tutorial at [this link](https://www.kaggle.com/colinmorris/booleans-and-conditionals).**\n",
    "\n",
    "---\n"
   ]
  },
  {
   "cell_type": "markdown",
   "id": "1d763259",
   "metadata": {
    "papermill": {
     "duration": 0.011275,
     "end_time": "2024-10-03T17:15:44.651833",
     "exception": false,
     "start_time": "2024-10-03T17:15:44.640558",
     "status": "completed"
    },
    "tags": []
   },
   "source": [
    "In this exercise, you'll put to work what you have learned about booleans and conditionals.\n",
    "\n",
    "To get started, **run the setup code below** before writing your own code (and if you leave this notebook and come back later, don't forget to run the setup code again)."
   ]
  },
  {
   "cell_type": "code",
   "execution_count": 1,
   "id": "8a0952b0",
   "metadata": {
    "execution": {
     "iopub.execute_input": "2024-10-03T17:15:44.677046Z",
     "iopub.status.busy": "2024-10-03T17:15:44.676615Z",
     "iopub.status.idle": "2024-10-03T17:15:45.574442Z",
     "shell.execute_reply": "2024-10-03T17:15:45.573246Z"
    },
    "papermill": {
     "duration": 0.913361,
     "end_time": "2024-10-03T17:15:45.577010",
     "exception": false,
     "start_time": "2024-10-03T17:15:44.663649",
     "status": "completed"
    },
    "tags": []
   },
   "outputs": [
    {
     "name": "stdout",
     "output_type": "stream",
     "text": [
      "Setup complete.\n"
     ]
    }
   ],
   "source": [
    "from learntools.core import binder; binder.bind(globals())\n",
    "from learntools.python.ex3 import *\n",
    "print('Setup complete.')"
   ]
  },
  {
   "cell_type": "markdown",
   "id": "946bd63d",
   "metadata": {
    "papermill": {
     "duration": 0.011517,
     "end_time": "2024-10-03T17:15:45.600635",
     "exception": false,
     "start_time": "2024-10-03T17:15:45.589118",
     "status": "completed"
    },
    "tags": []
   },
   "source": [
    "# 1.\n",
    "\n",
    "Many programming languages have [`sign`](https://en.wikipedia.org/wiki/Sign_function) available as a built-in function. Python doesn't, but we can define our own!\n",
    "\n",
    "In the cell below, define a function called `sign` which takes a numerical argument and returns -1 if it's negative, 1 if it's positive, and 0 if it's 0."
   ]
  },
  {
   "cell_type": "code",
   "execution_count": 2,
   "id": "4fd1a347",
   "metadata": {
    "execution": {
     "iopub.execute_input": "2024-10-03T17:15:45.626931Z",
     "iopub.status.busy": "2024-10-03T17:15:45.626385Z",
     "iopub.status.idle": "2024-10-03T17:15:45.637780Z",
     "shell.execute_reply": "2024-10-03T17:15:45.636758Z"
    },
    "papermill": {
     "duration": 0.026624,
     "end_time": "2024-10-03T17:15:45.640066",
     "exception": false,
     "start_time": "2024-10-03T17:15:45.613442",
     "status": "completed"
    },
    "tags": []
   },
   "outputs": [
    {
     "data": {
      "application/javascript": [
       "parent.postMessage({\"jupyterEvent\": \"custom.exercise_interaction\", \"data\": {\"outcomeType\": 1, \"valueTowardsCompletion\": 0.2, \"interactionType\": 1, \"questionType\": 2, \"questionId\": \"1_SignFunctionProblem\", \"learnToolsVersion\": \"0.3.4\", \"failureMessage\": \"\", \"exceptionClass\": \"\", \"trace\": \"\"}}, \"*\")"
      ],
      "text/plain": [
       "<IPython.core.display.Javascript object>"
      ]
     },
     "metadata": {},
     "output_type": "display_data"
    },
    {
     "data": {
      "text/markdown": [
       "<span style=\"color:#33cc33\">Correct</span>"
      ],
      "text/plain": [
       "Correct"
      ]
     },
     "metadata": {},
     "output_type": "display_data"
    }
   ],
   "source": [
    "# Your code goes here. Define a function called 'sign'\n",
    "def sign(num):\n",
    "    if(num>0):\n",
    "        return 1\n",
    "    elif(num<0):\n",
    "        return -1\n",
    "    else:\n",
    "        return 0\n",
    "# Check your answer\n",
    "q1.check()"
   ]
  },
  {
   "cell_type": "code",
   "execution_count": 3,
   "id": "4f81947f",
   "metadata": {
    "execution": {
     "iopub.execute_input": "2024-10-03T17:15:45.666258Z",
     "iopub.status.busy": "2024-10-03T17:15:45.665808Z",
     "iopub.status.idle": "2024-10-03T17:15:45.670458Z",
     "shell.execute_reply": "2024-10-03T17:15:45.669417Z"
    },
    "papermill": {
     "duration": 0.020497,
     "end_time": "2024-10-03T17:15:45.672694",
     "exception": false,
     "start_time": "2024-10-03T17:15:45.652197",
     "status": "completed"
    },
    "tags": []
   },
   "outputs": [],
   "source": [
    "#q1.solution()"
   ]
  },
  {
   "cell_type": "markdown",
   "id": "ab29662a",
   "metadata": {
    "papermill": {
     "duration": 0.011852,
     "end_time": "2024-10-03T17:15:45.697129",
     "exception": false,
     "start_time": "2024-10-03T17:15:45.685277",
     "status": "completed"
    },
    "tags": []
   },
   "source": [
    "# 2.\n",
    "\n",
    "We've decided to add \"logging\" to our `to_smash` function from the previous exercise."
   ]
  },
  {
   "cell_type": "code",
   "execution_count": 4,
   "id": "d859c2a9",
   "metadata": {
    "execution": {
     "iopub.execute_input": "2024-10-03T17:15:45.724532Z",
     "iopub.status.busy": "2024-10-03T17:15:45.723560Z",
     "iopub.status.idle": "2024-10-03T17:15:45.732810Z",
     "shell.execute_reply": "2024-10-03T17:15:45.731662Z"
    },
    "papermill": {
     "duration": 0.025177,
     "end_time": "2024-10-03T17:15:45.735102",
     "exception": false,
     "start_time": "2024-10-03T17:15:45.709925",
     "status": "completed"
    },
    "tags": []
   },
   "outputs": [
    {
     "name": "stdout",
     "output_type": "stream",
     "text": [
      "Splitting 91 candies\n"
     ]
    },
    {
     "data": {
      "text/plain": [
       "1"
      ]
     },
     "execution_count": 4,
     "metadata": {},
     "output_type": "execute_result"
    }
   ],
   "source": [
    "def to_smash(total_candies):\n",
    "    \"\"\"Return the number of leftover candies that must be smashed after distributing\n",
    "    the given number of candies evenly between 3 friends.\n",
    "    \n",
    "    >>> to_smash(91)\n",
    "    1\n",
    "    \"\"\"\n",
    "    print(\"Splitting\", total_candies, \"candies\")\n",
    "    return total_candies % 3\n",
    "\n",
    "to_smash(91)"
   ]
  },
  {
   "cell_type": "markdown",
   "id": "366e51cd",
   "metadata": {
    "papermill": {
     "duration": 0.012028,
     "end_time": "2024-10-03T17:15:45.759586",
     "exception": false,
     "start_time": "2024-10-03T17:15:45.747558",
     "status": "completed"
    },
    "tags": []
   },
   "source": [
    "What happens if we call it with `total_candies = 1`?"
   ]
  },
  {
   "cell_type": "code",
   "execution_count": 5,
   "id": "67971211",
   "metadata": {
    "execution": {
     "iopub.execute_input": "2024-10-03T17:15:45.786439Z",
     "iopub.status.busy": "2024-10-03T17:15:45.785665Z",
     "iopub.status.idle": "2024-10-03T17:15:45.793310Z",
     "shell.execute_reply": "2024-10-03T17:15:45.792075Z"
    },
    "papermill": {
     "duration": 0.024439,
     "end_time": "2024-10-03T17:15:45.796308",
     "exception": false,
     "start_time": "2024-10-03T17:15:45.771869",
     "status": "completed"
    },
    "tags": []
   },
   "outputs": [
    {
     "name": "stdout",
     "output_type": "stream",
     "text": [
      "Splitting 1 candies\n"
     ]
    },
    {
     "data": {
      "text/plain": [
       "1"
      ]
     },
     "execution_count": 5,
     "metadata": {},
     "output_type": "execute_result"
    }
   ],
   "source": [
    "to_smash(1)"
   ]
  },
  {
   "cell_type": "markdown",
   "id": "a2c0009f",
   "metadata": {
    "papermill": {
     "duration": 0.012393,
     "end_time": "2024-10-03T17:15:45.821505",
     "exception": false,
     "start_time": "2024-10-03T17:15:45.809112",
     "status": "completed"
    },
    "tags": []
   },
   "source": [
    "That isn't great grammar!\n",
    "\n",
    "Modify the definition in the cell below to correct the grammar of our print statement. (If there's only one candy, we should use the singular \"candy\" instead of the plural \"candies\")"
   ]
  },
  {
   "cell_type": "code",
   "execution_count": 6,
   "id": "be4eb047",
   "metadata": {
    "execution": {
     "iopub.execute_input": "2024-10-03T17:15:45.848793Z",
     "iopub.status.busy": "2024-10-03T17:15:45.848374Z",
     "iopub.status.idle": "2024-10-03T17:15:45.858083Z",
     "shell.execute_reply": "2024-10-03T17:15:45.856927Z"
    },
    "papermill": {
     "duration": 0.026526,
     "end_time": "2024-10-03T17:15:45.860852",
     "exception": false,
     "start_time": "2024-10-03T17:15:45.834326",
     "status": "completed"
    },
    "tags": []
   },
   "outputs": [
    {
     "name": "stdout",
     "output_type": "stream",
     "text": [
      "Splitting 91 candies\n",
      "Splitting 1 candy\n"
     ]
    },
    {
     "data": {
      "text/plain": [
       "1"
      ]
     },
     "execution_count": 6,
     "metadata": {},
     "output_type": "execute_result"
    }
   ],
   "source": [
    "def to_smash(total_candies):\n",
    "    \"\"\"Return the number of leftover candies that must be smashed after distributing\n",
    "    the given number of candies evenly between 3 friends.\n",
    "    \n",
    "    >>> to_smash(91)\n",
    "    1\n",
    "    \"\"\"\n",
    "    if(total_candies>1):\n",
    "        print(\"Splitting\", total_candies, \"candies\")\n",
    "    else:\n",
    "        print(\"Splitting\", total_candies, \"candy\")\n",
    "    \n",
    "    return total_candies % 3\n",
    "\n",
    "to_smash(91)\n",
    "to_smash(1)"
   ]
  },
  {
   "cell_type": "markdown",
   "id": "c8a9562f",
   "metadata": {
    "papermill": {
     "duration": 0.013001,
     "end_time": "2024-10-03T17:15:45.886841",
     "exception": false,
     "start_time": "2024-10-03T17:15:45.873840",
     "status": "completed"
    },
    "tags": []
   },
   "source": [
    "To get credit for completing this problem, and to see the official answer, run the code cell below."
   ]
  },
  {
   "cell_type": "code",
   "execution_count": 7,
   "id": "eb0871f6",
   "metadata": {
    "execution": {
     "iopub.execute_input": "2024-10-03T17:15:45.917070Z",
     "iopub.status.busy": "2024-10-03T17:15:45.916308Z",
     "iopub.status.idle": "2024-10-03T17:15:45.925464Z",
     "shell.execute_reply": "2024-10-03T17:15:45.924349Z"
    },
    "papermill": {
     "duration": 0.027114,
     "end_time": "2024-10-03T17:15:45.927863",
     "exception": false,
     "start_time": "2024-10-03T17:15:45.900749",
     "status": "completed"
    },
    "tags": []
   },
   "outputs": [
    {
     "data": {
      "application/javascript": [
       "parent.postMessage({\"jupyterEvent\": \"custom.exercise_interaction\", \"data\": {\"interactionType\": 3, \"questionType\": 4, \"questionId\": \"2_PluralizationProblem\", \"learnToolsVersion\": \"0.3.4\", \"valueTowardsCompletion\": 0.0, \"failureMessage\": \"\", \"exceptionClass\": \"\", \"trace\": \"\", \"outcomeType\": 4}}, \"*\")"
      ],
      "text/plain": [
       "<IPython.core.display.Javascript object>"
      ]
     },
     "metadata": {},
     "output_type": "display_data"
    },
    {
     "data": {
      "text/markdown": [
       "<span style=\"color:#33cc99\">Solution:</span> A straightforward (and totally fine) solution is to replace the original `print` call with:\n",
       "\n",
       "```python\n",
       "if total_candies == 1:\n",
       "    print(\"Splitting 1 candy\")\n",
       "else:\n",
       "    print(\"Splitting\", total_candies, \"candies\")\n",
       "```\n",
       "\n",
       "Here's a slightly more succinct solution using a conditional expression:\n",
       "\n",
       "```python\n",
       "print(\"Splitting\", total_candies, \"candy\" if total_candies == 1 else \"candies\")\n",
       "```"
      ],
      "text/plain": [
       "Solution: A straightforward (and totally fine) solution is to replace the original `print` call with:\n",
       "\n",
       "```python\n",
       "if total_candies == 1:\n",
       "    print(\"Splitting 1 candy\")\n",
       "else:\n",
       "    print(\"Splitting\", total_candies, \"candies\")\n",
       "```\n",
       "\n",
       "Here's a slightly more succinct solution using a conditional expression:\n",
       "\n",
       "```python\n",
       "print(\"Splitting\", total_candies, \"candy\" if total_candies == 1 else \"candies\")\n",
       "```"
      ]
     },
     "metadata": {},
     "output_type": "display_data"
    }
   ],
   "source": [
    "# Check your answer (Run this code cell to receive credit!)\n",
    "q2.solution()"
   ]
  },
  {
   "cell_type": "markdown",
   "id": "850ce48a",
   "metadata": {
    "papermill": {
     "duration": 0.013315,
     "end_time": "2024-10-03T17:15:45.954945",
     "exception": false,
     "start_time": "2024-10-03T17:15:45.941630",
     "status": "completed"
    },
    "tags": []
   },
   "source": [
    "# 3. <span title=\"A bit spicy\" style=\"color: darkgreen \">🌶️</span>\n",
    "\n",
    "In the tutorial, we talked about deciding whether we're prepared for the weather. I said that I'm safe from today's weather if...\n",
    "- I have an umbrella...\n",
    "- or if the rain isn't too heavy and I have a hood...\n",
    "- otherwise, I'm still fine unless it's raining *and* it's a workday\n",
    "\n",
    "The function below uses our first attempt at turning this logic into a Python expression. I claimed that there was a bug in that code. Can you find it?\n",
    "\n",
    "To prove that `prepared_for_weather` is buggy, come up with a set of inputs where either:\n",
    "- the function returns `False` (but should have returned `True`), or\n",
    "- the function returned `True` (but should have returned `False`).\n",
    "\n",
    "To get credit for completing this question, your code should return a <font color='#33cc33'>Correct</font> result."
   ]
  },
  {
   "cell_type": "code",
   "execution_count": 8,
   "id": "5cb2920b",
   "metadata": {
    "execution": {
     "iopub.execute_input": "2024-10-03T17:15:45.983662Z",
     "iopub.status.busy": "2024-10-03T17:15:45.983222Z",
     "iopub.status.idle": "2024-10-03T17:15:45.995354Z",
     "shell.execute_reply": "2024-10-03T17:15:45.994284Z"
    },
    "papermill": {
     "duration": 0.029486,
     "end_time": "2024-10-03T17:15:45.997866",
     "exception": false,
     "start_time": "2024-10-03T17:15:45.968380",
     "status": "completed"
    },
    "tags": []
   },
   "outputs": [
    {
     "name": "stdout",
     "output_type": "stream",
     "text": [
      "False\n"
     ]
    },
    {
     "data": {
      "application/javascript": [
       "parent.postMessage({\"jupyterEvent\": \"custom.exercise_interaction\", \"data\": {\"outcomeType\": 1, \"valueTowardsCompletion\": 0.2, \"interactionType\": 1, \"questionType\": 1, \"questionId\": \"3_WeatherDebug\", \"learnToolsVersion\": \"0.3.4\", \"failureMessage\": \"\", \"exceptionClass\": \"\", \"trace\": \"\"}}, \"*\")"
      ],
      "text/plain": [
       "<IPython.core.display.Javascript object>"
      ]
     },
     "metadata": {},
     "output_type": "display_data"
    },
    {
     "data": {
      "text/markdown": [
       "<span style=\"color:#33cc33\">Correct:</span> \n",
       "\n",
       "One example of a failing test case is:\n",
       "\n",
       "```python\n",
       "have_umbrella = False\n",
       "rain_level = 0.0\n",
       "have_hood = False\n",
       "is_workday = False\n",
       "```\n",
       "\n",
       "Clearly we're prepared for the weather in this case. It's not raining. Not only that, it's not a workday, so we don't even need to leave the house! But our function will return False on these inputs.\n",
       "\n",
       "The key problem is that Python implictly parenthesizes the last part as:\n",
       "\n",
       "```python\n",
       "(not (rain_level > 0)) and is_workday\n",
       "```\n",
       "\n",
       "Whereas what we were trying to express would look more like:\n",
       "\n",
       "```python\n",
       "not (rain_level > 0 and is_workday)\n",
       "```\n"
      ],
      "text/plain": [
       "Correct: \n",
       "\n",
       "One example of a failing test case is:\n",
       "\n",
       "```python\n",
       "have_umbrella = False\n",
       "rain_level = 0.0\n",
       "have_hood = False\n",
       "is_workday = False\n",
       "```\n",
       "\n",
       "Clearly we're prepared for the weather in this case. It's not raining. Not only that, it's not a workday, so we don't even need to leave the house! But our function will return False on these inputs.\n",
       "\n",
       "The key problem is that Python implictly parenthesizes the last part as:\n",
       "\n",
       "```python\n",
       "(not (rain_level > 0)) and is_workday\n",
       "```\n",
       "\n",
       "Whereas what we were trying to express would look more like:\n",
       "\n",
       "```python\n",
       "not (rain_level > 0 and is_workday)\n",
       "```"
      ]
     },
     "metadata": {},
     "output_type": "display_data"
    }
   ],
   "source": [
    "def prepared_for_weather(have_umbrella, rain_level, have_hood, is_workday):\n",
    "    # Don't change this code. Our goal is just to find the bug, not fix it!\n",
    "    return have_umbrella or rain_level < 5 and have_hood or not rain_level > 0 and is_workday\n",
    "\n",
    "# Change the values of these inputs so they represent a case where prepared_for_weather\n",
    "# returns the wrong answer.\n",
    "have_umbrella = False\n",
    "rain_level = 10\n",
    "have_hood = False\n",
    "is_workday = False\n",
    "\n",
    "# Check what the function returns given the current values of the variables above\n",
    "actual = prepared_for_weather(have_umbrella, rain_level, have_hood, is_workday)\n",
    "print(actual)\n",
    "\n",
    "# Check your answer\n",
    "q3.check()"
   ]
  },
  {
   "cell_type": "code",
   "execution_count": 9,
   "id": "06111a61",
   "metadata": {
    "execution": {
     "iopub.execute_input": "2024-10-03T17:15:46.027840Z",
     "iopub.status.busy": "2024-10-03T17:15:46.027097Z",
     "iopub.status.idle": "2024-10-03T17:15:46.031733Z",
     "shell.execute_reply": "2024-10-03T17:15:46.030680Z"
    },
    "papermill": {
     "duration": 0.022246,
     "end_time": "2024-10-03T17:15:46.034051",
     "exception": false,
     "start_time": "2024-10-03T17:15:46.011805",
     "status": "completed"
    },
    "tags": []
   },
   "outputs": [],
   "source": [
    "#q3.hint()\n",
    "#q3.solution()"
   ]
  },
  {
   "cell_type": "markdown",
   "id": "87e21eb1",
   "metadata": {
    "papermill": {
     "duration": 0.0135,
     "end_time": "2024-10-03T17:15:46.061355",
     "exception": false,
     "start_time": "2024-10-03T17:15:46.047855",
     "status": "completed"
    },
    "tags": []
   },
   "source": [
    "# 4.\n",
    "\n",
    "The function `is_negative` below is implemented correctly - it returns True if the given number is negative and False otherwise.\n",
    "\n",
    "However, it's more verbose than it needs to be. We can actually reduce the number of lines of code in this function by *75%* while keeping the same behaviour. \n",
    "\n",
    "See if you can come up with an equivalent body that uses just **one line** of code, and put it in the function `concise_is_negative`. (HINT: you don't even need Python's ternary syntax)"
   ]
  },
  {
   "cell_type": "code",
   "execution_count": 10,
   "id": "f6ca4d87",
   "metadata": {
    "execution": {
     "iopub.execute_input": "2024-10-03T17:15:46.091610Z",
     "iopub.status.busy": "2024-10-03T17:15:46.090810Z",
     "iopub.status.idle": "2024-10-03T17:15:46.101006Z",
     "shell.execute_reply": "2024-10-03T17:15:46.100001Z"
    },
    "papermill": {
     "duration": 0.027805,
     "end_time": "2024-10-03T17:15:46.103529",
     "exception": false,
     "start_time": "2024-10-03T17:15:46.075724",
     "status": "completed"
    },
    "tags": []
   },
   "outputs": [
    {
     "data": {
      "application/javascript": [
       "parent.postMessage({\"jupyterEvent\": \"custom.exercise_interaction\", \"data\": {\"outcomeType\": 1, \"valueTowardsCompletion\": 0.2, \"interactionType\": 1, \"questionType\": 2, \"questionId\": \"4_ConciseIsNegative\", \"learnToolsVersion\": \"0.3.4\", \"failureMessage\": \"\", \"exceptionClass\": \"\", \"trace\": \"\"}}, \"*\")"
      ],
      "text/plain": [
       "<IPython.core.display.Javascript object>"
      ]
     },
     "metadata": {},
     "output_type": "display_data"
    },
    {
     "data": {
      "text/markdown": [
       "<span style=\"color:#33cc33\">Correct</span>"
      ],
      "text/plain": [
       "Correct"
      ]
     },
     "metadata": {},
     "output_type": "display_data"
    }
   ],
   "source": [
    "def is_negative(number):\n",
    "    if number < 0:\n",
    "        return True\n",
    "    else:\n",
    "        return False\n",
    "\n",
    "def concise_is_negative(number):\n",
    "    return (number<0)\n",
    "     # Your code goes here (try to keep it to one line!)\n",
    "\n",
    "# Check your answer\n",
    "q4.check()"
   ]
  },
  {
   "cell_type": "code",
   "execution_count": 11,
   "id": "990dd7d4",
   "metadata": {
    "execution": {
     "iopub.execute_input": "2024-10-03T17:15:46.134445Z",
     "iopub.status.busy": "2024-10-03T17:15:46.134023Z",
     "iopub.status.idle": "2024-10-03T17:15:46.138378Z",
     "shell.execute_reply": "2024-10-03T17:15:46.137274Z"
    },
    "papermill": {
     "duration": 0.02278,
     "end_time": "2024-10-03T17:15:46.140694",
     "exception": false,
     "start_time": "2024-10-03T17:15:46.117914",
     "status": "completed"
    },
    "tags": []
   },
   "outputs": [],
   "source": [
    "#q4.hint()\n",
    "#q4.solution()"
   ]
  },
  {
   "cell_type": "markdown",
   "id": "45f92c71",
   "metadata": {
    "papermill": {
     "duration": 0.013633,
     "end_time": "2024-10-03T17:15:46.168769",
     "exception": false,
     "start_time": "2024-10-03T17:15:46.155136",
     "status": "completed"
    },
    "tags": []
   },
   "source": [
    "# 5a.\n",
    "\n",
    "The boolean variables `ketchup`, `mustard` and `onion` represent whether a customer wants a particular topping on their hot dog. We want to implement a number of boolean functions that correspond to some yes-or-no questions about the customer's order. For example:"
   ]
  },
  {
   "cell_type": "code",
   "execution_count": 12,
   "id": "b3f7b20a",
   "metadata": {
    "execution": {
     "iopub.execute_input": "2024-10-03T17:15:46.198653Z",
     "iopub.status.busy": "2024-10-03T17:15:46.198236Z",
     "iopub.status.idle": "2024-10-03T17:15:46.203575Z",
     "shell.execute_reply": "2024-10-03T17:15:46.202564Z"
    },
    "papermill": {
     "duration": 0.02311,
     "end_time": "2024-10-03T17:15:46.205940",
     "exception": false,
     "start_time": "2024-10-03T17:15:46.182830",
     "status": "completed"
    },
    "tags": []
   },
   "outputs": [],
   "source": [
    "def onionless(ketchup, mustard, onion):\n",
    "    \"\"\"Return whether the customer doesn't want onions.\n",
    "    \"\"\"\n",
    "    return not onion"
   ]
  },
  {
   "cell_type": "code",
   "execution_count": 13,
   "id": "5092e62b",
   "metadata": {
    "execution": {
     "iopub.execute_input": "2024-10-03T17:15:46.236186Z",
     "iopub.status.busy": "2024-10-03T17:15:46.235479Z",
     "iopub.status.idle": "2024-10-03T17:15:46.244816Z",
     "shell.execute_reply": "2024-10-03T17:15:46.243796Z"
    },
    "papermill": {
     "duration": 0.027013,
     "end_time": "2024-10-03T17:15:46.247334",
     "exception": false,
     "start_time": "2024-10-03T17:15:46.220321",
     "status": "completed"
    },
    "tags": []
   },
   "outputs": [
    {
     "data": {
      "application/javascript": [
       "parent.postMessage({\"jupyterEvent\": \"custom.exercise_interaction\", \"data\": {\"outcomeType\": 1, \"valueTowardsCompletion\": 0.2, \"interactionType\": 1, \"questionType\": 2, \"questionId\": \"5.1_AllToppings\", \"learnToolsVersion\": \"0.3.4\", \"failureMessage\": \"\", \"exceptionClass\": \"\", \"trace\": \"\"}}, \"*\")"
      ],
      "text/plain": [
       "<IPython.core.display.Javascript object>"
      ]
     },
     "metadata": {},
     "output_type": "display_data"
    },
    {
     "data": {
      "text/markdown": [
       "<span style=\"color:#33cc33\">Correct</span>"
      ],
      "text/plain": [
       "Correct"
      ]
     },
     "metadata": {},
     "output_type": "display_data"
    }
   ],
   "source": [
    "def wants_all_toppings(ketchup, mustard, onion):\n",
    "    \"\"\"Return whether the customer wants \"the works\" (all 3 toppings)\n",
    "    \"\"\"\n",
    "    return ketchup & mustard & onion\n",
    "\n",
    "# Check your answer\n",
    "q5.a.check()"
   ]
  },
  {
   "cell_type": "code",
   "execution_count": 14,
   "id": "11fb71dc",
   "metadata": {
    "execution": {
     "iopub.execute_input": "2024-10-03T17:15:46.278448Z",
     "iopub.status.busy": "2024-10-03T17:15:46.277602Z",
     "iopub.status.idle": "2024-10-03T17:15:46.282319Z",
     "shell.execute_reply": "2024-10-03T17:15:46.281196Z"
    },
    "papermill": {
     "duration": 0.02304,
     "end_time": "2024-10-03T17:15:46.284760",
     "exception": false,
     "start_time": "2024-10-03T17:15:46.261720",
     "status": "completed"
    },
    "tags": []
   },
   "outputs": [],
   "source": [
    "#q5.a.hint()\n",
    "#q5.a.solution()"
   ]
  },
  {
   "cell_type": "markdown",
   "id": "c5fbfa88",
   "metadata": {
    "papermill": {
     "duration": 0.013844,
     "end_time": "2024-10-03T17:15:46.313025",
     "exception": false,
     "start_time": "2024-10-03T17:15:46.299181",
     "status": "completed"
    },
    "tags": []
   },
   "source": [
    "# 5b.\n",
    "\n",
    "For the next function, fill in the body to match the English description in the docstring. "
   ]
  },
  {
   "cell_type": "code",
   "execution_count": 15,
   "id": "c2e91421",
   "metadata": {
    "execution": {
     "iopub.execute_input": "2024-10-03T17:15:46.344021Z",
     "iopub.status.busy": "2024-10-03T17:15:46.343091Z",
     "iopub.status.idle": "2024-10-03T17:15:46.352652Z",
     "shell.execute_reply": "2024-10-03T17:15:46.351677Z"
    },
    "papermill": {
     "duration": 0.027929,
     "end_time": "2024-10-03T17:15:46.355312",
     "exception": false,
     "start_time": "2024-10-03T17:15:46.327383",
     "status": "completed"
    },
    "tags": []
   },
   "outputs": [
    {
     "data": {
      "application/javascript": [
       "parent.postMessage({\"jupyterEvent\": \"custom.exercise_interaction\", \"data\": {\"outcomeType\": 1, \"valueTowardsCompletion\": 0.2, \"interactionType\": 1, \"questionType\": 2, \"questionId\": \"5.2_PlainDog\", \"learnToolsVersion\": \"0.3.4\", \"failureMessage\": \"\", \"exceptionClass\": \"\", \"trace\": \"\"}}, \"*\")"
      ],
      "text/plain": [
       "<IPython.core.display.Javascript object>"
      ]
     },
     "metadata": {},
     "output_type": "display_data"
    },
    {
     "data": {
      "text/markdown": [
       "<span style=\"color:#33cc33\">Correct:</span> \n",
       "\n",
       "One solution looks like:\n",
       "```python\n",
       "return not ketchup and not mustard and not onion\n",
       "```\n",
       "\n",
       "We can also [\"factor out\" the nots](https://en.wikipedia.org/wiki/De_Morgan%27s_laws) to get:\n",
       "\n",
       "```python\n",
       "return not (ketchup or mustard or onion)\n",
       "```"
      ],
      "text/plain": [
       "Correct: \n",
       "\n",
       "One solution looks like:\n",
       "```python\n",
       "return not ketchup and not mustard and not onion\n",
       "```\n",
       "\n",
       "We can also [\"factor out\" the nots](https://en.wikipedia.org/wiki/De_Morgan%27s_laws) to get:\n",
       "\n",
       "```python\n",
       "return not (ketchup or mustard or onion)\n",
       "```"
      ]
     },
     "metadata": {},
     "output_type": "display_data"
    }
   ],
   "source": [
    "def wants_plain_hotdog(ketchup, mustard, onion):\n",
    "    \"\"\"Return whether the customer wants a plain hot dog with no toppings.\n",
    "    \"\"\"\n",
    "    return not (ketchup | mustard | onion)\n",
    "\n",
    "# Check your answer\n",
    "q5.b.check()"
   ]
  },
  {
   "cell_type": "code",
   "execution_count": 16,
   "id": "a6fdfce0",
   "metadata": {
    "execution": {
     "iopub.execute_input": "2024-10-03T17:15:46.386661Z",
     "iopub.status.busy": "2024-10-03T17:15:46.386249Z",
     "iopub.status.idle": "2024-10-03T17:15:46.390630Z",
     "shell.execute_reply": "2024-10-03T17:15:46.389606Z"
    },
    "papermill": {
     "duration": 0.022928,
     "end_time": "2024-10-03T17:15:46.392999",
     "exception": false,
     "start_time": "2024-10-03T17:15:46.370071",
     "status": "completed"
    },
    "tags": []
   },
   "outputs": [],
   "source": [
    "#q5.b.hint()\n",
    "#q5.b.solution()"
   ]
  },
  {
   "cell_type": "markdown",
   "id": "5a8064eb",
   "metadata": {
    "papermill": {
     "duration": 0.014383,
     "end_time": "2024-10-03T17:15:46.422463",
     "exception": false,
     "start_time": "2024-10-03T17:15:46.408080",
     "status": "completed"
    },
    "tags": []
   },
   "source": [
    "# 5c.\n",
    "\n",
    "You know what to do: for the next function, fill in the body to match the English description in the docstring."
   ]
  },
  {
   "cell_type": "code",
   "execution_count": 17,
   "id": "375723f5",
   "metadata": {
    "execution": {
     "iopub.execute_input": "2024-10-03T17:15:46.453648Z",
     "iopub.status.busy": "2024-10-03T17:15:46.453188Z",
     "iopub.status.idle": "2024-10-03T17:15:46.463076Z",
     "shell.execute_reply": "2024-10-03T17:15:46.462026Z"
    },
    "papermill": {
     "duration": 0.028598,
     "end_time": "2024-10-03T17:15:46.465584",
     "exception": false,
     "start_time": "2024-10-03T17:15:46.436986",
     "status": "completed"
    },
    "tags": []
   },
   "outputs": [
    {
     "data": {
      "application/javascript": [
       "parent.postMessage({\"jupyterEvent\": \"custom.exercise_interaction\", \"data\": {\"outcomeType\": 1, \"valueTowardsCompletion\": 0.2, \"interactionType\": 1, \"questionType\": 2, \"questionId\": \"5.3_OneSauce\", \"learnToolsVersion\": \"0.3.4\", \"failureMessage\": \"\", \"exceptionClass\": \"\", \"trace\": \"\"}}, \"*\")"
      ],
      "text/plain": [
       "<IPython.core.display.Javascript object>"
      ]
     },
     "metadata": {},
     "output_type": "display_data"
    },
    {
     "data": {
      "text/markdown": [
       "<span style=\"color:#33cc33\">Correct</span>"
      ],
      "text/plain": [
       "Correct"
      ]
     },
     "metadata": {},
     "output_type": "display_data"
    }
   ],
   "source": [
    "def exactly_one_sauce(ketchup, mustard, onion):\n",
    "    \"\"\"Return whether the customer wants either ketchup or mustard, but not both.\n",
    "    (You may be familiar with this operation under the name \"exclusive or\")\n",
    "    \"\"\"\n",
    "    return (ketchup and not mustard) or (mustard and not ketchup)\n",
    "\n",
    "# Check your answer\n",
    "q5.c.check()"
   ]
  },
  {
   "cell_type": "code",
   "execution_count": 18,
   "id": "22fa51b8",
   "metadata": {
    "execution": {
     "iopub.execute_input": "2024-10-03T17:15:46.497784Z",
     "iopub.status.busy": "2024-10-03T17:15:46.496942Z",
     "iopub.status.idle": "2024-10-03T17:15:46.501453Z",
     "shell.execute_reply": "2024-10-03T17:15:46.500428Z"
    },
    "papermill": {
     "duration": 0.023343,
     "end_time": "2024-10-03T17:15:46.503908",
     "exception": false,
     "start_time": "2024-10-03T17:15:46.480565",
     "status": "completed"
    },
    "tags": []
   },
   "outputs": [],
   "source": [
    "#q5.c.hint()\n",
    "#q5.c.solution()"
   ]
  },
  {
   "cell_type": "markdown",
   "id": "0e547a2b",
   "metadata": {
    "papermill": {
     "duration": 0.014767,
     "end_time": "2024-10-03T17:15:46.534008",
     "exception": false,
     "start_time": "2024-10-03T17:15:46.519241",
     "status": "completed"
    },
    "tags": []
   },
   "source": [
    "# 6. <span title=\"A bit spicy\" style=\"color: darkgreen \">🌶️</span>\n",
    "\n",
    "We’ve seen that calling `bool()` on an integer returns `False` if it’s equal to 0 and `True` otherwise. What happens if we call `int()` on a bool? Try it out in the notebook cell below.\n",
    "\n",
    "Can you take advantage of this to write a succinct function that corresponds to the English sentence \"does the customer want exactly one topping?\"?"
   ]
  },
  {
   "cell_type": "code",
   "execution_count": 19,
   "id": "26d06045",
   "metadata": {
    "execution": {
     "iopub.execute_input": "2024-10-03T17:15:46.565928Z",
     "iopub.status.busy": "2024-10-03T17:15:46.565167Z",
     "iopub.status.idle": "2024-10-03T17:15:46.575308Z",
     "shell.execute_reply": "2024-10-03T17:15:46.574284Z"
    },
    "papermill": {
     "duration": 0.028822,
     "end_time": "2024-10-03T17:15:46.577636",
     "exception": false,
     "start_time": "2024-10-03T17:15:46.548814",
     "status": "completed"
    },
    "tags": []
   },
   "outputs": [
    {
     "data": {
      "application/javascript": [
       "parent.postMessage({\"jupyterEvent\": \"custom.exercise_interaction\", \"data\": {\"outcomeType\": 1, \"valueTowardsCompletion\": 0.2, \"interactionType\": 1, \"questionType\": 2, \"questionId\": \"6_OneTopping\", \"learnToolsVersion\": \"0.3.4\", \"failureMessage\": \"\", \"exceptionClass\": \"\", \"trace\": \"\"}}, \"*\")"
      ],
      "text/plain": [
       "<IPython.core.display.Javascript object>"
      ]
     },
     "metadata": {},
     "output_type": "display_data"
    },
    {
     "data": {
      "text/markdown": [
       "<span style=\"color:#33cc33\">Correct:</span> \n",
       "\n",
       "This condition would be pretty complicated to express using just `and`, `or` and `not`, but using boolean-to-integer conversion gives us this short solution:\n",
       "```python\n",
       "return (int(ketchup) + int(mustard) + int(onion)) == 1\n",
       "```\n",
       "\n",
       "Fun fact: we don't technically need to call `int` on the arguments. Just by doing addition with booleans, Python implicitly does the integer conversion. So we could also write...\n",
       "\n",
       "```python\n",
       "return (ketchup + mustard + onion) == 1\n",
       "```"
      ],
      "text/plain": [
       "Correct: \n",
       "\n",
       "This condition would be pretty complicated to express using just `and`, `or` and `not`, but using boolean-to-integer conversion gives us this short solution:\n",
       "```python\n",
       "return (int(ketchup) + int(mustard) + int(onion)) == 1\n",
       "```\n",
       "\n",
       "Fun fact: we don't technically need to call `int` on the arguments. Just by doing addition with booleans, Python implicitly does the integer conversion. So we could also write...\n",
       "\n",
       "```python\n",
       "return (ketchup + mustard + onion) == 1\n",
       "```"
      ]
     },
     "metadata": {},
     "output_type": "display_data"
    }
   ],
   "source": [
    "def exactly_one_topping(ketchup, mustard, onion):\n",
    "    \"\"\"Return whether the customer wants exactly one of the three available toppings\n",
    "    on their hot dog.\n",
    "    \"\"\"\n",
    "    return (int(ketchup) + int(mustard) + int(onion)) == 1\n",
    "\n",
    "# Check your answer\n",
    "q6.check()"
   ]
  },
  {
   "cell_type": "code",
   "execution_count": 20,
   "id": "58ecfa7e",
   "metadata": {
    "execution": {
     "iopub.execute_input": "2024-10-03T17:15:46.609940Z",
     "iopub.status.busy": "2024-10-03T17:15:46.609521Z",
     "iopub.status.idle": "2024-10-03T17:15:46.614088Z",
     "shell.execute_reply": "2024-10-03T17:15:46.613065Z"
    },
    "papermill": {
     "duration": 0.023509,
     "end_time": "2024-10-03T17:15:46.616481",
     "exception": false,
     "start_time": "2024-10-03T17:15:46.592972",
     "status": "completed"
    },
    "tags": []
   },
   "outputs": [],
   "source": [
    "#q6.hint()\n",
    "#q6.solution()"
   ]
  },
  {
   "cell_type": "markdown",
   "id": "0fb5dc6f",
   "metadata": {
    "papermill": {
     "duration": 0.015263,
     "end_time": "2024-10-03T17:15:46.647305",
     "exception": false,
     "start_time": "2024-10-03T17:15:46.632042",
     "status": "completed"
    },
    "tags": []
   },
   "source": [
    "# 7. <span title=\"A bit spicy\" style=\"color: darkgreen \">🌶️</span> (Optional)\n",
    "\n",
    "In this problem we'll be working with a simplified version of [blackjack](https://en.wikipedia.org/wiki/Blackjack) (aka twenty-one). In this version there is one player (who you'll control) and a dealer. Play proceeds as follows:\n",
    "\n",
    "- The player is dealt two face-up cards. The dealer is dealt one face-up card.\n",
    "- The player may ask to be dealt another card ('hit') as many times as they wish. If the sum of their cards exceeds 21, they lose the round immediately.\n",
    "- The dealer then deals additional cards to himself until either:\n",
    "    - the sum of the dealer's cards exceeds 21, in which case the player wins the round\n",
    "    - the sum of the dealer's cards is greater than or equal to 17. If the player's total is greater than the dealer's, the player wins. Otherwise, the dealer wins (even in case of a tie).\n",
    "    \n",
    "When calculating the sum of cards, Jack, Queen, and King count for 10. Aces can count as 1 or 11 (when referring to a player's \"total\" above, we mean the largest total that can be made without exceeding 21. So e.g. A+8 = 19, A+8+8 = 17)\n",
    "\n",
    "For this problem, you'll write a function representing the player's decision-making strategy in this game. We've provided a very unintelligent implementation below:"
   ]
  },
  {
   "cell_type": "code",
   "execution_count": 21,
   "id": "f07e5aff",
   "metadata": {
    "execution": {
     "iopub.execute_input": "2024-10-03T17:15:46.679878Z",
     "iopub.status.busy": "2024-10-03T17:15:46.679426Z",
     "iopub.status.idle": "2024-10-03T17:15:46.685059Z",
     "shell.execute_reply": "2024-10-03T17:15:46.684051Z"
    },
    "papermill": {
     "duration": 0.024805,
     "end_time": "2024-10-03T17:15:46.687402",
     "exception": false,
     "start_time": "2024-10-03T17:15:46.662597",
     "status": "completed"
    },
    "tags": []
   },
   "outputs": [],
   "source": [
    "def should_hit(dealer_total, player_total, player_low_aces, player_high_aces):\n",
    "    \"\"\"Return True if the player should hit (request another card) given the current game\n",
    "    state, or False if the player should stay.\n",
    "    When calculating a hand's total value, we count aces as \"high\" (with value 11) if doing so\n",
    "    doesn't bring the total above 21, otherwise we count them as low (with value 1). \n",
    "    For example, if the player's hand is {A, A, A, 7}, we will count it as 11 + 1 + 1 + 7,\n",
    "    and therefore set player_total=20, player_low_aces=2, player_high_aces=1.\n",
    "    \"\"\"\n",
    "    return False"
   ]
  },
  {
   "cell_type": "markdown",
   "id": "565d68f6",
   "metadata": {
    "papermill": {
     "duration": 0.015554,
     "end_time": "2024-10-03T17:15:46.718662",
     "exception": false,
     "start_time": "2024-10-03T17:15:46.703108",
     "status": "completed"
    },
    "tags": []
   },
   "source": [
    "This very conservative agent *always* sticks with the hand of two cards that they're dealt.\n",
    "\n",
    "We'll be simulating games between your player agent and our own dealer agent by calling your function.\n",
    "\n",
    "Try running the function below to see an example of a simulated game:"
   ]
  },
  {
   "cell_type": "code",
   "execution_count": 22,
   "id": "59b925a0",
   "metadata": {
    "execution": {
     "iopub.execute_input": "2024-10-03T17:15:46.751836Z",
     "iopub.status.busy": "2024-10-03T17:15:46.751399Z",
     "iopub.status.idle": "2024-10-03T17:15:46.757470Z",
     "shell.execute_reply": "2024-10-03T17:15:46.756398Z"
    },
    "papermill": {
     "duration": 0.025626,
     "end_time": "2024-10-03T17:15:46.760003",
     "exception": false,
     "start_time": "2024-10-03T17:15:46.734377",
     "status": "completed"
    },
    "tags": []
   },
   "outputs": [
    {
     "name": "stdout",
     "output_type": "stream",
     "text": [
      "Player starts with 2 and 6 (total = 8)\n",
      "Dealer starts with 10\n",
      "\n",
      "__Player's turn__\n",
      "Player stays\n",
      "\n",
      "__Dealer's turn__\n",
      "Dealer hits and receives 6. (total = 16)\n",
      "Dealer hits and receives 8. (total = 24)\n",
      "Dealer busts! Player wins.\n"
     ]
    }
   ],
   "source": [
    "q7.simulate_one_game()"
   ]
  },
  {
   "cell_type": "markdown",
   "id": "202c759a",
   "metadata": {
    "papermill": {
     "duration": 0.015402,
     "end_time": "2024-10-03T17:15:46.791145",
     "exception": false,
     "start_time": "2024-10-03T17:15:46.775743",
     "status": "completed"
    },
    "tags": []
   },
   "source": [
    "The real test of your agent's mettle is their average win rate over many games. Try calling the function below to simulate 50000 games of blackjack (it may take a couple seconds):"
   ]
  },
  {
   "cell_type": "code",
   "execution_count": 23,
   "id": "f00c653f",
   "metadata": {
    "execution": {
     "iopub.execute_input": "2024-10-03T17:15:46.824901Z",
     "iopub.status.busy": "2024-10-03T17:15:46.823893Z",
     "iopub.status.idle": "2024-10-03T17:15:48.962526Z",
     "shell.execute_reply": "2024-10-03T17:15:48.961369Z"
    },
    "papermill": {
     "duration": 2.158116,
     "end_time": "2024-10-03T17:15:48.964944",
     "exception": false,
     "start_time": "2024-10-03T17:15:46.806828",
     "status": "completed"
    },
    "tags": []
   },
   "outputs": [
    {
     "name": "stdout",
     "output_type": "stream",
     "text": [
      "Player won 18958 out of 50000 games (win rate = 37.9%)\n"
     ]
    }
   ],
   "source": [
    "q7.simulate(n_games=50000)"
   ]
  },
  {
   "cell_type": "markdown",
   "id": "b9b56d9b",
   "metadata": {
    "papermill": {
     "duration": 0.015473,
     "end_time": "2024-10-03T17:15:48.996353",
     "exception": false,
     "start_time": "2024-10-03T17:15:48.980880",
     "status": "completed"
    },
    "tags": []
   },
   "source": [
    "Our dumb agent that completely ignores the game state still manages to win shockingly often!\n",
    "\n",
    "Try adding some more smarts to the `should_hit` function and see how it affects the results."
   ]
  },
  {
   "cell_type": "code",
   "execution_count": 24,
   "id": "8afaea03",
   "metadata": {
    "execution": {
     "iopub.execute_input": "2024-10-03T17:15:49.029794Z",
     "iopub.status.busy": "2024-10-03T17:15:49.029351Z",
     "iopub.status.idle": "2024-10-03T17:15:51.237467Z",
     "shell.execute_reply": "2024-10-03T17:15:51.236180Z"
    },
    "papermill": {
     "duration": 2.227825,
     "end_time": "2024-10-03T17:15:51.239952",
     "exception": false,
     "start_time": "2024-10-03T17:15:49.012127",
     "status": "completed"
    },
    "tags": []
   },
   "outputs": [
    {
     "name": "stdout",
     "output_type": "stream",
     "text": [
      "Player won 19115 out of 50000 games (win rate = 38.2%)\n"
     ]
    }
   ],
   "source": [
    "def should_hit(dealer_total, player_total, player_low_aces, player_high_aces):\n",
    "    \"\"\"Return True if the player should hit (request another card) given the current game\n",
    "    state, or False if the player should stay.\n",
    "    When calculating a hand's total value, we count aces as \"high\" (with value 11) if doing so\n",
    "    doesn't bring the total above 21, otherwise we count them as low (with value 1). \n",
    "    For example, if the player's hand is {A, A, A, 7}, we will count it as 11 + 1 + 1 + 7,\n",
    "    and therefore set player_total=20, player_low_aces=2, player_high_aces=1.\n",
    "    \"\"\"\n",
    "    return False\n",
    "\n",
    "q7.simulate(n_games=50000)"
   ]
  },
  {
   "cell_type": "markdown",
   "id": "dd9d3145",
   "metadata": {
    "papermill": {
     "duration": 0.015762,
     "end_time": "2024-10-03T17:15:51.271733",
     "exception": false,
     "start_time": "2024-10-03T17:15:51.255971",
     "status": "completed"
    },
    "tags": []
   },
   "source": [
    "# Keep Going\n",
    "\n",
    "Learn about **[lists and tuples](https://www.kaggle.com/colinmorris/lists)** to handle multiple items of data in a systematic way."
   ]
  },
  {
   "cell_type": "markdown",
   "id": "04c3f2ee",
   "metadata": {
    "papermill": {
     "duration": 0.015393,
     "end_time": "2024-10-03T17:15:51.303390",
     "exception": false,
     "start_time": "2024-10-03T17:15:51.287997",
     "status": "completed"
    },
    "tags": []
   },
   "source": [
    "---\n",
    "\n",
    "\n",
    "\n",
    "\n",
    "*Have questions or comments? Visit the [course discussion forum](https://www.kaggle.com/learn/python/discussion) to chat with other learners.*"
   ]
  }
 ],
 "metadata": {
  "kaggle": {
   "accelerator": "none",
   "dataSources": [],
   "isGpuEnabled": false,
   "isInternetEnabled": false,
   "language": "python",
   "sourceType": "notebook"
  },
  "kernelspec": {
   "display_name": "Python 3",
   "language": "python",
   "name": "python3"
  },
  "language_info": {
   "codemirror_mode": {
    "name": "ipython",
    "version": 3
   },
   "file_extension": ".py",
   "mimetype": "text/x-python",
   "name": "python",
   "nbconvert_exporter": "python",
   "pygments_lexer": "ipython3",
   "version": "3.10.14"
  },
  "learntools_metadata": {
   "lesson_index": 2,
   "type": "exercise"
  },
  "papermill": {
   "default_parameters": {},
   "duration": 10.125277,
   "end_time": "2024-10-03T17:15:51.739651",
   "environment_variables": {},
   "exception": null,
   "input_path": "__notebook__.ipynb",
   "output_path": "__notebook__.ipynb",
   "parameters": {},
   "start_time": "2024-10-03T17:15:41.614374",
   "version": "2.6.0"
  }
 },
 "nbformat": 4,
 "nbformat_minor": 5
}
