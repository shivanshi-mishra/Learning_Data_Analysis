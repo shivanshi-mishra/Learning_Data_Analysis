{
 "cells": [
  {
   "cell_type": "markdown",
   "id": "b574eae5",
   "metadata": {
    "papermill": {
     "duration": 0.007957,
     "end_time": "2024-10-06T18:19:40.763333",
     "exception": false,
     "start_time": "2024-10-06T18:19:40.755376",
     "status": "completed"
    },
    "tags": []
   },
   "source": [
    "**This notebook is an exercise in the [Python](https://www.kaggle.com/learn/python) course.  You can reference the tutorial at [this link](https://www.kaggle.com/colinmorris/loops-and-list-comprehensions).**\n",
    "\n",
    "---\n"
   ]
  },
  {
   "cell_type": "markdown",
   "id": "5b5f4c26",
   "metadata": {
    "papermill": {
     "duration": 0.00607,
     "end_time": "2024-10-06T18:19:40.776080",
     "exception": false,
     "start_time": "2024-10-06T18:19:40.770010",
     "status": "completed"
    },
    "tags": []
   },
   "source": [
    "With all you've learned, you can start writing much more interesting programs. See if you can solve the problems below.\n",
    "\n",
    "As always, run the setup code below before working on the questions."
   ]
  },
  {
   "cell_type": "code",
   "execution_count": 1,
   "id": "f3e5d83a",
   "metadata": {
    "execution": {
     "iopub.execute_input": "2024-10-06T18:19:40.790229Z",
     "iopub.status.busy": "2024-10-06T18:19:40.789788Z",
     "iopub.status.idle": "2024-10-06T18:19:41.699218Z",
     "shell.execute_reply": "2024-10-06T18:19:41.697989Z"
    },
    "papermill": {
     "duration": 0.919499,
     "end_time": "2024-10-06T18:19:41.701844",
     "exception": false,
     "start_time": "2024-10-06T18:19:40.782345",
     "status": "completed"
    },
    "tags": []
   },
   "outputs": [
    {
     "name": "stdout",
     "output_type": "stream",
     "text": [
      "Setup complete.\n"
     ]
    }
   ],
   "source": [
    "from learntools.core import binder; binder.bind(globals())\n",
    "from learntools.python.ex5 import *\n",
    "print('Setup complete.')"
   ]
  },
  {
   "cell_type": "markdown",
   "id": "8ce0a2c0",
   "metadata": {
    "papermill": {
     "duration": 0.006365,
     "end_time": "2024-10-06T18:19:41.715001",
     "exception": false,
     "start_time": "2024-10-06T18:19:41.708636",
     "status": "completed"
    },
    "tags": []
   },
   "source": [
    "# 1.\n",
    "\n",
    "Have you ever felt debugging involved a bit of luck? The following program has a bug. Try to identify the bug and fix it."
   ]
  },
  {
   "cell_type": "code",
   "execution_count": 2,
   "id": "9beafb92",
   "metadata": {
    "execution": {
     "iopub.execute_input": "2024-10-06T18:19:41.730336Z",
     "iopub.status.busy": "2024-10-06T18:19:41.729346Z",
     "iopub.status.idle": "2024-10-06T18:19:41.735413Z",
     "shell.execute_reply": "2024-10-06T18:19:41.734359Z"
    },
    "papermill": {
     "duration": 0.016248,
     "end_time": "2024-10-06T18:19:41.737755",
     "exception": false,
     "start_time": "2024-10-06T18:19:41.721507",
     "status": "completed"
    },
    "tags": []
   },
   "outputs": [],
   "source": [
    "def has_lucky_number(nums):\n",
    "    \"\"\"Return whether the given list of numbers is lucky. A lucky list contains\n",
    "    at least one number divisible by 7.\n",
    "    \"\"\"\n",
    "    for num in nums:\n",
    "        if num % 7 == 0:\n",
    "            return True\n",
    "        else:\n",
    "            return False"
   ]
  },
  {
   "cell_type": "markdown",
   "id": "1e759ef2",
   "metadata": {
    "papermill": {
     "duration": 0.00627,
     "end_time": "2024-10-06T18:19:41.750637",
     "exception": false,
     "start_time": "2024-10-06T18:19:41.744367",
     "status": "completed"
    },
    "tags": []
   },
   "source": [
    "Try to identify the bug and fix it in the cell below:"
   ]
  },
  {
   "cell_type": "code",
   "execution_count": 3,
   "id": "c3e89095",
   "metadata": {
    "execution": {
     "iopub.execute_input": "2024-10-06T18:19:41.765246Z",
     "iopub.status.busy": "2024-10-06T18:19:41.764790Z",
     "iopub.status.idle": "2024-10-06T18:19:41.776545Z",
     "shell.execute_reply": "2024-10-06T18:19:41.775504Z"
    },
    "papermill": {
     "duration": 0.021788,
     "end_time": "2024-10-06T18:19:41.778874",
     "exception": false,
     "start_time": "2024-10-06T18:19:41.757086",
     "status": "completed"
    },
    "tags": []
   },
   "outputs": [
    {
     "data": {
      "application/javascript": [
       "parent.postMessage({\"jupyterEvent\": \"custom.exercise_interaction\", \"data\": {\"outcomeType\": 2, \"failureMessage\": \"Got a return value of `None` given `nums=[]`, but expected a value of type `bool`. (Did you forget a `return` statement?)\", \"interactionType\": 1, \"questionType\": 2, \"questionId\": \"1_EarlyExitDebugging\", \"learnToolsVersion\": \"0.3.4\", \"valueTowardsCompletion\": 0.0, \"exceptionClass\": \"\", \"trace\": \"\"}}, \"*\")"
      ],
      "text/plain": [
       "<IPython.core.display.Javascript object>"
      ]
     },
     "metadata": {},
     "output_type": "display_data"
    },
    {
     "data": {
      "text/markdown": [
       "<span style=\"color:#cc3333\">Incorrect:</span> Got a return value of `None` given `nums=[]`, but expected a value of type `bool`. (Did you forget a `return` statement?)"
      ],
      "text/plain": [
       "Incorrect: Got a return value of `None` given `nums=[]`, but expected a value of type `bool`. (Did you forget a `return` statement?)"
      ]
     },
     "metadata": {},
     "output_type": "display_data"
    }
   ],
   "source": [
    "def has_lucky_number(nums):\n",
    "    \"\"\"Return whether the given list of numbers is lucky. A lucky list contains\n",
    "    at least one number divisible by 7.\n",
    "    \"\"\"\n",
    "    for num in nums:\n",
    "        if num % 7 == 0:\n",
    "            return True\n",
    "        else:\n",
    "            return False\n",
    "\n",
    "# Check your answer\n",
    "q1.check()"
   ]
  },
  {
   "cell_type": "code",
   "execution_count": 4,
   "id": "08cad623",
   "metadata": {
    "execution": {
     "iopub.execute_input": "2024-10-06T18:19:41.796624Z",
     "iopub.status.busy": "2024-10-06T18:19:41.795420Z",
     "iopub.status.idle": "2024-10-06T18:19:41.800397Z",
     "shell.execute_reply": "2024-10-06T18:19:41.799277Z"
    },
    "papermill": {
     "duration": 0.015639,
     "end_time": "2024-10-06T18:19:41.802708",
     "exception": false,
     "start_time": "2024-10-06T18:19:41.787069",
     "status": "completed"
    },
    "tags": []
   },
   "outputs": [],
   "source": [
    "#q1.hint()\n",
    "#q1.solution()"
   ]
  },
  {
   "cell_type": "markdown",
   "id": "2c71193a",
   "metadata": {
    "papermill": {
     "duration": 0.006843,
     "end_time": "2024-10-06T18:19:41.816712",
     "exception": false,
     "start_time": "2024-10-06T18:19:41.809869",
     "status": "completed"
    },
    "tags": []
   },
   "source": [
    "# 2.\n",
    "Look at the Python expression below. What do you think we'll get when we run it? When you've made your prediction, uncomment the code and run the cell to see if you were right."
   ]
  },
  {
   "cell_type": "code",
   "execution_count": 5,
   "id": "b0330268",
   "metadata": {
    "execution": {
     "iopub.execute_input": "2024-10-06T18:19:41.832911Z",
     "iopub.status.busy": "2024-10-06T18:19:41.832376Z",
     "iopub.status.idle": "2024-10-06T18:19:41.837104Z",
     "shell.execute_reply": "2024-10-06T18:19:41.836017Z"
    },
    "papermill": {
     "duration": 0.015554,
     "end_time": "2024-10-06T18:19:41.839484",
     "exception": false,
     "start_time": "2024-10-06T18:19:41.823930",
     "status": "completed"
    },
    "tags": []
   },
   "outputs": [],
   "source": [
    "#[1, 2, 3, 4] > 2"
   ]
  },
  {
   "cell_type": "markdown",
   "id": "bf4ccec4",
   "metadata": {
    "papermill": {
     "duration": 0.006829,
     "end_time": "2024-10-06T18:19:41.853589",
     "exception": false,
     "start_time": "2024-10-06T18:19:41.846760",
     "status": "completed"
    },
    "tags": []
   },
   "source": [
    "R and Python have some libraries (like numpy and pandas) compare each element of the list to 2 (i.e. do an 'element-wise' comparison) and give us a list of booleans like `[False, False, True, True]`. \n",
    "\n",
    "Implement a function that reproduces this behaviour, returning a list of booleans corresponding to whether the corresponding element is greater than n."
   ]
  },
  {
   "cell_type": "code",
   "execution_count": 6,
   "id": "0015c8a5",
   "metadata": {
    "execution": {
     "iopub.execute_input": "2024-10-06T18:19:41.870664Z",
     "iopub.status.busy": "2024-10-06T18:19:41.869576Z",
     "iopub.status.idle": "2024-10-06T18:19:41.879162Z",
     "shell.execute_reply": "2024-10-06T18:19:41.878151Z"
    },
    "papermill": {
     "duration": 0.020666,
     "end_time": "2024-10-06T18:19:41.881623",
     "exception": false,
     "start_time": "2024-10-06T18:19:41.860957",
     "status": "completed"
    },
    "tags": []
   },
   "outputs": [
    {
     "data": {
      "application/javascript": [
       "parent.postMessage({\"jupyterEvent\": \"custom.exercise_interaction\", \"data\": {\"outcomeType\": 4, \"interactionType\": 1, \"questionType\": 2, \"questionId\": \"2_ElementWiseComparison\", \"learnToolsVersion\": \"0.3.4\", \"valueTowardsCompletion\": 0.0, \"failureMessage\": \"\", \"exceptionClass\": \"\", \"trace\": \"\"}}, \"*\")"
      ],
      "text/plain": [
       "<IPython.core.display.Javascript object>"
      ]
     },
     "metadata": {},
     "output_type": "display_data"
    },
    {
     "data": {
      "text/markdown": [
       "<span style=\"color:#ccaa33\">Check:</span> When you've updated the starter code, `check()` will tell you whether your code is correct. "
      ],
      "text/plain": [
       "Check: When you've updated the starter code, `check()` will tell you whether your code is correct. "
      ]
     },
     "metadata": {},
     "output_type": "display_data"
    }
   ],
   "source": [
    "def elementwise_greater_than(L, thresh):\n",
    "    \"\"\"Return a list with the same length as L, where the value at index i is \n",
    "    True if L[i] is greater than thresh, and False otherwise.\n",
    "    \n",
    "    >>> elementwise_greater_than([1, 2, 3, 4], 2)\n",
    "    [False, False, True, True]\n",
    "    \"\"\"\n",
    "    pass\n",
    "\n",
    "# Check your answer\n",
    "q2.check()"
   ]
  },
  {
   "cell_type": "code",
   "execution_count": 7,
   "id": "a36e69ca",
   "metadata": {
    "execution": {
     "iopub.execute_input": "2024-10-06T18:19:41.899485Z",
     "iopub.status.busy": "2024-10-06T18:19:41.898920Z",
     "iopub.status.idle": "2024-10-06T18:19:41.904052Z",
     "shell.execute_reply": "2024-10-06T18:19:41.902792Z"
    },
    "papermill": {
     "duration": 0.017243,
     "end_time": "2024-10-06T18:19:41.906529",
     "exception": false,
     "start_time": "2024-10-06T18:19:41.889286",
     "status": "completed"
    },
    "tags": []
   },
   "outputs": [],
   "source": [
    "#q2.solution()"
   ]
  },
  {
   "cell_type": "markdown",
   "id": "b6fc0f96",
   "metadata": {
    "papermill": {
     "duration": 0.007562,
     "end_time": "2024-10-06T18:19:41.922278",
     "exception": false,
     "start_time": "2024-10-06T18:19:41.914716",
     "status": "completed"
    },
    "tags": []
   },
   "source": [
    "# 3.\n",
    "\n",
    "Complete the body of the function below according to its docstring."
   ]
  },
  {
   "cell_type": "code",
   "execution_count": 8,
   "id": "e66bb330",
   "metadata": {
    "execution": {
     "iopub.execute_input": "2024-10-06T18:19:41.939556Z",
     "iopub.status.busy": "2024-10-06T18:19:41.939137Z",
     "iopub.status.idle": "2024-10-06T18:19:41.948960Z",
     "shell.execute_reply": "2024-10-06T18:19:41.947901Z"
    },
    "papermill": {
     "duration": 0.021374,
     "end_time": "2024-10-06T18:19:41.951417",
     "exception": false,
     "start_time": "2024-10-06T18:19:41.930043",
     "status": "completed"
    },
    "tags": []
   },
   "outputs": [
    {
     "data": {
      "application/javascript": [
       "parent.postMessage({\"jupyterEvent\": \"custom.exercise_interaction\", \"data\": {\"outcomeType\": 4, \"interactionType\": 1, \"questionType\": 2, \"questionId\": \"3_BoringMenu\", \"learnToolsVersion\": \"0.3.4\", \"valueTowardsCompletion\": 0.0, \"failureMessage\": \"\", \"exceptionClass\": \"\", \"trace\": \"\"}}, \"*\")"
      ],
      "text/plain": [
       "<IPython.core.display.Javascript object>"
      ]
     },
     "metadata": {},
     "output_type": "display_data"
    },
    {
     "data": {
      "text/markdown": [
       "<span style=\"color:#ccaa33\">Check:</span> When you've updated the starter code, `check()` will tell you whether your code is correct. "
      ],
      "text/plain": [
       "Check: When you've updated the starter code, `check()` will tell you whether your code is correct. "
      ]
     },
     "metadata": {},
     "output_type": "display_data"
    }
   ],
   "source": [
    "def menu_is_boring(meals):\n",
    "    \"\"\"Given a list of meals served over some period of time, return True if the\n",
    "    same meal has ever been served two days in a row, and False otherwise.\n",
    "    \"\"\"\n",
    "    pass\n",
    "\n",
    "# Check your answer\n",
    "q3.check()"
   ]
  },
  {
   "cell_type": "code",
   "execution_count": 9,
   "id": "800d1e99",
   "metadata": {
    "execution": {
     "iopub.execute_input": "2024-10-06T18:19:41.969442Z",
     "iopub.status.busy": "2024-10-06T18:19:41.969016Z",
     "iopub.status.idle": "2024-10-06T18:19:41.973765Z",
     "shell.execute_reply": "2024-10-06T18:19:41.972712Z"
    },
    "papermill": {
     "duration": 0.016503,
     "end_time": "2024-10-06T18:19:41.976151",
     "exception": false,
     "start_time": "2024-10-06T18:19:41.959648",
     "status": "completed"
    },
    "tags": []
   },
   "outputs": [],
   "source": [
    "#q3.hint()\n",
    "#q3.solution()"
   ]
  },
  {
   "cell_type": "markdown",
   "id": "8b1cb08c",
   "metadata": {
    "papermill": {
     "duration": 0.007908,
     "end_time": "2024-10-06T18:19:41.992280",
     "exception": false,
     "start_time": "2024-10-06T18:19:41.984372",
     "status": "completed"
    },
    "tags": []
   },
   "source": [
    "# 4. <span title=\"A bit spicy\" style=\"color: darkgreen \">🌶️</span>\n",
    "\n",
    "Next to the Blackjack table, the Python Challenge Casino has a slot machine. You can get a result from the slot machine by calling `play_slot_machine()`. The number it returns is your winnings in dollars. Usually it returns 0.  But sometimes you'll get lucky and get a big payday. Try running it below:"
   ]
  },
  {
   "cell_type": "code",
   "execution_count": 10,
   "id": "cd669b92",
   "metadata": {
    "execution": {
     "iopub.execute_input": "2024-10-06T18:19:42.012129Z",
     "iopub.status.busy": "2024-10-06T18:19:42.011683Z",
     "iopub.status.idle": "2024-10-06T18:19:42.019390Z",
     "shell.execute_reply": "2024-10-06T18:19:42.018282Z"
    },
    "papermill": {
     "duration": 0.020314,
     "end_time": "2024-10-06T18:19:42.022004",
     "exception": false,
     "start_time": "2024-10-06T18:19:42.001690",
     "status": "completed"
    },
    "tags": []
   },
   "outputs": [
    {
     "data": {
      "text/plain": [
       "1.5"
      ]
     },
     "execution_count": 10,
     "metadata": {},
     "output_type": "execute_result"
    }
   ],
   "source": [
    "play_slot_machine()"
   ]
  },
  {
   "cell_type": "markdown",
   "id": "136daab9",
   "metadata": {
    "papermill": {
     "duration": 0.00821,
     "end_time": "2024-10-06T18:19:42.038615",
     "exception": false,
     "start_time": "2024-10-06T18:19:42.030405",
     "status": "completed"
    },
    "tags": []
   },
   "source": [
    "By the way, did we mention that each play costs $1? Don't worry, we'll send you the bill later.\n",
    "\n",
    "On average, how much money can you expect to gain (or lose) every time you play the machine?  The casino keeps it a secret, but you can estimate the average value of each pull using a technique called the **Monte Carlo method**. To estimate the average outcome, we simulate the scenario many times, and return the average result.\n",
    "\n",
    "Complete the following function to calculate the average value per play of the slot machine."
   ]
  },
  {
   "cell_type": "code",
   "execution_count": 11,
   "id": "47048e7e",
   "metadata": {
    "execution": {
     "iopub.execute_input": "2024-10-06T18:19:42.056967Z",
     "iopub.status.busy": "2024-10-06T18:19:42.056546Z",
     "iopub.status.idle": "2024-10-06T18:19:42.061763Z",
     "shell.execute_reply": "2024-10-06T18:19:42.060702Z"
    },
    "papermill": {
     "duration": 0.01709,
     "end_time": "2024-10-06T18:19:42.064070",
     "exception": false,
     "start_time": "2024-10-06T18:19:42.046980",
     "status": "completed"
    },
    "tags": []
   },
   "outputs": [],
   "source": [
    "def estimate_average_slot_payout(n_runs):\n",
    "    \"\"\"Run the slot machine n_runs times and return the average net profit per run.\n",
    "    Example calls (note that return value is nondeterministic!):\n",
    "    >>> estimate_average_slot_payout(1)\n",
    "    -1\n",
    "    >>> estimate_average_slot_payout(1)\n",
    "    0.5\n",
    "    \"\"\"\n",
    "    pass"
   ]
  },
  {
   "cell_type": "markdown",
   "id": "6b6fd809",
   "metadata": {
    "papermill": {
     "duration": 0.008075,
     "end_time": "2024-10-06T18:19:42.080643",
     "exception": false,
     "start_time": "2024-10-06T18:19:42.072568",
     "status": "completed"
    },
    "tags": []
   },
   "source": [
    "When you think you know the expected value per spin, run the code cell below to view the solution and get credit for answering the question."
   ]
  },
  {
   "cell_type": "code",
   "execution_count": 12,
   "id": "89cea242",
   "metadata": {
    "execution": {
     "iopub.execute_input": "2024-10-06T18:19:42.099849Z",
     "iopub.status.busy": "2024-10-06T18:19:42.098997Z",
     "iopub.status.idle": "2024-10-06T18:19:42.108043Z",
     "shell.execute_reply": "2024-10-06T18:19:42.106926Z"
    },
    "papermill": {
     "duration": 0.021225,
     "end_time": "2024-10-06T18:19:42.110382",
     "exception": false,
     "start_time": "2024-10-06T18:19:42.089157",
     "status": "completed"
    },
    "tags": []
   },
   "outputs": [
    {
     "data": {
      "application/javascript": [
       "parent.postMessage({\"jupyterEvent\": \"custom.exercise_interaction\", \"data\": {\"interactionType\": 3, \"questionType\": 4, \"questionId\": \"4_ExpectedSlotsPayout\", \"learnToolsVersion\": \"0.3.4\", \"valueTowardsCompletion\": 0.0, \"failureMessage\": \"\", \"exceptionClass\": \"\", \"trace\": \"\", \"outcomeType\": 4}}, \"*\")"
      ],
      "text/plain": [
       "<IPython.core.display.Javascript object>"
      ]
     },
     "metadata": {},
     "output_type": "display_data"
    },
    {
     "data": {
      "text/markdown": [
       "<span style=\"color:#33cc99\">Solution:</span> \n",
       "    \n",
       "The exact expected value of one pull of the slot machine is 0.025 - i.e. a little more than 2 cents.  See?  Not every game in the Python Challenge Casino is rigged against the player!\n",
       "\n",
       "In order to get this answer, you'll need to implement the `estimate_average_slot_payout(n_runs)` function to simulate pulling the slot machine `n_runs` times.  It should return the payout averaged over those `n_runs`.\n",
       "\n",
       "Then, once the function is defined, in order to estimate the average slot payout, we need only call the function.\n",
       "\n",
       "Because of the high variance of the outcome (there are some very rare high payout results that significantly affect the average) you might need to run your function with a very high value of `n_runs` to get a stable answer close to the true expectation.  For instance, you might use a value for `n_runs` of 1000000.\n",
       "\n",
       "Here's an example for how the function could look:\n",
       "```python\n",
       "def estimate_average_slot_payout(n_runs):\n",
       "    # Play slot machine n_runs times, calculate payout of each\n",
       "    payouts = [play_slot_machine()-1 for i in range(n_runs)]\n",
       "    # Calculate the average value\n",
       "    avg_payout = sum(payouts) / n_runs\n",
       "    return avg_payout\n",
       "    \n",
       "estimate_average_slot_payout(10000000)\n",
       "\n",
       "```\n",
       "\n",
       "This should return an answer close to 0.025!\n",
       "            \n"
      ],
      "text/plain": [
       "Solution: \n",
       "    \n",
       "The exact expected value of one pull of the slot machine is 0.025 - i.e. a little more than 2 cents.  See?  Not every game in the Python Challenge Casino is rigged against the player!\n",
       "\n",
       "In order to get this answer, you'll need to implement the `estimate_average_slot_payout(n_runs)` function to simulate pulling the slot machine `n_runs` times.  It should return the payout averaged over those `n_runs`.\n",
       "\n",
       "Then, once the function is defined, in order to estimate the average slot payout, we need only call the function.\n",
       "\n",
       "Because of the high variance of the outcome (there are some very rare high payout results that significantly affect the average) you might need to run your function with a very high value of `n_runs` to get a stable answer close to the true expectation.  For instance, you might use a value for `n_runs` of 1000000.\n",
       "\n",
       "Here's an example for how the function could look:\n",
       "```python\n",
       "def estimate_average_slot_payout(n_runs):\n",
       "    # Play slot machine n_runs times, calculate payout of each\n",
       "    payouts = [play_slot_machine()-1 for i in range(n_runs)]\n",
       "    # Calculate the average value\n",
       "    avg_payout = sum(payouts) / n_runs\n",
       "    return avg_payout\n",
       "    \n",
       "estimate_average_slot_payout(10000000)\n",
       "\n",
       "```\n",
       "\n",
       "This should return an answer close to 0.025!\n",
       "            "
      ]
     },
     "metadata": {},
     "output_type": "display_data"
    }
   ],
   "source": [
    "# Check your answer (Run this code cell to receive credit!)\n",
    "q4.solution()"
   ]
  },
  {
   "cell_type": "markdown",
   "id": "5117091d",
   "metadata": {
    "papermill": {
     "duration": 0.008597,
     "end_time": "2024-10-06T18:19:42.127910",
     "exception": false,
     "start_time": "2024-10-06T18:19:42.119313",
     "status": "completed"
    },
    "tags": []
   },
   "source": [
    "# Keep Going\n",
    "\n",
    "Many programmers report that dictionaries are their favorite data structure. You'll get to **[learn about them](https://www.kaggle.com/colinmorris/strings-and-dictionaries)** (as well as strings) in the next lesson."
   ]
  },
  {
   "cell_type": "markdown",
   "id": "b236f832",
   "metadata": {
    "papermill": {
     "duration": 0.008585,
     "end_time": "2024-10-06T18:19:42.145676",
     "exception": false,
     "start_time": "2024-10-06T18:19:42.137091",
     "status": "completed"
    },
    "tags": []
   },
   "source": [
    "---\n",
    "\n",
    "\n",
    "\n",
    "\n",
    "*Have questions or comments? Visit the [course discussion forum](https://www.kaggle.com/learn/python/discussion) to chat with other learners.*"
   ]
  }
 ],
 "metadata": {
  "kaggle": {
   "accelerator": "none",
   "dataSources": [],
   "isGpuEnabled": false,
   "isInternetEnabled": false,
   "language": "python",
   "sourceType": "notebook"
  },
  "kernelspec": {
   "display_name": "Python 3",
   "language": "python",
   "name": "python3"
  },
  "language_info": {
   "codemirror_mode": {
    "name": "ipython",
    "version": 3
   },
   "file_extension": ".py",
   "mimetype": "text/x-python",
   "name": "python",
   "nbconvert_exporter": "python",
   "pygments_lexer": "ipython3",
   "version": "3.10.14"
  },
  "learntools_metadata": {
   "lesson_index": 4,
   "type": "exercise"
  },
  "papermill": {
   "default_parameters": {},
   "duration": 4.891213,
   "end_time": "2024-10-06T18:19:42.676014",
   "environment_variables": {},
   "exception": null,
   "input_path": "__notebook__.ipynb",
   "output_path": "__notebook__.ipynb",
   "parameters": {},
   "start_time": "2024-10-06T18:19:37.784801",
   "version": "2.6.0"
  }
 },
 "nbformat": 4,
 "nbformat_minor": 5
}
