{
 "cells": [
  {
   "cell_type": "markdown",
   "id": "da0371a8",
   "metadata": {
    "papermill": {
     "duration": 0.006777,
     "end_time": "2024-09-29T14:33:46.792478",
     "exception": false,
     "start_time": "2024-09-29T14:33:46.785701",
     "status": "completed"
    },
    "tags": []
   },
   "source": [
    "**This notebook is an exercise in the [Intro to Programming](https://www.kaggle.com/learn/intro-to-programming) course.  You can reference the tutorial at [this link](https://www.kaggle.com/alexisbcook/intro-to-lists).**\n",
    "\n",
    "---\n"
   ]
  },
  {
   "cell_type": "markdown",
   "id": "06ae367e",
   "metadata": {
    "papermill": {
     "duration": 0.005939,
     "end_time": "2024-09-29T14:33:46.805011",
     "exception": false,
     "start_time": "2024-09-29T14:33:46.799072",
     "status": "completed"
    },
    "tags": []
   },
   "source": [
    "In the tutorial, you learned how to define and modify Python lists.  In this exercise, you will use your new knowledge to solve several problems.\n",
    "\n",
    "# Set up the notebook\n",
    "\n",
    "Run the next code cell without changes to set up the notebook."
   ]
  },
  {
   "cell_type": "code",
   "execution_count": 1,
   "id": "ffcb923d",
   "metadata": {
    "execution": {
     "iopub.execute_input": "2024-09-29T14:33:46.822526Z",
     "iopub.status.busy": "2024-09-29T14:33:46.821967Z",
     "iopub.status.idle": "2024-09-29T14:33:47.833459Z",
     "shell.execute_reply": "2024-09-29T14:33:47.832148Z"
    },
    "papermill": {
     "duration": 1.02576,
     "end_time": "2024-09-29T14:33:47.837575",
     "exception": false,
     "start_time": "2024-09-29T14:33:46.811815",
     "status": "completed"
    },
    "tags": []
   },
   "outputs": [
    {
     "name": "stdout",
     "output_type": "stream",
     "text": [
      "Setup complete.\n"
     ]
    }
   ],
   "source": [
    "from learntools.core import binder\n",
    "binder.bind(globals())\n",
    "from learntools.intro_to_programming.ex5 import *\n",
    "print('Setup complete.')"
   ]
  },
  {
   "cell_type": "markdown",
   "id": "dfe58ec8",
   "metadata": {
    "papermill": {
     "duration": 0.006073,
     "end_time": "2024-09-29T14:33:47.851046",
     "exception": false,
     "start_time": "2024-09-29T14:33:47.844973",
     "status": "completed"
    },
    "tags": []
   },
   "source": [
    "# Question 1\n",
    "\n",
    "You own a restaurant with five food dishes, organized in the Python list `menu` below.  One day, you decide to:\n",
    "- remove bean soup (`'bean soup'`) from the menu, and\n",
    "- add roasted beet salad (`'roasted beet salad'`) to the menu.\n",
    "\n",
    "Implement this change to the list below.  While completing this task, \n",
    "- do not change the line that creates the `menu` list.  \n",
    "- your answer should use `.remove()` and `.append()`.  "
   ]
  },
  {
   "cell_type": "code",
   "execution_count": 2,
   "id": "64b3993f",
   "metadata": {
    "execution": {
     "iopub.execute_input": "2024-09-29T14:33:47.865203Z",
     "iopub.status.busy": "2024-09-29T14:33:47.864667Z",
     "iopub.status.idle": "2024-09-29T14:33:47.875481Z",
     "shell.execute_reply": "2024-09-29T14:33:47.874530Z"
    },
    "papermill": {
     "duration": 0.020739,
     "end_time": "2024-09-29T14:33:47.877874",
     "exception": false,
     "start_time": "2024-09-29T14:33:47.857135",
     "status": "completed"
    },
    "tags": []
   },
   "outputs": [
    {
     "data": {
      "application/javascript": [
       "parent.postMessage({\"jupyterEvent\": \"custom.exercise_interaction\", \"data\": {\"outcomeType\": 1, \"valueTowardsCompletion\": 0.2, \"interactionType\": 1, \"questionType\": 2, \"questionId\": \"1_FoodMenu\", \"learnToolsVersion\": \"0.3.4\", \"failureMessage\": \"\", \"exceptionClass\": \"\", \"trace\": \"\"}}, \"*\")"
      ],
      "text/plain": [
       "<IPython.core.display.Javascript object>"
      ]
     },
     "metadata": {},
     "output_type": "display_data"
    },
    {
     "data": {
      "text/markdown": [
       "<span style=\"color:#33cc33\">Correct</span>"
      ],
      "text/plain": [
       "Correct"
      ]
     },
     "metadata": {},
     "output_type": "display_data"
    }
   ],
   "source": [
    "# Do not change: Initial menu for your restaurant\n",
    "menu = ['stewed meat with onions', 'bean soup', 'risotto with trout and shrimp',\n",
    "       'fish soup with cream and onion', 'gyro']\n",
    "\n",
    "# TODO: remove 'bean soup', and add 'roasted beet salad' to the end of the menu\n",
    "menu.remove(\"bean soup\")\n",
    "menu.append(\"roasted beet salad\")\n",
    "\n",
    "# Do not change: Check your answer\n",
    "q1.check()"
   ]
  },
  {
   "cell_type": "code",
   "execution_count": 3,
   "id": "022fea73",
   "metadata": {
    "execution": {
     "iopub.execute_input": "2024-09-29T14:33:47.893783Z",
     "iopub.status.busy": "2024-09-29T14:33:47.893339Z",
     "iopub.status.idle": "2024-09-29T14:33:47.898640Z",
     "shell.execute_reply": "2024-09-29T14:33:47.897436Z"
    },
    "papermill": {
     "duration": 0.01656,
     "end_time": "2024-09-29T14:33:47.900981",
     "exception": false,
     "start_time": "2024-09-29T14:33:47.884421",
     "status": "completed"
    },
    "tags": []
   },
   "outputs": [],
   "source": [
    "# Uncomment to see a hint\n",
    "#q1.hint()\n",
    "\n",
    "# Uncomment to see the solution\n",
    "#q1.solution()"
   ]
  },
  {
   "cell_type": "markdown",
   "id": "16cd6ac5",
   "metadata": {
    "papermill": {
     "duration": 0.006199,
     "end_time": "2024-09-29T14:33:47.913713",
     "exception": false,
     "start_time": "2024-09-29T14:33:47.907514",
     "status": "completed"
    },
    "tags": []
   },
   "source": [
    "# Question 2\n",
    "\n",
    "The list `num_customers` contains the number of customers who came into your restaurant every day over the last month (which lasted thirty days).  Fill in values for each of the following:\n",
    "- `avg_first_seven` - average number of customers who visited in the first seven days\n",
    "- `avg_last_seven` - average number of customers who visited in the last seven days\n",
    "- `max_month` - number of customers on the day that got the most customers in the last month\n",
    "- `min_month` - number of customers on the day that got the least customers in the last month\n",
    "\n",
    "Answer this question by writing code.  For instance, if you have to find the minimum value in a list, use `min()` instead of scanning for the smallest value and directly filling in a number."
   ]
  },
  {
   "cell_type": "code",
   "execution_count": 4,
   "id": "217ac00c",
   "metadata": {
    "execution": {
     "iopub.execute_input": "2024-09-29T14:33:47.929330Z",
     "iopub.status.busy": "2024-09-29T14:33:47.928225Z",
     "iopub.status.idle": "2024-09-29T14:33:47.939717Z",
     "shell.execute_reply": "2024-09-29T14:33:47.938599Z"
    },
    "papermill": {
     "duration": 0.021526,
     "end_time": "2024-09-29T14:33:47.941891",
     "exception": false,
     "start_time": "2024-09-29T14:33:47.920365",
     "status": "completed"
    },
    "tags": []
   },
   "outputs": [
    {
     "data": {
      "application/javascript": [
       "parent.postMessage({\"jupyterEvent\": \"custom.exercise_interaction\", \"data\": {\"outcomeType\": 1, \"valueTowardsCompletion\": 0.2, \"interactionType\": 1, \"questionType\": 1, \"questionId\": \"2_NumCustomers\", \"learnToolsVersion\": \"0.3.4\", \"failureMessage\": \"\", \"exceptionClass\": \"\", \"trace\": \"\"}}, \"*\")"
      ],
      "text/plain": [
       "<IPython.core.display.Javascript object>"
      ]
     },
     "metadata": {},
     "output_type": "display_data"
    },
    {
     "data": {
      "text/markdown": [
       "<span style=\"color:#33cc33\">Correct</span>"
      ],
      "text/plain": [
       "Correct"
      ]
     },
     "metadata": {},
     "output_type": "display_data"
    }
   ],
   "source": [
    "# Do not change: Number of customers each day for the last month\n",
    "num_customers = [137, 147, 135, 128, 170, 174, 165, 146, 126, 159,\n",
    "                 141, 148, 132, 147, 168, 153, 170, 161, 148, 152,\n",
    "                 141, 151, 131, 149, 164, 163, 143, 143, 166, 171]\n",
    "\n",
    "# TODO: Fill in values for the variables below\n",
    "avg_first_seven = sum(num_customers[:7])/7 \n",
    "avg_last_seven = sum(num_customers[-7:])/7 \n",
    "max_month = max(num_customers)\n",
    "min_month = min(num_customers)\n",
    "\n",
    "# Do not change: Check your answer\n",
    "q2.check()"
   ]
  },
  {
   "cell_type": "code",
   "execution_count": 5,
   "id": "c3b0b1b9",
   "metadata": {
    "execution": {
     "iopub.execute_input": "2024-09-29T14:33:47.957422Z",
     "iopub.status.busy": "2024-09-29T14:33:47.957039Z",
     "iopub.status.idle": "2024-09-29T14:33:47.961877Z",
     "shell.execute_reply": "2024-09-29T14:33:47.960882Z"
    },
    "papermill": {
     "duration": 0.015341,
     "end_time": "2024-09-29T14:33:47.964213",
     "exception": false,
     "start_time": "2024-09-29T14:33:47.948872",
     "status": "completed"
    },
    "tags": []
   },
   "outputs": [],
   "source": [
    "# Uncomment to see a hint\n",
    "#q2.hint()\n",
    "\n",
    "# Uncomment to see the solution\n",
    "#q2.solution()"
   ]
  },
  {
   "cell_type": "markdown",
   "id": "96faf3f2",
   "metadata": {
    "papermill": {
     "duration": 0.007039,
     "end_time": "2024-09-29T14:33:47.978146",
     "exception": false,
     "start_time": "2024-09-29T14:33:47.971107",
     "status": "completed"
    },
    "tags": []
   },
   "source": [
    "# Question 3\n",
    "\n",
    "In the tutorial, we gave an example of a Python string with information that was better as a list."
   ]
  },
  {
   "cell_type": "code",
   "execution_count": 6,
   "id": "0783290b",
   "metadata": {
    "execution": {
     "iopub.execute_input": "2024-09-29T14:33:47.993827Z",
     "iopub.status.busy": "2024-09-29T14:33:47.993006Z",
     "iopub.status.idle": "2024-09-29T14:33:47.998081Z",
     "shell.execute_reply": "2024-09-29T14:33:47.996985Z"
    },
    "papermill": {
     "duration": 0.015343,
     "end_time": "2024-09-29T14:33:48.000282",
     "exception": false,
     "start_time": "2024-09-29T14:33:47.984939",
     "status": "completed"
    },
    "tags": []
   },
   "outputs": [],
   "source": [
    "flowers = \"pink primrose,hard-leaved pocket orchid,canterbury bells,sweet pea,english marigold,tiger lily,moon orchid,bird of paradise,monkshood,globe thistle\""
   ]
  },
  {
   "cell_type": "markdown",
   "id": "ecfcadf4",
   "metadata": {
    "papermill": {
     "duration": 0.006563,
     "end_time": "2024-09-29T14:33:48.013630",
     "exception": false,
     "start_time": "2024-09-29T14:33:48.007067",
     "status": "completed"
    },
    "tags": []
   },
   "source": [
    "You can actually use Python to quickly turn this string into a list with `.split()`.  In the parentheses, we need to provide the character should be used to mark the end of one list item and the beginning of another, and enclose it in quotation marks.  In this case, that character is a comma."
   ]
  },
  {
   "cell_type": "code",
   "execution_count": 7,
   "id": "c70744f8",
   "metadata": {
    "execution": {
     "iopub.execute_input": "2024-09-29T14:33:48.029399Z",
     "iopub.status.busy": "2024-09-29T14:33:48.028280Z",
     "iopub.status.idle": "2024-09-29T14:33:48.034474Z",
     "shell.execute_reply": "2024-09-29T14:33:48.033253Z"
    },
    "papermill": {
     "duration": 0.016581,
     "end_time": "2024-09-29T14:33:48.036895",
     "exception": false,
     "start_time": "2024-09-29T14:33:48.020314",
     "status": "completed"
    },
    "tags": []
   },
   "outputs": [
    {
     "name": "stdout",
     "output_type": "stream",
     "text": [
      "['pink primrose', 'hard-leaved pocket orchid', 'canterbury bells', 'sweet pea', 'english marigold', 'tiger lily', 'moon orchid', 'bird of paradise', 'monkshood', 'globe thistle']\n"
     ]
    }
   ],
   "source": [
    " print(flowers.split(\",\"))"
   ]
  },
  {
   "cell_type": "markdown",
   "id": "c0f52365",
   "metadata": {
    "papermill": {
     "duration": 0.006595,
     "end_time": "2024-09-29T14:33:48.050425",
     "exception": false,
     "start_time": "2024-09-29T14:33:48.043830",
     "status": "completed"
    },
    "tags": []
   },
   "source": [
    "Now it is your turn to try this out!  Create two Python lists:\n",
    "- `letters` should be a Python list where each entry is an uppercase letter of the English alphabet.  For instance, the first two entries should be `\"A\"` and `\"B\"`, and the final two entries should be `\"Y\"` and `\"Z\"`.  Use the string `alphabet` to create this list.\n",
    "- `address` should be a Python list where each row in `address` is a different item in the list.  Currently, each row in `address` is separated by a comma. "
   ]
  },
  {
   "cell_type": "code",
   "execution_count": 8,
   "id": "eb3e64fc",
   "metadata": {
    "execution": {
     "iopub.execute_input": "2024-09-29T14:33:48.066136Z",
     "iopub.status.busy": "2024-09-29T14:33:48.065737Z",
     "iopub.status.idle": "2024-09-29T14:33:48.075836Z",
     "shell.execute_reply": "2024-09-29T14:33:48.074571Z"
    },
    "papermill": {
     "duration": 0.020672,
     "end_time": "2024-09-29T14:33:48.077953",
     "exception": false,
     "start_time": "2024-09-29T14:33:48.057281",
     "status": "completed"
    },
    "tags": []
   },
   "outputs": [
    {
     "data": {
      "application/javascript": [
       "parent.postMessage({\"jupyterEvent\": \"custom.exercise_interaction\", \"data\": {\"outcomeType\": 1, \"valueTowardsCompletion\": 0.2, \"interactionType\": 1, \"questionType\": 1, \"questionId\": \"3_SplitString\", \"learnToolsVersion\": \"0.3.4\", \"failureMessage\": \"\", \"exceptionClass\": \"\", \"trace\": \"\"}}, \"*\")"
      ],
      "text/plain": [
       "<IPython.core.display.Javascript object>"
      ]
     },
     "metadata": {},
     "output_type": "display_data"
    },
    {
     "data": {
      "text/markdown": [
       "<span style=\"color:#33cc33\">Correct</span>"
      ],
      "text/plain": [
       "Correct"
      ]
     },
     "metadata": {},
     "output_type": "display_data"
    }
   ],
   "source": [
    "# DO not change: Define two Python strings\n",
    "alphabet = \"A.B.C.D.E.F.G.H.I.J.K.L.M.N.O.P.Q.R.S.T.U.V.W.X.Y.Z\"\n",
    "address = \"Mr. H. Potter,The cupboard under the Stairs,4 Privet Drive,Little Whinging,Surrey\"\n",
    "\n",
    "# TODO: Convert strings into Python lists\n",
    "letters = alphabet.split(\".\")\n",
    "formatted_address = address.split(\",\")\n",
    "\n",
    "# Do not change: Check your answer\n",
    "q3.check()"
   ]
  },
  {
   "cell_type": "code",
   "execution_count": 9,
   "id": "ac4cee38",
   "metadata": {
    "execution": {
     "iopub.execute_input": "2024-09-29T14:33:48.095273Z",
     "iopub.status.busy": "2024-09-29T14:33:48.094168Z",
     "iopub.status.idle": "2024-09-29T14:33:48.099054Z",
     "shell.execute_reply": "2024-09-29T14:33:48.097995Z"
    },
    "papermill": {
     "duration": 0.016318,
     "end_time": "2024-09-29T14:33:48.101406",
     "exception": false,
     "start_time": "2024-09-29T14:33:48.085088",
     "status": "completed"
    },
    "tags": []
   },
   "outputs": [],
   "source": [
    "# Uncomment to see a hint\n",
    "#q3.hint()\n",
    "\n",
    "# Uncomment to see the solution\n",
    "#q3.solution()"
   ]
  },
  {
   "cell_type": "markdown",
   "id": "a63c4067",
   "metadata": {
    "papermill": {
     "duration": 0.006741,
     "end_time": "2024-09-29T14:33:48.115193",
     "exception": false,
     "start_time": "2024-09-29T14:33:48.108452",
     "status": "completed"
    },
    "tags": []
   },
   "source": [
    "# Question 4\n",
    "\n",
    "In the Python course, you'll learn all about **list comprehensions**, which allow you to create a list based on the values in another list.  In this question, you'll get a brief preview of how they work.\n",
    "\n",
    "Say we're working with the list below."
   ]
  },
  {
   "cell_type": "code",
   "execution_count": 10,
   "id": "45aace6c",
   "metadata": {
    "execution": {
     "iopub.execute_input": "2024-09-29T14:33:48.131947Z",
     "iopub.status.busy": "2024-09-29T14:33:48.130853Z",
     "iopub.status.idle": "2024-09-29T14:33:48.136158Z",
     "shell.execute_reply": "2024-09-29T14:33:48.135023Z"
    },
    "papermill": {
     "duration": 0.016161,
     "end_time": "2024-09-29T14:33:48.138358",
     "exception": false,
     "start_time": "2024-09-29T14:33:48.122197",
     "status": "completed"
    },
    "tags": []
   },
   "outputs": [],
   "source": [
    "test_ratings = [1, 2, 3, 4, 5]"
   ]
  },
  {
   "cell_type": "markdown",
   "id": "498880d3",
   "metadata": {
    "papermill": {
     "duration": 0.006709,
     "end_time": "2024-09-29T14:33:48.152199",
     "exception": false,
     "start_time": "2024-09-29T14:33:48.145490",
     "status": "completed"
    },
    "tags": []
   },
   "source": [
    "Then we can use this list (`test_ratings`) to create a new list (`test_liked`) where each item has been turned into a boolean, depending on whether or not the item is greater than or equal to four."
   ]
  },
  {
   "cell_type": "code",
   "execution_count": 11,
   "id": "a54bad4e",
   "metadata": {
    "execution": {
     "iopub.execute_input": "2024-09-29T14:33:48.168638Z",
     "iopub.status.busy": "2024-09-29T14:33:48.167613Z",
     "iopub.status.idle": "2024-09-29T14:33:48.173503Z",
     "shell.execute_reply": "2024-09-29T14:33:48.172378Z"
    },
    "papermill": {
     "duration": 0.016805,
     "end_time": "2024-09-29T14:33:48.175998",
     "exception": false,
     "start_time": "2024-09-29T14:33:48.159193",
     "status": "completed"
    },
    "tags": []
   },
   "outputs": [
    {
     "name": "stdout",
     "output_type": "stream",
     "text": [
      "[False, False, False, True, True]\n"
     ]
    }
   ],
   "source": [
    "test_liked = [i>=4 for i in test_ratings]\n",
    "print(test_liked)"
   ]
  },
  {
   "cell_type": "markdown",
   "id": "c4222643",
   "metadata": {
    "papermill": {
     "duration": 0.006857,
     "end_time": "2024-09-29T14:33:48.189909",
     "exception": false,
     "start_time": "2024-09-29T14:33:48.183052",
     "status": "completed"
    },
    "tags": []
   },
   "source": [
    "In this question, you'll use this list comprehension to define a function `percentage_liked()` that takes one argument as input:\n",
    "- `ratings`: list of ratings that people gave to a movie, where each rating is a number between 1-5, inclusive\n",
    "\n",
    "We say someone liked the movie, if they gave a rating of either 4 or 5.  Your function should return the percentage of people who liked the movie.\n",
    "\n",
    "For instance, if we supply a value of `[1, 2, 3, 4, 5, 4, 5, 1]`, then 50% (4/8) of the people liked the movie, and the function should return `0.5`.\n",
    "\n",
    "Part of the function has already been completed for you.  You need only use `list_liked` to calculate `percentage_liked`."
   ]
  },
  {
   "cell_type": "code",
   "execution_count": 12,
   "id": "bb7239b9",
   "metadata": {
    "execution": {
     "iopub.execute_input": "2024-09-29T14:33:48.206068Z",
     "iopub.status.busy": "2024-09-29T14:33:48.205575Z",
     "iopub.status.idle": "2024-09-29T14:33:48.215751Z",
     "shell.execute_reply": "2024-09-29T14:33:48.214687Z"
    },
    "papermill": {
     "duration": 0.021071,
     "end_time": "2024-09-29T14:33:48.218003",
     "exception": false,
     "start_time": "2024-09-29T14:33:48.196932",
     "status": "completed"
    },
    "tags": []
   },
   "outputs": [
    {
     "data": {
      "application/javascript": [
       "parent.postMessage({\"jupyterEvent\": \"custom.exercise_interaction\", \"data\": {\"outcomeType\": 1, \"valueTowardsCompletion\": 0.2, \"interactionType\": 1, \"questionType\": 2, \"questionId\": \"4_PercentageLiked\", \"learnToolsVersion\": \"0.3.4\", \"failureMessage\": \"\", \"exceptionClass\": \"\", \"trace\": \"\"}}, \"*\")"
      ],
      "text/plain": [
       "<IPython.core.display.Javascript object>"
      ]
     },
     "metadata": {},
     "output_type": "display_data"
    },
    {
     "data": {
      "text/markdown": [
       "<span style=\"color:#33cc33\">Correct</span>"
      ],
      "text/plain": [
       "Correct"
      ]
     },
     "metadata": {},
     "output_type": "display_data"
    }
   ],
   "source": [
    "\n",
    "def percentage_liked(ratings):\n",
    "    list_liked = [i>=4 for i in ratings]\n",
    "    # TODO: Complete the function\n",
    "    percentage_liked = sum(list_liked)/len(list_liked)\n",
    "    return percentage_liked\n",
    "\n",
    "# Do not change: should return 0.5\n",
    "percentage_liked([1, 2, 3, 4, 5, 4, 5, 1])\n",
    "\n",
    "# Do not change: Check your answer\n",
    "q4.check()"
   ]
  },
  {
   "cell_type": "code",
   "execution_count": 13,
   "id": "6a2aa9dc",
   "metadata": {
    "execution": {
     "iopub.execute_input": "2024-09-29T14:33:48.234922Z",
     "iopub.status.busy": "2024-09-29T14:33:48.234095Z",
     "iopub.status.idle": "2024-09-29T14:33:48.238673Z",
     "shell.execute_reply": "2024-09-29T14:33:48.237612Z"
    },
    "papermill": {
     "duration": 0.01547,
     "end_time": "2024-09-29T14:33:48.240907",
     "exception": false,
     "start_time": "2024-09-29T14:33:48.225437",
     "status": "completed"
    },
    "tags": []
   },
   "outputs": [],
   "source": [
    "# Uncomment to see a hint\n",
    "#q4.hint()\n",
    "\n",
    "# Uncomment to see the solution\n",
    "#q4.solution()"
   ]
  },
  {
   "cell_type": "markdown",
   "id": "c7153398",
   "metadata": {
    "papermill": {
     "duration": 0.007108,
     "end_time": "2024-09-29T14:33:48.255427",
     "exception": false,
     "start_time": "2024-09-29T14:33:48.248319",
     "status": "completed"
    },
    "tags": []
   },
   "source": [
    "# 🌶️ Question 5\n",
    " \n",
    "Say you're doing analytics for a website.  You need to write a function that returns the percentage growth in the total number of users relative to a specified number of years ago.\n",
    "\n",
    "Your function `percentage_growth()` should take two arguments as input:\n",
    "- `num_users` = Python list with the total number of users each year.  So `num_users[0]` is the total number of users in the first year, `num_users[1]` is the total number of users in the second year, and so on.  The final entry in the list gives the total number of users in the most recently completed year.\n",
    "- `yrs_ago` = number of years to go back in time when calculating the growth percentage\n",
    "\n",
    "For instance, say `num_users = [920344, 1043553, 1204334, 1458996, 1503323, 1593432, 1623463, 1843064, 1930992, 2001078]`.\n",
    "- if `yrs_ago = 1`, we want the function to return a value of about `0.036`. This corresponds to a percentage growth of approximately 3.6%, calculated as (2001078 - 1930992)/1930992.\n",
    "- if `years_ago = 7`, we would want to return approximately `0.66`.  This corresponds to a percentage growth of approximately 66%, calculated as (2001078 - 1204334)/1204334.\n",
    "\n",
    "Your coworker sent you a draft of a function, but it doesn't seem to be doing the correct calculation.  Can you figure out what has gone wrong and make the needed changes?"
   ]
  },
  {
   "cell_type": "code",
   "execution_count": 14,
   "id": "053e36e9",
   "metadata": {
    "execution": {
     "iopub.execute_input": "2024-09-29T14:33:48.272206Z",
     "iopub.status.busy": "2024-09-29T14:33:48.271762Z",
     "iopub.status.idle": "2024-09-29T14:33:48.283507Z",
     "shell.execute_reply": "2024-09-29T14:33:48.282364Z"
    },
    "papermill": {
     "duration": 0.023534,
     "end_time": "2024-09-29T14:33:48.286224",
     "exception": false,
     "start_time": "2024-09-29T14:33:48.262690",
     "status": "completed"
    },
    "tags": []
   },
   "outputs": [
    {
     "name": "stdout",
     "output_type": "stream",
     "text": [
      "0.03629533421163837\n",
      "0.6615639847417742\n"
     ]
    },
    {
     "data": {
      "application/javascript": [
       "parent.postMessage({\"jupyterEvent\": \"custom.exercise_interaction\", \"data\": {\"outcomeType\": 1, \"valueTowardsCompletion\": 0.2, \"interactionType\": 1, \"questionType\": 2, \"questionId\": \"5_WebsiteAnalytics\", \"learnToolsVersion\": \"0.3.4\", \"failureMessage\": \"\", \"exceptionClass\": \"\", \"trace\": \"\"}}, \"*\")"
      ],
      "text/plain": [
       "<IPython.core.display.Javascript object>"
      ]
     },
     "metadata": {},
     "output_type": "display_data"
    },
    {
     "data": {
      "text/markdown": [
       "<span style=\"color:#33cc33\">Correct</span>"
      ],
      "text/plain": [
       "Correct"
      ]
     },
     "metadata": {},
     "output_type": "display_data"
    }
   ],
   "source": [
    "# TODO: Edit the function\n",
    "def percentage_growth(num_users, yrs_ago):\n",
    "    growth = (num_users[len(num_users)-1] - num_users[len(num_users)-yrs_ago-1])/num_users[len(num_users)-yrs_ago-1]\n",
    "    return growth\n",
    "\n",
    "# Do not change: Variable for calculating some test examples\n",
    "num_users_test = [920344, 1043553, 1204334, 1458996, 1503323, 1593432, 1623463, 1843064, 1930992, 2001078]\n",
    "\n",
    "# Do not change: Should return .036\n",
    "print(percentage_growth(num_users_test, 1))\n",
    "\n",
    "# Do not change: Should return 0.66\n",
    "print(percentage_growth(num_users_test, 7))\n",
    "\n",
    "# Do not change: Check your answer\n",
    "q5.check()"
   ]
  },
  {
   "cell_type": "code",
   "execution_count": 15,
   "id": "671fb1e5",
   "metadata": {
    "execution": {
     "iopub.execute_input": "2024-09-29T14:33:48.303446Z",
     "iopub.status.busy": "2024-09-29T14:33:48.303014Z",
     "iopub.status.idle": "2024-09-29T14:33:48.308211Z",
     "shell.execute_reply": "2024-09-29T14:33:48.306960Z"
    },
    "papermill": {
     "duration": 0.01637,
     "end_time": "2024-09-29T14:33:48.310397",
     "exception": false,
     "start_time": "2024-09-29T14:33:48.294027",
     "status": "completed"
    },
    "tags": []
   },
   "outputs": [],
   "source": [
    "# Uncomment to see a hint\n",
    "#q5.hint()\n",
    "\n",
    "# Uncomment to see the solution\n",
    "#q5.solution()"
   ]
  },
  {
   "cell_type": "markdown",
   "id": "e093bca8",
   "metadata": {
    "papermill": {
     "duration": 0.007969,
     "end_time": "2024-09-29T14:33:48.326043",
     "exception": false,
     "start_time": "2024-09-29T14:33:48.318074",
     "status": "completed"
    },
    "tags": []
   },
   "source": [
    "# Congratulations!\n",
    "\n",
    "Congratulations for finishing the Intro to Programming course!  You should be proud of your very first steps with learning programming.  As next steps, we recommend taking:\n",
    "- the **[Python course](http://www.kaggle.com/learn/python)**, and \n",
    "- the **[Intro to Machine Learning course](https://www.kaggle.com/learn/intro-to-machine-learning)**."
   ]
  },
  {
   "cell_type": "markdown",
   "id": "25eb9483",
   "metadata": {
    "papermill": {
     "duration": 0.007405,
     "end_time": "2024-09-29T14:33:48.341172",
     "exception": false,
     "start_time": "2024-09-29T14:33:48.333767",
     "status": "completed"
    },
    "tags": []
   },
   "source": [
    "---\n",
    "\n",
    "\n",
    "\n",
    "\n",
    "*Have questions or comments? Visit the [course discussion forum](https://www.kaggle.com/learn/intro-to-programming/discussion) to chat with other learners.*"
   ]
  }
 ],
 "metadata": {
  "kaggle": {
   "accelerator": "none",
   "dataSources": [],
   "isGpuEnabled": false,
   "isInternetEnabled": false,
   "language": "python",
   "sourceType": "notebook"
  },
  "kernelspec": {
   "display_name": "Python 3",
   "language": "python",
   "name": "python3"
  },
  "language_info": {
   "codemirror_mode": {
    "name": "ipython",
    "version": 3
   },
   "file_extension": ".py",
   "mimetype": "text/x-python",
   "name": "python",
   "nbconvert_exporter": "python",
   "pygments_lexer": "ipython3",
   "version": "3.10.14"
  },
  "papermill": {
   "default_parameters": {},
   "duration": 4.870832,
   "end_time": "2024-09-29T14:33:48.870627",
   "environment_variables": {},
   "exception": null,
   "input_path": "__notebook__.ipynb",
   "output_path": "__notebook__.ipynb",
   "parameters": {},
   "start_time": "2024-09-29T14:33:43.999795",
   "version": "2.6.0"
  }
 },
 "nbformat": 4,
 "nbformat_minor": 5
}
