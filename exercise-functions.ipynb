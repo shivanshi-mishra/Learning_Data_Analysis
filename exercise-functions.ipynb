{
 "cells": [
  {
   "cell_type": "markdown",
   "id": "8612ccdf",
   "metadata": {
    "papermill": {
     "duration": 0.007403,
     "end_time": "2024-09-28T18:29:48.983169",
     "exception": false,
     "start_time": "2024-09-28T18:29:48.975766",
     "status": "completed"
    },
    "tags": []
   },
   "source": [
    "**This notebook is an exercise in the [Intro to Programming](https://www.kaggle.com/learn/intro-to-programming) course.  You can reference the tutorial at [this link](https://www.kaggle.com/alexisbcook/functions).**\n",
    "\n",
    "---\n"
   ]
  },
  {
   "cell_type": "markdown",
   "id": "57c53f32",
   "metadata": {
    "papermill": {
     "duration": 0.005446,
     "end_time": "2024-09-28T18:29:48.994819",
     "exception": false,
     "start_time": "2024-09-28T18:29:48.989373",
     "status": "completed"
    },
    "tags": []
   },
   "source": [
    "In the tutorial, you learned about functions. In this exercise, you'll write some of your own!\n",
    "\n",
    "# Set up the notebook\n",
    "\n",
    "Run the next code cell without changes to set up the notebook."
   ]
  },
  {
   "cell_type": "code",
   "execution_count": 1,
   "id": "2490166c",
   "metadata": {
    "execution": {
     "iopub.execute_input": "2024-09-28T18:29:49.007909Z",
     "iopub.status.busy": "2024-09-28T18:29:49.007509Z",
     "iopub.status.idle": "2024-09-28T18:29:50.018763Z",
     "shell.execute_reply": "2024-09-28T18:29:50.016740Z"
    },
    "papermill": {
     "duration": 1.020786,
     "end_time": "2024-09-28T18:29:50.021346",
     "exception": false,
     "start_time": "2024-09-28T18:29:49.000560",
     "status": "completed"
    },
    "tags": []
   },
   "outputs": [
    {
     "name": "stdout",
     "output_type": "stream",
     "text": [
      "Setup complete.\n"
     ]
    }
   ],
   "source": [
    "# Set up the exercise\n",
    "import math\n",
    "from learntools.core import binder\n",
    "binder.bind(globals())\n",
    "from learntools.intro_to_programming.ex2 import *\n",
    "print('Setup complete.')"
   ]
  },
  {
   "cell_type": "markdown",
   "id": "b677b77e",
   "metadata": {
    "papermill": {
     "duration": 0.005626,
     "end_time": "2024-09-28T18:29:50.033146",
     "exception": false,
     "start_time": "2024-09-28T18:29:50.027520",
     "status": "completed"
    },
    "tags": []
   },
   "source": [
    "# Question 1\n",
    "\n",
    "In the [House Prices - Advanced Regression Techniques competition](https://www.kaggle.com/c/house-prices-advanced-regression-techniques/overview), you need to use information like the number of bedrooms and bathrooms to predict the price of a house.  Inspired by this competition, you'll write your own function to do this.\n",
    "\n",
    "In the next code cell, create a function `get_expected_cost()` that has two arguments:\n",
    "- `beds` - number of bedrooms \n",
    "- `baths` - number of bathrooms\n",
    "\n",
    "It should return the expected cost of a house with that number of bedrooms and bathrooms.  Assume that:\n",
    "- the expected cost for a house with 0 bedrooms and 0 bathrooms is `80000`.  \n",
    "- each bedroom adds `30000` to the expected cost\n",
    "- each bathroom adds `10000` to the expected cost.\n",
    "\n",
    "For instance, \n",
    "- a house with 1 bedroom and 1 bathroom has an expected cost of `120000`, and \n",
    "- a house with 2 bedrooms and 1 bathroom has an expected cost of `150000`."
   ]
  },
  {
   "cell_type": "code",
   "execution_count": 2,
   "id": "1f113124",
   "metadata": {
    "execution": {
     "iopub.execute_input": "2024-09-28T18:29:50.047434Z",
     "iopub.status.busy": "2024-09-28T18:29:50.046846Z",
     "iopub.status.idle": "2024-09-28T18:29:50.057681Z",
     "shell.execute_reply": "2024-09-28T18:29:50.056545Z"
    },
    "papermill": {
     "duration": 0.021136,
     "end_time": "2024-09-28T18:29:50.060100",
     "exception": false,
     "start_time": "2024-09-28T18:29:50.038964",
     "status": "completed"
    },
    "tags": []
   },
   "outputs": [
    {
     "data": {
      "application/javascript": [
       "parent.postMessage({\"jupyterEvent\": \"custom.exercise_interaction\", \"data\": {\"outcomeType\": 1, \"valueTowardsCompletion\": 0.2, \"interactionType\": 1, \"questionType\": 2, \"questionId\": \"1_GetExpectedCost\", \"learnToolsVersion\": \"0.3.4\", \"failureMessage\": \"\", \"exceptionClass\": \"\", \"trace\": \"\"}}, \"*\")"
      ],
      "text/plain": [
       "<IPython.core.display.Javascript object>"
      ]
     },
     "metadata": {},
     "output_type": "display_data"
    },
    {
     "data": {
      "text/markdown": [
       "<span style=\"color:#33cc33\">Correct</span>"
      ],
      "text/plain": [
       "Correct"
      ]
     },
     "metadata": {},
     "output_type": "display_data"
    }
   ],
   "source": [
    "# TODO: Complete the function\n",
    "def get_expected_cost(beds, baths):\n",
    "    value = 80000+(beds*30000)+(baths*10000)\n",
    "    return value\n",
    "\n",
    "# Check your answer \n",
    "q1.check()"
   ]
  },
  {
   "cell_type": "code",
   "execution_count": 3,
   "id": "8b4432b9",
   "metadata": {
    "execution": {
     "iopub.execute_input": "2024-09-28T18:29:50.074832Z",
     "iopub.status.busy": "2024-09-28T18:29:50.073790Z",
     "iopub.status.idle": "2024-09-28T18:29:50.078786Z",
     "shell.execute_reply": "2024-09-28T18:29:50.077660Z"
    },
    "papermill": {
     "duration": 0.014783,
     "end_time": "2024-09-28T18:29:50.081075",
     "exception": false,
     "start_time": "2024-09-28T18:29:50.066292",
     "status": "completed"
    },
    "tags": []
   },
   "outputs": [],
   "source": [
    "# Uncomment to see a hint\n",
    "#q1.hint()\n",
    "\n",
    "# Uncomment to view the solution\n",
    "#q1.solution()"
   ]
  },
  {
   "cell_type": "markdown",
   "id": "d06a2bd8",
   "metadata": {
    "papermill": {
     "duration": 0.005752,
     "end_time": "2024-09-28T18:29:50.093918",
     "exception": false,
     "start_time": "2024-09-28T18:29:50.088166",
     "status": "completed"
    },
    "tags": []
   },
   "source": [
    "# Question 2\n",
    "\n",
    "You are thinking about buying a home and want to get an idea of how much you will spend, based on the number of bedrooms and bathrooms.  You are trying to decide between four different options:\n",
    "- Option 1: house with two bedrooms and three bathrooms\n",
    "- Option 2: house with three bedrooms and two bathrooms\n",
    "- Option 3: house with three bedrooms and three bathrooms\n",
    "- Option 4: house with three bedrooms and four bathrooms\n",
    "\n",
    "Use the `get_expected_cost()` function you defined in question 1 to set `option_1`, `option_2`, `option_3`, and `option_4` to the expected cost of each option."
   ]
  },
  {
   "cell_type": "code",
   "execution_count": 4,
   "id": "9f72a18e",
   "metadata": {
    "execution": {
     "iopub.execute_input": "2024-09-28T18:29:50.107767Z",
     "iopub.status.busy": "2024-09-28T18:29:50.107377Z",
     "iopub.status.idle": "2024-09-28T18:29:50.119342Z",
     "shell.execute_reply": "2024-09-28T18:29:50.118139Z"
    },
    "papermill": {
     "duration": 0.022025,
     "end_time": "2024-09-28T18:29:50.121965",
     "exception": false,
     "start_time": "2024-09-28T18:29:50.099940",
     "status": "completed"
    },
    "tags": []
   },
   "outputs": [
    {
     "name": "stdout",
     "output_type": "stream",
     "text": [
      "170000\n",
      "190000\n",
      "200000\n",
      "210000\n"
     ]
    },
    {
     "data": {
      "application/javascript": [
       "parent.postMessage({\"jupyterEvent\": \"custom.exercise_interaction\", \"data\": {\"outcomeType\": 1, \"valueTowardsCompletion\": 0.2, \"interactionType\": 1, \"questionType\": 1, \"questionId\": \"2_RunGetExpectedCost\", \"learnToolsVersion\": \"0.3.4\", \"failureMessage\": \"\", \"exceptionClass\": \"\", \"trace\": \"\"}}, \"*\")"
      ],
      "text/plain": [
       "<IPython.core.display.Javascript object>"
      ]
     },
     "metadata": {},
     "output_type": "display_data"
    },
    {
     "data": {
      "text/markdown": [
       "<span style=\"color:#33cc33\">Correct</span>"
      ],
      "text/plain": [
       "Correct"
      ]
     },
     "metadata": {},
     "output_type": "display_data"
    }
   ],
   "source": [
    "# TODO: Use the get_expected_cost function to fill in each value\n",
    "option_one = get_expected_cost(2,3)\n",
    "option_two = get_expected_cost(3,2)\n",
    "option_three = get_expected_cost(3,3)\n",
    "option_four = get_expected_cost(3,4)\n",
    "\n",
    "print(option_one)\n",
    "print(option_two)\n",
    "print(option_three)\n",
    "print(option_four)\n",
    "\n",
    "# Check your answer\n",
    "q2.check()"
   ]
  },
  {
   "cell_type": "code",
   "execution_count": 5,
   "id": "abc8e36c",
   "metadata": {
    "execution": {
     "iopub.execute_input": "2024-09-28T18:29:50.137091Z",
     "iopub.status.busy": "2024-09-28T18:29:50.136691Z",
     "iopub.status.idle": "2024-09-28T18:29:50.141793Z",
     "shell.execute_reply": "2024-09-28T18:29:50.140584Z"
    },
    "papermill": {
     "duration": 0.015677,
     "end_time": "2024-09-28T18:29:50.144214",
     "exception": false,
     "start_time": "2024-09-28T18:29:50.128537",
     "status": "completed"
    },
    "tags": []
   },
   "outputs": [],
   "source": [
    "# Uncomment to see a hint\n",
    "#q2.hint()\n",
    "\n",
    "# Uncomment to view the solution\n",
    "#q2.solution()"
   ]
  },
  {
   "cell_type": "markdown",
   "id": "97e55295",
   "metadata": {
    "papermill": {
     "duration": 0.00679,
     "end_time": "2024-09-28T18:29:50.157681",
     "exception": false,
     "start_time": "2024-09-28T18:29:50.150891",
     "status": "completed"
    },
    "tags": []
   },
   "source": [
    "# Question 3\n",
    "\n",
    "You're a home decorator, and you'd like to use Python to streamline some of your work.  Specifically, you're creating a tool that you intend to use to calculate the cost of painting a room.\n",
    "\n",
    "As a first step, define a function `get_cost()` that takes as input:\n",
    "- `sqft_walls` = total square feet of walls to be painted\n",
    "- `sqft_ceiling` = square feet of ceiling to be painted\n",
    "- `sqft_per_gallon` = number of square feet that you can cover with one gallon of paint\n",
    "- `cost_per_gallon` = cost (in dollars) of one gallon of paint\n",
    "\n",
    "It should return the cost (in dollars) of putting one coat of paint on all walls and the ceiling.  Assume you can buy the exact amount of paint that you need, so you can buy partial gallons (e.g., if you need 7.523 gallons, you can buy that exact amount, instead of needing to buy 8 gallons and waste some paint).  Do not round your answer."
   ]
  },
  {
   "cell_type": "code",
   "execution_count": 6,
   "id": "2e27b87b",
   "metadata": {
    "execution": {
     "iopub.execute_input": "2024-09-28T18:29:50.173336Z",
     "iopub.status.busy": "2024-09-28T18:29:50.172896Z",
     "iopub.status.idle": "2024-09-28T18:29:50.183521Z",
     "shell.execute_reply": "2024-09-28T18:29:50.182233Z"
    },
    "papermill": {
     "duration": 0.021162,
     "end_time": "2024-09-28T18:29:50.185946",
     "exception": false,
     "start_time": "2024-09-28T18:29:50.164784",
     "status": "completed"
    },
    "tags": []
   },
   "outputs": [
    {
     "data": {
      "application/javascript": [
       "parent.postMessage({\"jupyterEvent\": \"custom.exercise_interaction\", \"data\": {\"outcomeType\": 1, \"valueTowardsCompletion\": 0.2, \"interactionType\": 1, \"questionType\": 2, \"questionId\": \"3_GetCostPaint\", \"learnToolsVersion\": \"0.3.4\", \"failureMessage\": \"\", \"exceptionClass\": \"\", \"trace\": \"\"}}, \"*\")"
      ],
      "text/plain": [
       "<IPython.core.display.Javascript object>"
      ]
     },
     "metadata": {},
     "output_type": "display_data"
    },
    {
     "data": {
      "text/markdown": [
       "<span style=\"color:#33cc33\">Correct</span>"
      ],
      "text/plain": [
       "Correct"
      ]
     },
     "metadata": {},
     "output_type": "display_data"
    }
   ],
   "source": [
    "# TODO: Finish defining the function\n",
    "def get_cost(sqft_walls, sqft_ceiling, sqft_per_gallon, cost_per_gallon):\n",
    "    cost = ((sqft_walls+sqft_ceiling)/sqft_per_gallon)*cost_per_gallon\n",
    "    return cost\n",
    "\n",
    "# Check your answer\n",
    "q3.check()"
   ]
  },
  {
   "cell_type": "code",
   "execution_count": 7,
   "id": "3db11fc9",
   "metadata": {
    "execution": {
     "iopub.execute_input": "2024-09-28T18:29:50.202157Z",
     "iopub.status.busy": "2024-09-28T18:29:50.201718Z",
     "iopub.status.idle": "2024-09-28T18:29:50.206509Z",
     "shell.execute_reply": "2024-09-28T18:29:50.205418Z"
    },
    "papermill": {
     "duration": 0.015804,
     "end_time": "2024-09-28T18:29:50.209148",
     "exception": false,
     "start_time": "2024-09-28T18:29:50.193344",
     "status": "completed"
    },
    "tags": []
   },
   "outputs": [],
   "source": [
    "# Uncomment to see a hint\n",
    "#q3.hint()\n",
    "\n",
    "# Uncomment to view the solution\n",
    "#q3.solution()"
   ]
  },
  {
   "cell_type": "markdown",
   "id": "6b2b8dad",
   "metadata": {
    "papermill": {
     "duration": 0.006476,
     "end_time": "2024-09-28T18:29:50.223690",
     "exception": false,
     "start_time": "2024-09-28T18:29:50.217214",
     "status": "completed"
    },
    "tags": []
   },
   "source": [
    "# Question 4\n",
    "\n",
    "Use the `get_cost()` function you defined in Question 3 to calculate the cost of applying one coat of paint to a room with:\n",
    "- 432 square feet of walls, and\n",
    "- 144 square feet of ceiling.\n",
    "\n",
    "Assume that one gallon of paint covers 400 square feet and costs $15.  As in Question 3, assume you can buy partial gallons of paint.  Do not round your answer."
   ]
  },
  {
   "cell_type": "code",
   "execution_count": 8,
   "id": "d7297f59",
   "metadata": {
    "execution": {
     "iopub.execute_input": "2024-09-28T18:29:50.240378Z",
     "iopub.status.busy": "2024-09-28T18:29:50.239007Z",
     "iopub.status.idle": "2024-09-28T18:29:50.249250Z",
     "shell.execute_reply": "2024-09-28T18:29:50.247893Z"
    },
    "papermill": {
     "duration": 0.022336,
     "end_time": "2024-09-28T18:29:50.252873",
     "exception": false,
     "start_time": "2024-09-28T18:29:50.230537",
     "status": "completed"
    },
    "tags": []
   },
   "outputs": [
    {
     "data": {
      "application/javascript": [
       "parent.postMessage({\"jupyterEvent\": \"custom.exercise_interaction\", \"data\": {\"outcomeType\": 1, \"valueTowardsCompletion\": 0.2, \"interactionType\": 1, \"questionType\": 1, \"questionId\": \"4_GetCostPaintExample\", \"learnToolsVersion\": \"0.3.4\", \"failureMessage\": \"\", \"exceptionClass\": \"\", \"trace\": \"\"}}, \"*\")"
      ],
      "text/plain": [
       "<IPython.core.display.Javascript object>"
      ]
     },
     "metadata": {},
     "output_type": "display_data"
    },
    {
     "data": {
      "text/markdown": [
       "<span style=\"color:#33cc33\">Correct</span>"
      ],
      "text/plain": [
       "Correct"
      ]
     },
     "metadata": {},
     "output_type": "display_data"
    }
   ],
   "source": [
    "# TODO: Set the project_cost variable to the cost of the project\n",
    "project_cost = get_cost(432,144,400,15)\n",
    "\n",
    "# Check your answer\n",
    "q4.check()"
   ]
  },
  {
   "cell_type": "code",
   "execution_count": 9,
   "id": "8d5c00f6",
   "metadata": {
    "execution": {
     "iopub.execute_input": "2024-09-28T18:29:50.268991Z",
     "iopub.status.busy": "2024-09-28T18:29:50.268600Z",
     "iopub.status.idle": "2024-09-28T18:29:50.273213Z",
     "shell.execute_reply": "2024-09-28T18:29:50.272017Z"
    },
    "papermill": {
     "duration": 0.015555,
     "end_time": "2024-09-28T18:29:50.275493",
     "exception": false,
     "start_time": "2024-09-28T18:29:50.259938",
     "status": "completed"
    },
    "tags": []
   },
   "outputs": [],
   "source": [
    "# Uncomment to see a hint\n",
    "#q4.hint()\n",
    "\n",
    "# Uncomment to view the solution\n",
    "#q4.solution()"
   ]
  },
  {
   "cell_type": "markdown",
   "id": "68f61020",
   "metadata": {
    "papermill": {
     "duration": 0.007086,
     "end_time": "2024-09-28T18:29:50.289678",
     "exception": false,
     "start_time": "2024-09-28T18:29:50.282592",
     "status": "completed"
    },
    "tags": []
   },
   "source": [
    "# 🌶️ Question 5\n",
    "\n",
    "Now say you can no longer buy fractions of a gallon.  (For instance, if you need 4.3 gallons to do a project, then you have to buy 5 gallons of paint.)\n",
    "\n",
    "With this new scenario, you will create a new function `get_actual_cost` that uses the same inputs and calculates the cost of your project.\n",
    "\n",
    "One function that you'll need to use to do this is `math.ceil()`.  We demonstrate usage of this function in the code cell below.  It takes as a number as input and rounds the number up to the nearest integer.  \n",
    "\n",
    "Run the next code cell to test this function for yourself.  Feel free to change the value of `test_value` and make sure `math.ceil()` returns the number you expect."
   ]
  },
  {
   "cell_type": "code",
   "execution_count": 10,
   "id": "86422a89",
   "metadata": {
    "execution": {
     "iopub.execute_input": "2024-09-28T18:29:50.306094Z",
     "iopub.status.busy": "2024-09-28T18:29:50.305715Z",
     "iopub.status.idle": "2024-09-28T18:29:50.311274Z",
     "shell.execute_reply": "2024-09-28T18:29:50.310158Z"
    },
    "papermill": {
     "duration": 0.016686,
     "end_time": "2024-09-28T18:29:50.313795",
     "exception": false,
     "start_time": "2024-09-28T18:29:50.297109",
     "status": "completed"
    },
    "tags": []
   },
   "outputs": [
    {
     "name": "stdout",
     "output_type": "stream",
     "text": [
      "3\n"
     ]
    }
   ],
   "source": [
    "test_value = 2.17\n",
    "\n",
    "rounded_value = math.ceil(test_value)\n",
    "print(rounded_value)"
   ]
  },
  {
   "cell_type": "markdown",
   "id": "c5d99ee8",
   "metadata": {
    "papermill": {
     "duration": 0.006696,
     "end_time": "2024-09-28T18:29:50.327589",
     "exception": false,
     "start_time": "2024-09-28T18:29:50.320893",
     "status": "completed"
    },
    "tags": []
   },
   "source": [
    "Use the next code cell to define the function `get_actual_cost()`.  You'll need to use the `math.ceil()` function to do this.\n",
    "\n",
    "When answering this question, note that it's completely valid to define a function that makes use of another function.  For instance, we can define a function `round_up_and_divide_by_three` that makes use of the `math.ceil` function:\n",
    "```\n",
    "def round_up_and_divide_by_three(num):\n",
    "    new_value = math.ceil(num)\n",
    "    final_value = new_value / 3\n",
    "    return final_value\n",
    "```"
   ]
  },
  {
   "cell_type": "code",
   "execution_count": 11,
   "id": "2572d769",
   "metadata": {
    "execution": {
     "iopub.execute_input": "2024-09-28T18:29:50.343396Z",
     "iopub.status.busy": "2024-09-28T18:29:50.342916Z",
     "iopub.status.idle": "2024-09-28T18:29:50.354340Z",
     "shell.execute_reply": "2024-09-28T18:29:50.352849Z"
    },
    "papermill": {
     "duration": 0.022451,
     "end_time": "2024-09-28T18:29:50.357029",
     "exception": false,
     "start_time": "2024-09-28T18:29:50.334578",
     "status": "completed"
    },
    "tags": []
   },
   "outputs": [
    {
     "data": {
      "application/javascript": [
       "parent.postMessage({\"jupyterEvent\": \"custom.exercise_interaction\", \"data\": {\"outcomeType\": 1, \"valueTowardsCompletion\": 0.2, \"interactionType\": 1, \"questionType\": 2, \"questionId\": \"5_NoMoreFractions\", \"learnToolsVersion\": \"0.3.4\", \"failureMessage\": \"\", \"exceptionClass\": \"\", \"trace\": \"\"}}, \"*\")"
      ],
      "text/plain": [
       "<IPython.core.display.Javascript object>"
      ]
     },
     "metadata": {},
     "output_type": "display_data"
    },
    {
     "data": {
      "text/markdown": [
       "<span style=\"color:#33cc33\">Correct</span>"
      ],
      "text/plain": [
       "Correct"
      ]
     },
     "metadata": {},
     "output_type": "display_data"
    }
   ],
   "source": [
    "def get_actual_cost(sqft_walls, sqft_ceiling, sqft_per_gallon, cost_per_gallon):\n",
    "    total_gallon = (sqft_walls+sqft_ceiling)/sqft_per_gallon\n",
    "    cost = math.ceil(total_gallon)*cost_per_gallon\n",
    "    return cost\n",
    "\n",
    "# Check your answer\n",
    "q5.check()"
   ]
  },
  {
   "cell_type": "code",
   "execution_count": 12,
   "id": "9d83d86d",
   "metadata": {
    "execution": {
     "iopub.execute_input": "2024-09-28T18:29:50.373947Z",
     "iopub.status.busy": "2024-09-28T18:29:50.373267Z",
     "iopub.status.idle": "2024-09-28T18:29:50.377882Z",
     "shell.execute_reply": "2024-09-28T18:29:50.376858Z"
    },
    "papermill": {
     "duration": 0.015452,
     "end_time": "2024-09-28T18:29:50.380216",
     "exception": false,
     "start_time": "2024-09-28T18:29:50.364764",
     "status": "completed"
    },
    "tags": []
   },
   "outputs": [],
   "source": [
    "# Uncomment to see a hint\n",
    "#q5.hint()\n",
    "\n",
    "# Uncomment to view the solution\n",
    "#q5.solution()"
   ]
  },
  {
   "cell_type": "markdown",
   "id": "eb1b4285",
   "metadata": {
    "papermill": {
     "duration": 0.006878,
     "end_time": "2024-09-28T18:29:50.394408",
     "exception": false,
     "start_time": "2024-09-28T18:29:50.387530",
     "status": "completed"
    },
    "tags": []
   },
   "source": [
    "Once your function is verified as correct, run the next code cell to calculate the updated cost of your project."
   ]
  },
  {
   "cell_type": "code",
   "execution_count": 13,
   "id": "bd7e2de1",
   "metadata": {
    "execution": {
     "iopub.execute_input": "2024-09-28T18:29:50.411309Z",
     "iopub.status.busy": "2024-09-28T18:29:50.410232Z",
     "iopub.status.idle": "2024-09-28T18:29:50.417600Z",
     "shell.execute_reply": "2024-09-28T18:29:50.416500Z"
    },
    "papermill": {
     "duration": 0.018166,
     "end_time": "2024-09-28T18:29:50.419881",
     "exception": false,
     "start_time": "2024-09-28T18:29:50.401715",
     "status": "completed"
    },
    "tags": []
   },
   "outputs": [
    {
     "data": {
      "text/plain": [
       "30"
      ]
     },
     "execution_count": 13,
     "metadata": {},
     "output_type": "execute_result"
    }
   ],
   "source": [
    "get_actual_cost(432, 144, 400, 15) "
   ]
  },
  {
   "cell_type": "markdown",
   "id": "f9c65de3",
   "metadata": {
    "papermill": {
     "duration": 0.007395,
     "end_time": "2024-09-28T18:29:50.434736",
     "exception": false,
     "start_time": "2024-09-28T18:29:50.427341",
     "status": "completed"
    },
    "tags": []
   },
   "source": [
    "Say you're working with a slightly larger room.  Run the next code cell to calculate the cost of the project."
   ]
  },
  {
   "cell_type": "code",
   "execution_count": 14,
   "id": "04947802",
   "metadata": {
    "execution": {
     "iopub.execute_input": "2024-09-28T18:29:50.451039Z",
     "iopub.status.busy": "2024-09-28T18:29:50.450659Z",
     "iopub.status.idle": "2024-09-28T18:29:50.457336Z",
     "shell.execute_reply": "2024-09-28T18:29:50.456288Z"
    },
    "papermill": {
     "duration": 0.017508,
     "end_time": "2024-09-28T18:29:50.459627",
     "exception": false,
     "start_time": "2024-09-28T18:29:50.442119",
     "status": "completed"
    },
    "tags": []
   },
   "outputs": [
    {
     "data": {
      "text/plain": [
       "45"
      ]
     },
     "execution_count": 14,
     "metadata": {},
     "output_type": "execute_result"
    }
   ],
   "source": [
    "get_actual_cost(594, 288, 400, 15) "
   ]
  },
  {
   "cell_type": "markdown",
   "id": "159dc8e0",
   "metadata": {
    "papermill": {
     "duration": 0.007289,
     "end_time": "2024-09-28T18:29:50.474341",
     "exception": false,
     "start_time": "2024-09-28T18:29:50.467052",
     "status": "completed"
    },
    "tags": []
   },
   "source": [
    "# Keep going\n",
    "\n",
    "Continue to learn about **[data types](https://www.kaggle.com/alexisbcook/data-types)**."
   ]
  },
  {
   "cell_type": "markdown",
   "id": "4aada2f7",
   "metadata": {
    "papermill": {
     "duration": 0.00728,
     "end_time": "2024-09-28T18:29:50.489084",
     "exception": false,
     "start_time": "2024-09-28T18:29:50.481804",
     "status": "completed"
    },
    "tags": []
   },
   "source": [
    "---\n",
    "\n",
    "\n",
    "\n",
    "\n",
    "*Have questions or comments? Visit the [course discussion forum](https://www.kaggle.com/learn/intro-to-programming/discussion) to chat with other learners.*"
   ]
  }
 ],
 "metadata": {
  "kaggle": {
   "accelerator": "none",
   "dataSources": [],
   "isGpuEnabled": false,
   "isInternetEnabled": false,
   "language": "python",
   "sourceType": "notebook"
  },
  "kernelspec": {
   "display_name": "Python 3",
   "language": "python",
   "name": "python3"
  },
  "language_info": {
   "codemirror_mode": {
    "name": "ipython",
    "version": 3
   },
   "file_extension": ".py",
   "mimetype": "text/x-python",
   "name": "python",
   "nbconvert_exporter": "python",
   "pygments_lexer": "ipython3",
   "version": "3.10.14"
  },
  "papermill": {
   "default_parameters": {},
   "duration": 4.947961,
   "end_time": "2024-09-28T18:29:51.018129",
   "environment_variables": {},
   "exception": null,
   "input_path": "__notebook__.ipynb",
   "output_path": "__notebook__.ipynb",
   "parameters": {},
   "start_time": "2024-09-28T18:29:46.070168",
   "version": "2.6.0"
  }
 },
 "nbformat": 4,
 "nbformat_minor": 5
}
